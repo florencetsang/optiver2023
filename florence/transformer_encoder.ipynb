{
 "cells": [
  {
   "cell_type": "markdown",
   "id": "2fd47b81-4823-488e-b9d4-b6d03d67d84d",
   "metadata": {},
   "source": [
    "# Transformer encoder"
   ]
  },
  {
   "cell_type": "code",
   "execution_count": 1,
   "id": "09ba5f06-d483-4625-8b0e-101f05afcb67",
   "metadata": {},
   "outputs": [],
   "source": [
    "%load_ext autoreload\n",
    "%autoreload 2"
   ]
  },
  {
   "cell_type": "code",
   "execution_count": 2,
   "id": "3d284441-83ea-4b5e-bbc2-df7b7f23e04f",
   "metadata": {},
   "outputs": [
    {
     "name": "stderr",
     "output_type": "stream",
     "text": [
      "/userhome/cs2/tsangsyf/anaconda3_2/lib/python3.11/site-packages/transformers/utils/generic.py:260: UserWarning: torch.utils._pytree._register_pytree_node is deprecated. Please use torch.utils._pytree.register_pytree_node instead.\n",
      "  torch.utils._pytree._register_pytree_node(\n"
     ]
    }
   ],
   "source": [
    "import math\n",
    "from os import path\n",
    "import random\n",
    "\n",
    "import numpy as np\n",
    "import pandas as pd\n",
    "\n",
    "import torch\n",
    "from torch import nn, Tensor\n",
    "from torch.nn import TransformerEncoder, TransformerEncoderLayer\n",
    "from torch.optim import AdamW\n",
    "\n",
    "from accelerate import Accelerator\n",
    "\n",
    "import lightning as L\n",
    "from lightning.pytorch import seed_everything\n",
    "from lightning.pytorch.callbacks import RichProgressBar\n",
    "from lightning.pytorch import loggers as pl_loggers\n",
    "\n",
    "# from gluonts.dataset.pandas import PandasDataset\n",
    "# from gluonts.dataset.split import split, InputDataset, LabelDataset\n",
    "# from gluonts.time_feature import (\n",
    "#     time_features_from_frequency_str,\n",
    "#     TimeFeature,\n",
    "#     get_lags_for_frequency,\n",
    "# )\n",
    "# from gluonts.dataset.field_names import FieldName\n",
    "# from gluonts.transform import (\n",
    "#     AddAgeFeature,\n",
    "#     AddObservedValuesIndicator,\n",
    "#     AddTimeFeatures,\n",
    "#     AsNumpyArray,\n",
    "#     Chain,\n",
    "#     ExpectedNumInstanceSampler,\n",
    "#     InstanceSplitter,\n",
    "#     RemoveFields,\n",
    "#     SelectFields,\n",
    "#     SetField,\n",
    "#     TestSplitSampler,\n",
    "#     Transformation,\n",
    "#     ValidationSplitSampler,\n",
    "#     VstackFeatures,\n",
    "#     RenameFields,\n",
    "# )\n",
    "# from gluonts.transform.sampler import InstanceSampler\n",
    "# from gluonts.itertools import Cyclic, Cached\n",
    "# from gluonts.dataset.loader import as_stacked_batches\n",
    "\n",
    "from tqdm import tqdm\n",
    "\n",
    "from typing import Optional, Iterable, Sized, Iterator"
   ]
  },
  {
   "cell_type": "code",
   "execution_count": 3,
   "id": "3df76665-28a9-4213-8151-02415806dddc",
   "metadata": {},
   "outputs": [],
   "source": [
    "from data_preprocessor.data_preprocessor import CompositeDataPreprocessor, ReduceMemUsageDataPreprocessor, FillNaPreProcessor\n",
    "from data_preprocessor.feature_engineering import (\n",
    "    BasicFeaturesPreprocessor,\n",
    "    DupletsTripletsPreprocessor,\n",
    "    MovingAvgPreProcessor,\n",
    "    RemoveIrrelevantFeaturesDataPreprocessor,\n",
    "    DropTargetNADataPreprocessor,\n",
    "    FarNearPriceFillNaPreprocessor,\n",
    "    MovingAvgFillNaPreprocessor,\n",
    "    RemoveRecordsByStockDateIdPreprocessor,\n",
    ")\n",
    "from data_preprocessor.polynomial_features import PolynomialFeaturesPreProcessor"
   ]
  },
  {
   "cell_type": "code",
   "execution_count": 4,
   "id": "83b6c959-8bcf-4068-8a9b-4aab7477111a",
   "metadata": {},
   "outputs": [
    {
     "name": "stderr",
     "output_type": "stream",
     "text": [
      "[rank: 0] Seed set to 42\n"
     ]
    },
    {
     "data": {
      "text/plain": [
       "42"
      ]
     },
     "execution_count": 4,
     "metadata": {},
     "output_type": "execute_result"
    }
   ],
   "source": [
    "# https://lightning.ai/docs/pytorch/stable/common/trainer.html#reproducibility\n",
    "seed_everything(42, workers=True)"
   ]
  },
  {
   "cell_type": "code",
   "execution_count": 5,
   "id": "e7d8b1d3-8a36-4f8c-8f3f-d92e295a4fe0",
   "metadata": {},
   "outputs": [],
   "source": [
    "# TODO: remove logger for better performance (string construction could be slow too)\n",
    "\n",
    "class ModelLogger:\n",
    "    def log(self, msg):\n",
    "        pass\n",
    "\n",
    "    def reset(self):\n",
    "        pass\n",
    "\n",
    "class BasicModelLogger(ModelLogger):\n",
    "    def __init__(self, msg_prefix):\n",
    "        self.msg_prefix = msg_prefix\n",
    "        # self.log_idx = 0\n",
    "\n",
    "    def log(self, msg):\n",
    "        print(f\"{self.msg_prefix} - {msg}\")\n",
    "        # self.log_idx += 1\n",
    "\n",
    "    def reset(self):\n",
    "        # self.log_idx = 0\n",
    "        pass\n",
    "\n",
    "class NoopModelLogger(ModelLogger):\n",
    "    def log(self, msg):\n",
    "        pass\n",
    "\n",
    "    def reset(self):\n",
    "        pass"
   ]
  },
  {
   "cell_type": "markdown",
   "id": "eaa8b75b-6d45-48ad-9930-16263cafbabe",
   "metadata": {},
   "source": [
    "# Model\n",
    "\n",
    "TODO:\n",
    "1. use input_ff_sigmoid?\n",
    "2. any further model enhancement?"
   ]
  },
  {
   "cell_type": "code",
   "execution_count": 6,
   "id": "fc303388-ea46-4812-808d-9ffd9984fb78",
   "metadata": {},
   "outputs": [],
   "source": [
    "class TransformerModel(nn.Module):\n",
    "    def __init__(\n",
    "        self,\n",
    "        num_input_features: int,\n",
    "        num_classes: int,\n",
    "        embedding_dim: int,\n",
    "        d_model: int,\n",
    "        nhead: int,\n",
    "        d_hid: int,\n",
    "        nlayers: int,\n",
    "        dropout: float,\n",
    "        logger: ModelLogger,\n",
    "    ):\n",
    "        super().__init__()\n",
    "        self.model_type = 'Transformer'\n",
    "        self.embedding = nn.Embedding(num_classes, embedding_dim)\n",
    "        self.input_ff = nn.Linear(num_input_features + embedding_dim, d_model)\n",
    "        self.input_ff_sigmoid = nn.Sigmoid()\n",
    "        encoder_layers = TransformerEncoderLayer(d_model, nhead, d_hid, dropout, batch_first=True)\n",
    "        self.transformer_encoder = TransformerEncoder(encoder_layers, nlayers)\n",
    "        self.d_model = d_model\n",
    "        self.final_linear = nn.Linear(d_model, 1)\n",
    "        self.logger = logger\n",
    "\n",
    "    def forward(\n",
    "        self,\n",
    "        src: Tensor,\n",
    "        item_ids: Tensor,\n",
    "        src_mask: Tensor = None,\n",
    "    ) -> Tensor:\n",
    "        # src: [batch_size b, seq_len k 55, features 27]\n",
    "        # item_ids: [batch_size b]\n",
    "        batch_size = src.size(dim=0)\n",
    "        seq_len = src.size(dim=1)\n",
    "        num_input_features = src.size(dim=2)\n",
    "        output = src\n",
    "        embedded = self.embedding(item_ids)\n",
    "        # idea from https://github.com/huggingface/transformers/blob/v4.38.2/src/transformers/models/time_series_transformer/modeling_time_series_transformer.py#L1290\n",
    "        embedded = embedded.unsqueeze(dim=1).expand(-1, seq_len, -1)\n",
    "\n",
    "        output = torch.cat((src, embedded), dim=-1)\n",
    "        # [batch_size b, seq_len k 55, features 27 + embedding_dim]\n",
    "        self.logger.log(f\"{output.size()}\")\n",
    "\n",
    "        output = self.input_ff(output)\n",
    "        # [batch_size b, seq_len k 55, d_model]\n",
    "        self.logger.log(f\"input_ff - {output.size()}\")\n",
    "\n",
    "        # TODO: do we need sigmoid?\n",
    "        # output = self.input_ff_sigmoid(output)\n",
    "        # self.logger.log(f\"input_ff_sigmoid - {output.size()}\")\n",
    "\n",
    "        if src_mask is None:\n",
    "            \"\"\"Generate a square causal mask for the sequence. The masked positions are filled with float('-inf').\n",
    "            Unmasked positions are filled with float(0.0).\n",
    "            \"\"\"\n",
    "            src_mask = nn.Transformer.generate_square_subsequent_mask(src.size(dim=1))\n",
    "            # no \"to device\" for lightning\n",
    "            # https://pytorch.org/docs/stable/generated/torch.Tensor.to.html#torch.Tensor.to\n",
    "            src_mask = src_mask.to(output)\n",
    "            # src_mask = squared (triangle matrix) matrix [seq_len k 55, seq_len k 55]\n",
    "        self.logger.log(f\"src_mask - {src_mask.size()}\")\n",
    "\n",
    "        output = self.transformer_encoder(output, src_mask)\n",
    "        # [batch_size b, seq_len k 55, d_model]\n",
    "        self.logger.log(f\"encoder - {output.size()}\")\n",
    "\n",
    "        output = self.final_linear(output)\n",
    "        # [batch_size b, seq_len k 55, 1]\n",
    "        self.logger.log(f\"final_linear - {output.size()}\")\n",
    "\n",
    "        # take the \"last\" prediction, which includes all previous information\n",
    "        output = output[:, -1, :]\n",
    "        # [batch_size b, 1]\n",
    "        output = output.squeeze(dim=1)\n",
    "        # [batch_size b]\n",
    "        self.logger.log(f\"output - {output.size()}\")\n",
    "\n",
    "        return output"
   ]
  },
  {
   "cell_type": "code",
   "execution_count": 7,
   "id": "6dad7341-2919-4623-9c05-47057d950bed",
   "metadata": {},
   "outputs": [],
   "source": [
    "# https://stackoverflow.com/questions/49433936/how-do-i-initialize-weights-in-pytorch\n",
    "# https://pytorch.org/docs/stable/nn.init.html#torch.nn.init.xavier_uniform_\n",
    "def init_weights(m):\n",
    "    if isinstance(m, nn.Linear):\n",
    "        torch.nn.init.xavier_uniform_(m.weight)\n",
    "        m.bias.data.fill_(0.01)"
   ]
  },
  {
   "cell_type": "markdown",
   "id": "63b71edd-ebc9-41f5-8f80-984b55e48674",
   "metadata": {},
   "source": [
    "## Load data"
   ]
  },
  {
   "cell_type": "code",
   "execution_count": 8,
   "id": "5316823f-0a3f-4dfd-ad2e-21944357b04a",
   "metadata": {},
   "outputs": [],
   "source": [
    "df = pd.read_csv(\n",
    "    \"../optiver-trading-at-the-close/train.csv\",\n",
    "    dtype={\n",
    "        # stock_id should be int64 / long for embedding\n",
    "        \"date_id\": np.float32,\n",
    "        \"seconds_in_bucket\": np.float32,\n",
    "        \"imbalance_size\": np.float32,\n",
    "        \"imbalance_buy_sell_flag\": np.float32,\n",
    "        \"reference_price\": np.float32,\n",
    "        \"matched_size\": np.float32,\n",
    "        \"far_price\": np.float32,\n",
    "        \"near_price\": np.float32,\n",
    "        \"bid_price\": np.float32,\n",
    "        \"bid_size\": np.float32,\n",
    "        \"ask_price\": np.float32,\n",
    "        \"ask_size\": np.float32,\n",
    "        \"wap\": np.float32,\n",
    "        \"target\": np.float32,\n",
    "        \"time_id\": np.float32,\n",
    "    },\n",
    ")\n",
    "raw_df = df"
   ]
  },
  {
   "cell_type": "code",
   "execution_count": 9,
   "id": "2294ef50-c777-4ace-8624-8e966ba0f0f6",
   "metadata": {},
   "outputs": [],
   "source": [
    "# deep copy for easy reference to raw df without reloading from csv\n",
    "df = raw_df.copy(deep=True)"
   ]
  },
  {
   "cell_type": "code",
   "execution_count": 10,
   "id": "a4d6efd1-8e47-4daa-a597-dda8fd29abbe",
   "metadata": {},
   "outputs": [
    {
     "data": {
      "text/html": [
       "<div>\n",
       "<style scoped>\n",
       "    .dataframe tbody tr th:only-of-type {\n",
       "        vertical-align: middle;\n",
       "    }\n",
       "\n",
       "    .dataframe tbody tr th {\n",
       "        vertical-align: top;\n",
       "    }\n",
       "\n",
       "    .dataframe thead th {\n",
       "        text-align: right;\n",
       "    }\n",
       "</style>\n",
       "<table border=\"1\" class=\"dataframe\">\n",
       "  <thead>\n",
       "    <tr style=\"text-align: right;\">\n",
       "      <th></th>\n",
       "      <th>stock_id</th>\n",
       "      <th>date_id</th>\n",
       "      <th>seconds_in_bucket</th>\n",
       "      <th>imbalance_size</th>\n",
       "      <th>imbalance_buy_sell_flag</th>\n",
       "      <th>reference_price</th>\n",
       "      <th>matched_size</th>\n",
       "      <th>far_price</th>\n",
       "      <th>near_price</th>\n",
       "      <th>bid_price</th>\n",
       "      <th>bid_size</th>\n",
       "      <th>ask_price</th>\n",
       "      <th>ask_size</th>\n",
       "      <th>wap</th>\n",
       "      <th>target</th>\n",
       "      <th>time_id</th>\n",
       "      <th>row_id</th>\n",
       "    </tr>\n",
       "  </thead>\n",
       "  <tbody>\n",
       "    <tr>\n",
       "      <th>0</th>\n",
       "      <td>0</td>\n",
       "      <td>0.0</td>\n",
       "      <td>0.0</td>\n",
       "      <td>3.180603e+06</td>\n",
       "      <td>1.0</td>\n",
       "      <td>0.999812</td>\n",
       "      <td>13380277.00</td>\n",
       "      <td>NaN</td>\n",
       "      <td>NaN</td>\n",
       "      <td>0.999812</td>\n",
       "      <td>60651.500000</td>\n",
       "      <td>1.000026</td>\n",
       "      <td>8493.030273</td>\n",
       "      <td>1.000000</td>\n",
       "      <td>-3.029704</td>\n",
       "      <td>0.0</td>\n",
       "      <td>0_0_0</td>\n",
       "    </tr>\n",
       "    <tr>\n",
       "      <th>1</th>\n",
       "      <td>1</td>\n",
       "      <td>0.0</td>\n",
       "      <td>0.0</td>\n",
       "      <td>1.666039e+05</td>\n",
       "      <td>-1.0</td>\n",
       "      <td>0.999896</td>\n",
       "      <td>1642214.25</td>\n",
       "      <td>NaN</td>\n",
       "      <td>NaN</td>\n",
       "      <td>0.999896</td>\n",
       "      <td>3233.040039</td>\n",
       "      <td>1.000660</td>\n",
       "      <td>20605.089844</td>\n",
       "      <td>1.000000</td>\n",
       "      <td>-5.519986</td>\n",
       "      <td>0.0</td>\n",
       "      <td>0_0_1</td>\n",
       "    </tr>\n",
       "    <tr>\n",
       "      <th>2</th>\n",
       "      <td>2</td>\n",
       "      <td>0.0</td>\n",
       "      <td>0.0</td>\n",
       "      <td>3.028799e+05</td>\n",
       "      <td>-1.0</td>\n",
       "      <td>0.999561</td>\n",
       "      <td>1819368.00</td>\n",
       "      <td>NaN</td>\n",
       "      <td>NaN</td>\n",
       "      <td>0.999403</td>\n",
       "      <td>37956.000000</td>\n",
       "      <td>1.000298</td>\n",
       "      <td>18995.000000</td>\n",
       "      <td>1.000000</td>\n",
       "      <td>-8.389950</td>\n",
       "      <td>0.0</td>\n",
       "      <td>0_0_2</td>\n",
       "    </tr>\n",
       "    <tr>\n",
       "      <th>3</th>\n",
       "      <td>3</td>\n",
       "      <td>0.0</td>\n",
       "      <td>0.0</td>\n",
       "      <td>1.191768e+07</td>\n",
       "      <td>-1.0</td>\n",
       "      <td>1.000171</td>\n",
       "      <td>18389746.00</td>\n",
       "      <td>NaN</td>\n",
       "      <td>NaN</td>\n",
       "      <td>0.999999</td>\n",
       "      <td>2324.899902</td>\n",
       "      <td>1.000214</td>\n",
       "      <td>479032.406250</td>\n",
       "      <td>1.000000</td>\n",
       "      <td>-4.010201</td>\n",
       "      <td>0.0</td>\n",
       "      <td>0_0_3</td>\n",
       "    </tr>\n",
       "    <tr>\n",
       "      <th>4</th>\n",
       "      <td>4</td>\n",
       "      <td>0.0</td>\n",
       "      <td>0.0</td>\n",
       "      <td>4.475500e+05</td>\n",
       "      <td>-1.0</td>\n",
       "      <td>0.999532</td>\n",
       "      <td>17860614.00</td>\n",
       "      <td>NaN</td>\n",
       "      <td>NaN</td>\n",
       "      <td>0.999394</td>\n",
       "      <td>16485.539062</td>\n",
       "      <td>1.000016</td>\n",
       "      <td>434.100006</td>\n",
       "      <td>1.000000</td>\n",
       "      <td>-7.349849</td>\n",
       "      <td>0.0</td>\n",
       "      <td>0_0_4</td>\n",
       "    </tr>\n",
       "    <tr>\n",
       "      <th>...</th>\n",
       "      <td>...</td>\n",
       "      <td>...</td>\n",
       "      <td>...</td>\n",
       "      <td>...</td>\n",
       "      <td>...</td>\n",
       "      <td>...</td>\n",
       "      <td>...</td>\n",
       "      <td>...</td>\n",
       "      <td>...</td>\n",
       "      <td>...</td>\n",
       "      <td>...</td>\n",
       "      <td>...</td>\n",
       "      <td>...</td>\n",
       "      <td>...</td>\n",
       "      <td>...</td>\n",
       "      <td>...</td>\n",
       "      <td>...</td>\n",
       "    </tr>\n",
       "    <tr>\n",
       "      <th>5237975</th>\n",
       "      <td>195</td>\n",
       "      <td>480.0</td>\n",
       "      <td>540.0</td>\n",
       "      <td>2.440723e+06</td>\n",
       "      <td>-1.0</td>\n",
       "      <td>1.000317</td>\n",
       "      <td>28280362.00</td>\n",
       "      <td>0.999734</td>\n",
       "      <td>0.999734</td>\n",
       "      <td>1.000317</td>\n",
       "      <td>32257.039062</td>\n",
       "      <td>1.000434</td>\n",
       "      <td>319862.406250</td>\n",
       "      <td>1.000328</td>\n",
       "      <td>2.310276</td>\n",
       "      <td>26454.0</td>\n",
       "      <td>480_540_195</td>\n",
       "    </tr>\n",
       "    <tr>\n",
       "      <th>5237976</th>\n",
       "      <td>196</td>\n",
       "      <td>480.0</td>\n",
       "      <td>540.0</td>\n",
       "      <td>3.495105e+05</td>\n",
       "      <td>-1.0</td>\n",
       "      <td>1.000643</td>\n",
       "      <td>9187699.00</td>\n",
       "      <td>1.000129</td>\n",
       "      <td>1.000386</td>\n",
       "      <td>1.000643</td>\n",
       "      <td>205108.406250</td>\n",
       "      <td>1.000900</td>\n",
       "      <td>93393.070312</td>\n",
       "      <td>1.000819</td>\n",
       "      <td>-8.220077</td>\n",
       "      <td>26454.0</td>\n",
       "      <td>480_540_196</td>\n",
       "    </tr>\n",
       "    <tr>\n",
       "      <th>5237977</th>\n",
       "      <td>197</td>\n",
       "      <td>480.0</td>\n",
       "      <td>540.0</td>\n",
       "      <td>0.000000e+00</td>\n",
       "      <td>0.0</td>\n",
       "      <td>0.995789</td>\n",
       "      <td>12725436.00</td>\n",
       "      <td>0.995789</td>\n",
       "      <td>0.995789</td>\n",
       "      <td>0.995789</td>\n",
       "      <td>16790.660156</td>\n",
       "      <td>0.995883</td>\n",
       "      <td>180038.312500</td>\n",
       "      <td>0.995797</td>\n",
       "      <td>1.169443</td>\n",
       "      <td>26454.0</td>\n",
       "      <td>480_540_197</td>\n",
       "    </tr>\n",
       "    <tr>\n",
       "      <th>5237978</th>\n",
       "      <td>198</td>\n",
       "      <td>480.0</td>\n",
       "      <td>540.0</td>\n",
       "      <td>1.000899e+06</td>\n",
       "      <td>1.0</td>\n",
       "      <td>0.999210</td>\n",
       "      <td>94773272.00</td>\n",
       "      <td>0.999210</td>\n",
       "      <td>0.999210</td>\n",
       "      <td>0.998970</td>\n",
       "      <td>125631.718750</td>\n",
       "      <td>0.999210</td>\n",
       "      <td>669893.000000</td>\n",
       "      <td>0.999008</td>\n",
       "      <td>-1.540184</td>\n",
       "      <td>26454.0</td>\n",
       "      <td>480_540_198</td>\n",
       "    </tr>\n",
       "    <tr>\n",
       "      <th>5237979</th>\n",
       "      <td>199</td>\n",
       "      <td>480.0</td>\n",
       "      <td>540.0</td>\n",
       "      <td>1.884286e+06</td>\n",
       "      <td>-1.0</td>\n",
       "      <td>1.002129</td>\n",
       "      <td>24073678.00</td>\n",
       "      <td>1.000859</td>\n",
       "      <td>1.001494</td>\n",
       "      <td>1.002129</td>\n",
       "      <td>250081.437500</td>\n",
       "      <td>1.002447</td>\n",
       "      <td>300167.562500</td>\n",
       "      <td>1.002274</td>\n",
       "      <td>-6.530285</td>\n",
       "      <td>26454.0</td>\n",
       "      <td>480_540_199</td>\n",
       "    </tr>\n",
       "  </tbody>\n",
       "</table>\n",
       "<p>5237980 rows × 17 columns</p>\n",
       "</div>"
      ],
      "text/plain": [
       "         stock_id  date_id  seconds_in_bucket  imbalance_size  \\\n",
       "0               0      0.0                0.0    3.180603e+06   \n",
       "1               1      0.0                0.0    1.666039e+05   \n",
       "2               2      0.0                0.0    3.028799e+05   \n",
       "3               3      0.0                0.0    1.191768e+07   \n",
       "4               4      0.0                0.0    4.475500e+05   \n",
       "...           ...      ...                ...             ...   \n",
       "5237975       195    480.0              540.0    2.440723e+06   \n",
       "5237976       196    480.0              540.0    3.495105e+05   \n",
       "5237977       197    480.0              540.0    0.000000e+00   \n",
       "5237978       198    480.0              540.0    1.000899e+06   \n",
       "5237979       199    480.0              540.0    1.884286e+06   \n",
       "\n",
       "         imbalance_buy_sell_flag  reference_price  matched_size  far_price  \\\n",
       "0                            1.0         0.999812   13380277.00        NaN   \n",
       "1                           -1.0         0.999896    1642214.25        NaN   \n",
       "2                           -1.0         0.999561    1819368.00        NaN   \n",
       "3                           -1.0         1.000171   18389746.00        NaN   \n",
       "4                           -1.0         0.999532   17860614.00        NaN   \n",
       "...                          ...              ...           ...        ...   \n",
       "5237975                     -1.0         1.000317   28280362.00   0.999734   \n",
       "5237976                     -1.0         1.000643    9187699.00   1.000129   \n",
       "5237977                      0.0         0.995789   12725436.00   0.995789   \n",
       "5237978                      1.0         0.999210   94773272.00   0.999210   \n",
       "5237979                     -1.0         1.002129   24073678.00   1.000859   \n",
       "\n",
       "         near_price  bid_price       bid_size  ask_price       ask_size  \\\n",
       "0               NaN   0.999812   60651.500000   1.000026    8493.030273   \n",
       "1               NaN   0.999896    3233.040039   1.000660   20605.089844   \n",
       "2               NaN   0.999403   37956.000000   1.000298   18995.000000   \n",
       "3               NaN   0.999999    2324.899902   1.000214  479032.406250   \n",
       "4               NaN   0.999394   16485.539062   1.000016     434.100006   \n",
       "...             ...        ...            ...        ...            ...   \n",
       "5237975    0.999734   1.000317   32257.039062   1.000434  319862.406250   \n",
       "5237976    1.000386   1.000643  205108.406250   1.000900   93393.070312   \n",
       "5237977    0.995789   0.995789   16790.660156   0.995883  180038.312500   \n",
       "5237978    0.999210   0.998970  125631.718750   0.999210  669893.000000   \n",
       "5237979    1.001494   1.002129  250081.437500   1.002447  300167.562500   \n",
       "\n",
       "              wap    target  time_id       row_id  \n",
       "0        1.000000 -3.029704      0.0        0_0_0  \n",
       "1        1.000000 -5.519986      0.0        0_0_1  \n",
       "2        1.000000 -8.389950      0.0        0_0_2  \n",
       "3        1.000000 -4.010201      0.0        0_0_3  \n",
       "4        1.000000 -7.349849      0.0        0_0_4  \n",
       "...           ...       ...      ...          ...  \n",
       "5237975  1.000328  2.310276  26454.0  480_540_195  \n",
       "5237976  1.000819 -8.220077  26454.0  480_540_196  \n",
       "5237977  0.995797  1.169443  26454.0  480_540_197  \n",
       "5237978  0.999008 -1.540184  26454.0  480_540_198  \n",
       "5237979  1.002274 -6.530285  26454.0  480_540_199  \n",
       "\n",
       "[5237980 rows x 17 columns]"
      ]
     },
     "execution_count": 10,
     "metadata": {},
     "output_type": "execute_result"
    }
   ],
   "source": [
    "df"
   ]
  },
  {
   "cell_type": "markdown",
   "id": "532f86ef-d1a7-4fd9-b4fb-51317ad6aa43",
   "metadata": {},
   "source": [
    "## Data pre-processing and features"
   ]
  },
  {
   "cell_type": "code",
   "execution_count": 11,
   "id": "39b55231-1237-441f-a6e0-ef0c846e592f",
   "metadata": {},
   "outputs": [],
   "source": [
    "processors = [\n",
    "    RemoveRecordsByStockDateIdPreprocessor([\n",
    "        {\"stock_id\": 19, \"date_id\": 438},\n",
    "        {\"stock_id\": 101, \"date_id\": 328},\n",
    "        {\"stock_id\": 131, \"date_id\": 35},\n",
    "        {\"stock_id\": 158, \"date_id\": 388},\n",
    "    ]),\n",
    "    FarNearPriceFillNaPreprocessor(),\n",
    "    # ReduceMemUsageDataPreprocessor(verbose=True),\n",
    "    # BasicFeaturesPreprocessor(),    \n",
    "    # DupletsTripletsPreprocessor(),\n",
    "    MovingAvgPreProcessor(\"wap\"),\n",
    "    MovingAvgFillNaPreprocessor(\"wap\", 1.0),\n",
    "    # StockIdFeaturesPreProcessor(),  \n",
    "    # DropTargetNADataPreprocessor(),    \n",
    "    # RemoveIrrelevantFeaturesDataPreprocessor(['stock_id', 'date_id','time_id', 'row_id']),\n",
    "    # FillNaPreProcessor(),\n",
    "    # PolynomialFeaturesPreProcessor(),\n",
    "]\n",
    "processor = CompositeDataPreprocessor(processors)"
   ]
  },
  {
   "cell_type": "code",
   "execution_count": 12,
   "id": "d0187ad1-6a4f-46f3-92bc-47973e0250dd",
   "metadata": {},
   "outputs": [
    {
     "name": "stdout",
     "output_type": "stream",
     "text": [
      "CompositeDataPreprocessor - original df shape: (5237980, 17)\n",
      "Processing RemoveRecordsByStockDateIdPreprocessor...\n",
      "RemoveRecordsByStockDateIdPreprocessor - removing 220 records\n",
      "RemoveRecordsByStockDateIdPreprocessor took 0.76s. New df shape: (5237760, 17).\n",
      "Processing FarNearPriceFillNaPreprocessor...\n",
      "FarNearPriceFillNaPreprocessor took 0.07s. New df shape: (5237760, 17).\n",
      "Processing MovingAvgPreProcessor...\n",
      "MovingAvgPreProcessor took 29.55s. New df shape: (5237760, 21).\n",
      "Processing MovingAvgFillNaPreprocessor...\n",
      "MovingAvgFillNaPreprocessor took 0.15s. New df shape: (5237760, 21).\n",
      "CompositeDataPreprocessor - final df shape: (5237760, 21)\n"
     ]
    }
   ],
   "source": [
    "df = processor.apply(df)"
   ]
  },
  {
   "cell_type": "code",
   "execution_count": 13,
   "id": "e974f358-9e3b-437b-856d-b60559107eff",
   "metadata": {},
   "outputs": [
    {
     "name": "stdout",
     "output_type": "stream",
     "text": [
      "Index(['stock_id', 'date_id', 'seconds_in_bucket', 'imbalance_size',\n",
      "       'imbalance_buy_sell_flag', 'reference_price', 'matched_size',\n",
      "       'far_price', 'near_price', 'bid_price', 'bid_size', 'ask_price',\n",
      "       'ask_size', 'wap', 'target', 'time_id', 'row_id', 'wap_mov_avg_3_1',\n",
      "       'wap_mov_avg_6_3', 'wap_mov_avg_12_6', 'wap_mov_avg_24_12'],\n",
      "      dtype='object')\n"
     ]
    },
    {
     "data": {
      "text/html": [
       "<div>\n",
       "<style scoped>\n",
       "    .dataframe tbody tr th:only-of-type {\n",
       "        vertical-align: middle;\n",
       "    }\n",
       "\n",
       "    .dataframe tbody tr th {\n",
       "        vertical-align: top;\n",
       "    }\n",
       "\n",
       "    .dataframe thead th {\n",
       "        text-align: right;\n",
       "    }\n",
       "</style>\n",
       "<table border=\"1\" class=\"dataframe\">\n",
       "  <thead>\n",
       "    <tr style=\"text-align: right;\">\n",
       "      <th></th>\n",
       "      <th>stock_id</th>\n",
       "      <th>date_id</th>\n",
       "      <th>seconds_in_bucket</th>\n",
       "      <th>imbalance_size</th>\n",
       "      <th>imbalance_buy_sell_flag</th>\n",
       "      <th>reference_price</th>\n",
       "      <th>matched_size</th>\n",
       "      <th>far_price</th>\n",
       "      <th>near_price</th>\n",
       "      <th>bid_price</th>\n",
       "      <th>...</th>\n",
       "      <th>ask_price</th>\n",
       "      <th>ask_size</th>\n",
       "      <th>wap</th>\n",
       "      <th>target</th>\n",
       "      <th>time_id</th>\n",
       "      <th>row_id</th>\n",
       "      <th>wap_mov_avg_3_1</th>\n",
       "      <th>wap_mov_avg_6_3</th>\n",
       "      <th>wap_mov_avg_12_6</th>\n",
       "      <th>wap_mov_avg_24_12</th>\n",
       "    </tr>\n",
       "  </thead>\n",
       "  <tbody>\n",
       "    <tr>\n",
       "      <th>0</th>\n",
       "      <td>0</td>\n",
       "      <td>0.0</td>\n",
       "      <td>0.0</td>\n",
       "      <td>3.180603e+06</td>\n",
       "      <td>1.0</td>\n",
       "      <td>0.999812</td>\n",
       "      <td>13380277.00</td>\n",
       "      <td>1.000000</td>\n",
       "      <td>1.000000</td>\n",
       "      <td>0.999812</td>\n",
       "      <td>...</td>\n",
       "      <td>1.000026</td>\n",
       "      <td>8493.030273</td>\n",
       "      <td>1.000000</td>\n",
       "      <td>-3.029704</td>\n",
       "      <td>0.0</td>\n",
       "      <td>0_0_0</td>\n",
       "      <td>1.000000</td>\n",
       "      <td>1.000000</td>\n",
       "      <td>1.000000</td>\n",
       "      <td>1.000000</td>\n",
       "    </tr>\n",
       "    <tr>\n",
       "      <th>1</th>\n",
       "      <td>1</td>\n",
       "      <td>0.0</td>\n",
       "      <td>0.0</td>\n",
       "      <td>1.666039e+05</td>\n",
       "      <td>-1.0</td>\n",
       "      <td>0.999896</td>\n",
       "      <td>1642214.25</td>\n",
       "      <td>1.000000</td>\n",
       "      <td>1.000000</td>\n",
       "      <td>0.999896</td>\n",
       "      <td>...</td>\n",
       "      <td>1.000660</td>\n",
       "      <td>20605.089844</td>\n",
       "      <td>1.000000</td>\n",
       "      <td>-5.519986</td>\n",
       "      <td>0.0</td>\n",
       "      <td>0_0_1</td>\n",
       "      <td>1.000000</td>\n",
       "      <td>1.000000</td>\n",
       "      <td>1.000000</td>\n",
       "      <td>1.000000</td>\n",
       "    </tr>\n",
       "    <tr>\n",
       "      <th>2</th>\n",
       "      <td>2</td>\n",
       "      <td>0.0</td>\n",
       "      <td>0.0</td>\n",
       "      <td>3.028799e+05</td>\n",
       "      <td>-1.0</td>\n",
       "      <td>0.999561</td>\n",
       "      <td>1819368.00</td>\n",
       "      <td>1.000000</td>\n",
       "      <td>1.000000</td>\n",
       "      <td>0.999403</td>\n",
       "      <td>...</td>\n",
       "      <td>1.000298</td>\n",
       "      <td>18995.000000</td>\n",
       "      <td>1.000000</td>\n",
       "      <td>-8.389950</td>\n",
       "      <td>0.0</td>\n",
       "      <td>0_0_2</td>\n",
       "      <td>1.000000</td>\n",
       "      <td>1.000000</td>\n",
       "      <td>1.000000</td>\n",
       "      <td>1.000000</td>\n",
       "    </tr>\n",
       "    <tr>\n",
       "      <th>3</th>\n",
       "      <td>3</td>\n",
       "      <td>0.0</td>\n",
       "      <td>0.0</td>\n",
       "      <td>1.191768e+07</td>\n",
       "      <td>-1.0</td>\n",
       "      <td>1.000171</td>\n",
       "      <td>18389746.00</td>\n",
       "      <td>1.000000</td>\n",
       "      <td>1.000000</td>\n",
       "      <td>0.999999</td>\n",
       "      <td>...</td>\n",
       "      <td>1.000214</td>\n",
       "      <td>479032.406250</td>\n",
       "      <td>1.000000</td>\n",
       "      <td>-4.010201</td>\n",
       "      <td>0.0</td>\n",
       "      <td>0_0_3</td>\n",
       "      <td>1.000000</td>\n",
       "      <td>1.000000</td>\n",
       "      <td>1.000000</td>\n",
       "      <td>1.000000</td>\n",
       "    </tr>\n",
       "    <tr>\n",
       "      <th>4</th>\n",
       "      <td>4</td>\n",
       "      <td>0.0</td>\n",
       "      <td>0.0</td>\n",
       "      <td>4.475500e+05</td>\n",
       "      <td>-1.0</td>\n",
       "      <td>0.999532</td>\n",
       "      <td>17860614.00</td>\n",
       "      <td>1.000000</td>\n",
       "      <td>1.000000</td>\n",
       "      <td>0.999394</td>\n",
       "      <td>...</td>\n",
       "      <td>1.000016</td>\n",
       "      <td>434.100006</td>\n",
       "      <td>1.000000</td>\n",
       "      <td>-7.349849</td>\n",
       "      <td>0.0</td>\n",
       "      <td>0_0_4</td>\n",
       "      <td>1.000000</td>\n",
       "      <td>1.000000</td>\n",
       "      <td>1.000000</td>\n",
       "      <td>1.000000</td>\n",
       "    </tr>\n",
       "    <tr>\n",
       "      <th>...</th>\n",
       "      <td>...</td>\n",
       "      <td>...</td>\n",
       "      <td>...</td>\n",
       "      <td>...</td>\n",
       "      <td>...</td>\n",
       "      <td>...</td>\n",
       "      <td>...</td>\n",
       "      <td>...</td>\n",
       "      <td>...</td>\n",
       "      <td>...</td>\n",
       "      <td>...</td>\n",
       "      <td>...</td>\n",
       "      <td>...</td>\n",
       "      <td>...</td>\n",
       "      <td>...</td>\n",
       "      <td>...</td>\n",
       "      <td>...</td>\n",
       "      <td>...</td>\n",
       "      <td>...</td>\n",
       "      <td>...</td>\n",
       "      <td>...</td>\n",
       "    </tr>\n",
       "    <tr>\n",
       "      <th>5237975</th>\n",
       "      <td>195</td>\n",
       "      <td>480.0</td>\n",
       "      <td>540.0</td>\n",
       "      <td>2.440723e+06</td>\n",
       "      <td>-1.0</td>\n",
       "      <td>1.000317</td>\n",
       "      <td>28280362.00</td>\n",
       "      <td>0.999734</td>\n",
       "      <td>0.999734</td>\n",
       "      <td>1.000317</td>\n",
       "      <td>...</td>\n",
       "      <td>1.000434</td>\n",
       "      <td>319862.406250</td>\n",
       "      <td>1.000328</td>\n",
       "      <td>2.310276</td>\n",
       "      <td>26454.0</td>\n",
       "      <td>480_540_195</td>\n",
       "      <td>1.000345</td>\n",
       "      <td>1.000304</td>\n",
       "      <td>1.000318</td>\n",
       "      <td>1.000202</td>\n",
       "    </tr>\n",
       "    <tr>\n",
       "      <th>5237976</th>\n",
       "      <td>196</td>\n",
       "      <td>480.0</td>\n",
       "      <td>540.0</td>\n",
       "      <td>3.495105e+05</td>\n",
       "      <td>-1.0</td>\n",
       "      <td>1.000643</td>\n",
       "      <td>9187699.00</td>\n",
       "      <td>1.000129</td>\n",
       "      <td>1.000386</td>\n",
       "      <td>1.000643</td>\n",
       "      <td>...</td>\n",
       "      <td>1.000900</td>\n",
       "      <td>93393.070312</td>\n",
       "      <td>1.000819</td>\n",
       "      <td>-8.220077</td>\n",
       "      <td>26454.0</td>\n",
       "      <td>480_540_196</td>\n",
       "      <td>1.000816</td>\n",
       "      <td>1.000710</td>\n",
       "      <td>1.000560</td>\n",
       "      <td>1.000506</td>\n",
       "    </tr>\n",
       "    <tr>\n",
       "      <th>5237977</th>\n",
       "      <td>197</td>\n",
       "      <td>480.0</td>\n",
       "      <td>540.0</td>\n",
       "      <td>0.000000e+00</td>\n",
       "      <td>0.0</td>\n",
       "      <td>0.995789</td>\n",
       "      <td>12725436.00</td>\n",
       "      <td>0.995789</td>\n",
       "      <td>0.995789</td>\n",
       "      <td>0.995789</td>\n",
       "      <td>...</td>\n",
       "      <td>0.995883</td>\n",
       "      <td>180038.312500</td>\n",
       "      <td>0.995797</td>\n",
       "      <td>1.169443</td>\n",
       "      <td>26454.0</td>\n",
       "      <td>480_540_197</td>\n",
       "      <td>0.995958</td>\n",
       "      <td>0.996070</td>\n",
       "      <td>0.996130</td>\n",
       "      <td>0.996436</td>\n",
       "    </tr>\n",
       "    <tr>\n",
       "      <th>5237978</th>\n",
       "      <td>198</td>\n",
       "      <td>480.0</td>\n",
       "      <td>540.0</td>\n",
       "      <td>1.000899e+06</td>\n",
       "      <td>1.0</td>\n",
       "      <td>0.999210</td>\n",
       "      <td>94773272.00</td>\n",
       "      <td>0.999210</td>\n",
       "      <td>0.999210</td>\n",
       "      <td>0.998970</td>\n",
       "      <td>...</td>\n",
       "      <td>0.999210</td>\n",
       "      <td>669893.000000</td>\n",
       "      <td>0.999008</td>\n",
       "      <td>-1.540184</td>\n",
       "      <td>26454.0</td>\n",
       "      <td>480_540_198</td>\n",
       "      <td>0.999116</td>\n",
       "      <td>0.999218</td>\n",
       "      <td>0.999305</td>\n",
       "      <td>0.999313</td>\n",
       "    </tr>\n",
       "    <tr>\n",
       "      <th>5237979</th>\n",
       "      <td>199</td>\n",
       "      <td>480.0</td>\n",
       "      <td>540.0</td>\n",
       "      <td>1.884286e+06</td>\n",
       "      <td>-1.0</td>\n",
       "      <td>1.002129</td>\n",
       "      <td>24073678.00</td>\n",
       "      <td>1.000859</td>\n",
       "      <td>1.001494</td>\n",
       "      <td>1.002129</td>\n",
       "      <td>...</td>\n",
       "      <td>1.002447</td>\n",
       "      <td>300167.562500</td>\n",
       "      <td>1.002274</td>\n",
       "      <td>-6.530285</td>\n",
       "      <td>26454.0</td>\n",
       "      <td>480_540_199</td>\n",
       "      <td>1.002083</td>\n",
       "      <td>1.002337</td>\n",
       "      <td>1.002156</td>\n",
       "      <td>1.001945</td>\n",
       "    </tr>\n",
       "  </tbody>\n",
       "</table>\n",
       "<p>5237760 rows × 21 columns</p>\n",
       "</div>"
      ],
      "text/plain": [
       "         stock_id  date_id  seconds_in_bucket  imbalance_size  \\\n",
       "0               0      0.0                0.0    3.180603e+06   \n",
       "1               1      0.0                0.0    1.666039e+05   \n",
       "2               2      0.0                0.0    3.028799e+05   \n",
       "3               3      0.0                0.0    1.191768e+07   \n",
       "4               4      0.0                0.0    4.475500e+05   \n",
       "...           ...      ...                ...             ...   \n",
       "5237975       195    480.0              540.0    2.440723e+06   \n",
       "5237976       196    480.0              540.0    3.495105e+05   \n",
       "5237977       197    480.0              540.0    0.000000e+00   \n",
       "5237978       198    480.0              540.0    1.000899e+06   \n",
       "5237979       199    480.0              540.0    1.884286e+06   \n",
       "\n",
       "         imbalance_buy_sell_flag  reference_price  matched_size  far_price  \\\n",
       "0                            1.0         0.999812   13380277.00   1.000000   \n",
       "1                           -1.0         0.999896    1642214.25   1.000000   \n",
       "2                           -1.0         0.999561    1819368.00   1.000000   \n",
       "3                           -1.0         1.000171   18389746.00   1.000000   \n",
       "4                           -1.0         0.999532   17860614.00   1.000000   \n",
       "...                          ...              ...           ...        ...   \n",
       "5237975                     -1.0         1.000317   28280362.00   0.999734   \n",
       "5237976                     -1.0         1.000643    9187699.00   1.000129   \n",
       "5237977                      0.0         0.995789   12725436.00   0.995789   \n",
       "5237978                      1.0         0.999210   94773272.00   0.999210   \n",
       "5237979                     -1.0         1.002129   24073678.00   1.000859   \n",
       "\n",
       "         near_price  bid_price  ...  ask_price       ask_size       wap  \\\n",
       "0          1.000000   0.999812  ...   1.000026    8493.030273  1.000000   \n",
       "1          1.000000   0.999896  ...   1.000660   20605.089844  1.000000   \n",
       "2          1.000000   0.999403  ...   1.000298   18995.000000  1.000000   \n",
       "3          1.000000   0.999999  ...   1.000214  479032.406250  1.000000   \n",
       "4          1.000000   0.999394  ...   1.000016     434.100006  1.000000   \n",
       "...             ...        ...  ...        ...            ...       ...   \n",
       "5237975    0.999734   1.000317  ...   1.000434  319862.406250  1.000328   \n",
       "5237976    1.000386   1.000643  ...   1.000900   93393.070312  1.000819   \n",
       "5237977    0.995789   0.995789  ...   0.995883  180038.312500  0.995797   \n",
       "5237978    0.999210   0.998970  ...   0.999210  669893.000000  0.999008   \n",
       "5237979    1.001494   1.002129  ...   1.002447  300167.562500  1.002274   \n",
       "\n",
       "           target  time_id       row_id wap_mov_avg_3_1  wap_mov_avg_6_3  \\\n",
       "0       -3.029704      0.0        0_0_0        1.000000         1.000000   \n",
       "1       -5.519986      0.0        0_0_1        1.000000         1.000000   \n",
       "2       -8.389950      0.0        0_0_2        1.000000         1.000000   \n",
       "3       -4.010201      0.0        0_0_3        1.000000         1.000000   \n",
       "4       -7.349849      0.0        0_0_4        1.000000         1.000000   \n",
       "...           ...      ...          ...             ...              ...   \n",
       "5237975  2.310276  26454.0  480_540_195        1.000345         1.000304   \n",
       "5237976 -8.220077  26454.0  480_540_196        1.000816         1.000710   \n",
       "5237977  1.169443  26454.0  480_540_197        0.995958         0.996070   \n",
       "5237978 -1.540184  26454.0  480_540_198        0.999116         0.999218   \n",
       "5237979 -6.530285  26454.0  480_540_199        1.002083         1.002337   \n",
       "\n",
       "         wap_mov_avg_12_6  wap_mov_avg_24_12  \n",
       "0                1.000000           1.000000  \n",
       "1                1.000000           1.000000  \n",
       "2                1.000000           1.000000  \n",
       "3                1.000000           1.000000  \n",
       "4                1.000000           1.000000  \n",
       "...                   ...                ...  \n",
       "5237975          1.000318           1.000202  \n",
       "5237976          1.000560           1.000506  \n",
       "5237977          0.996130           0.996436  \n",
       "5237978          0.999305           0.999313  \n",
       "5237979          1.002156           1.001945  \n",
       "\n",
       "[5237760 rows x 21 columns]"
      ]
     },
     "metadata": {},
     "output_type": "display_data"
    }
   ],
   "source": [
    "print(df.columns)\n",
    "display(df)"
   ]
  },
  {
   "cell_type": "code",
   "execution_count": 14,
   "id": "07b3c19b-0507-41c6-883b-f494a8f33f4f",
   "metadata": {},
   "outputs": [
    {
     "name": "stdout",
     "output_type": "stream",
     "text": [
      "16\n"
     ]
    }
   ],
   "source": [
    "feat_dynamic_real = [\n",
    "    \"date_id\",\n",
    "    \"seconds_in_bucket\",\n",
    "    \"imbalance_size\",\n",
    "    \"reference_price\",\n",
    "    \"matched_size\",\n",
    "    \"far_price\",\n",
    "    \"near_price\",\n",
    "    \"bid_price\",\n",
    "    \"bid_size\",\n",
    "    \"ask_price\",\n",
    "    \"ask_size\",\n",
    "    \"wap\",\n",
    "    \"wap_mov_avg_3_1\",\n",
    "    \"wap_mov_avg_6_3\",\n",
    "    \"wap_mov_avg_12_6\",\n",
    "    \"wap_mov_avg_24_12\",\n",
    "]\n",
    "num_input_features = len(feat_dynamic_real)\n",
    "print(num_input_features)"
   ]
  },
  {
   "cell_type": "code",
   "execution_count": 15,
   "id": "7c6c95c3-5603-4ec7-86a5-b0ed38d74a06",
   "metadata": {},
   "outputs": [
    {
     "name": "stdout",
     "output_type": "stream",
     "text": [
      "(5237760,) (0,)\n"
     ]
    }
   ],
   "source": [
    "# should not have any na features\n",
    "any_na_values_mask = df[feat_dynamic_real].isna().any(axis=1)\n",
    "print(any_na_values_mask.shape, any_na_values_mask[any_na_values_mask].shape)"
   ]
  },
  {
   "cell_type": "markdown",
   "id": "aca31a49-8986-44e6-973b-1142edc97979",
   "metadata": {},
   "source": [
    "## Group by stock_id\n",
    "\n",
    "TODO: group by date_id too? or use embedding for date_id?"
   ]
  },
  {
   "cell_type": "code",
   "execution_count": 16,
   "id": "78b7bd99-3e4b-4c1a-9fc2-07ccd9bf641b",
   "metadata": {},
   "outputs": [
    {
     "name": "stdout",
     "output_type": "stream",
     "text": [
      "200\n",
      "stock_id\n",
      "0      26455\n",
      "1      26455\n",
      "2      26455\n",
      "3      26455\n",
      "4      26455\n",
      "       ...  \n",
      "195    26455\n",
      "196    26455\n",
      "197    26455\n",
      "198    26455\n",
      "199    21615\n",
      "Length: 200, dtype: int64\n"
     ]
    }
   ],
   "source": [
    "df_grouped = df.groupby(\"stock_id\")\n",
    "num_classes = len(df_grouped)\n",
    "print(num_classes)\n",
    "print(df_grouped.size())"
   ]
  },
  {
   "cell_type": "markdown",
   "id": "e948553c-a509-458c-83d8-58c287fc969a",
   "metadata": {},
   "source": [
    "## Normalize features per stock\n",
    "\n",
    "TODO: move as pre-processor? do not normalize all columns?\n",
    "\n",
    "TODO: should not normalize date_id, seconds_in_bucket, imbalance_buy_sell_flag, far_price, near_price, bid_price, ask_price?"
   ]
  },
  {
   "cell_type": "code",
   "execution_count": 17,
   "id": "5622a8fc-e6df-4815-bd91-03deef379328",
   "metadata": {},
   "outputs": [
    {
     "name": "stdout",
     "output_type": "stream",
     "text": [
      "['near_price', 'wap', 'wap_mov_avg_6_3', 'seconds_in_bucket', 'far_price', 'ask_price', 'imbalance_size', 'wap_mov_avg_3_1', 'matched_size', 'wap_mov_avg_24_12', 'bid_price', 'reference_price', 'bid_size', 'wap_mov_avg_12_6', 'ask_size']\n"
     ]
    },
    {
     "data": {
      "text/html": [
       "<div>\n",
       "<style scoped>\n",
       "    .dataframe tbody tr th:only-of-type {\n",
       "        vertical-align: middle;\n",
       "    }\n",
       "\n",
       "    .dataframe tbody tr th {\n",
       "        vertical-align: top;\n",
       "    }\n",
       "\n",
       "    .dataframe thead th {\n",
       "        text-align: right;\n",
       "    }\n",
       "</style>\n",
       "<table border=\"1\" class=\"dataframe\">\n",
       "  <thead>\n",
       "    <tr style=\"text-align: right;\">\n",
       "      <th></th>\n",
       "      <th>near_price</th>\n",
       "      <th>wap</th>\n",
       "      <th>wap_mov_avg_6_3</th>\n",
       "      <th>seconds_in_bucket</th>\n",
       "      <th>far_price</th>\n",
       "      <th>ask_price</th>\n",
       "      <th>imbalance_size</th>\n",
       "      <th>wap_mov_avg_3_1</th>\n",
       "      <th>matched_size</th>\n",
       "      <th>wap_mov_avg_24_12</th>\n",
       "      <th>bid_price</th>\n",
       "      <th>reference_price</th>\n",
       "      <th>bid_size</th>\n",
       "      <th>wap_mov_avg_12_6</th>\n",
       "      <th>ask_size</th>\n",
       "    </tr>\n",
       "  </thead>\n",
       "  <tbody>\n",
       "    <tr>\n",
       "      <th>0</th>\n",
       "      <td>1.0</td>\n",
       "      <td>1.000000</td>\n",
       "      <td>1.000000</td>\n",
       "      <td>0.0</td>\n",
       "      <td>1.0</td>\n",
       "      <td>1.000026</td>\n",
       "      <td>3180602.750</td>\n",
       "      <td>1.000000</td>\n",
       "      <td>13380277.0</td>\n",
       "      <td>1.0</td>\n",
       "      <td>0.999812</td>\n",
       "      <td>0.999812</td>\n",
       "      <td>60651.500000</td>\n",
       "      <td>1.0</td>\n",
       "      <td>8493.030273</td>\n",
       "    </tr>\n",
       "    <tr>\n",
       "      <th>191</th>\n",
       "      <td>1.0</td>\n",
       "      <td>0.999892</td>\n",
       "      <td>1.000000</td>\n",
       "      <td>10.0</td>\n",
       "      <td>1.0</td>\n",
       "      <td>1.000026</td>\n",
       "      <td>1299772.750</td>\n",
       "      <td>0.999946</td>\n",
       "      <td>15261107.0</td>\n",
       "      <td>1.0</td>\n",
       "      <td>0.999812</td>\n",
       "      <td>1.000026</td>\n",
       "      <td>13996.500000</td>\n",
       "      <td>1.0</td>\n",
       "      <td>23519.160156</td>\n",
       "    </tr>\n",
       "    <tr>\n",
       "      <th>382</th>\n",
       "      <td>1.0</td>\n",
       "      <td>0.999842</td>\n",
       "      <td>0.999911</td>\n",
       "      <td>20.0</td>\n",
       "      <td>1.0</td>\n",
       "      <td>0.999919</td>\n",
       "      <td>1299772.750</td>\n",
       "      <td>0.999911</td>\n",
       "      <td>15261107.0</td>\n",
       "      <td>1.0</td>\n",
       "      <td>0.999812</td>\n",
       "      <td>0.999919</td>\n",
       "      <td>4665.500000</td>\n",
       "      <td>1.0</td>\n",
       "      <td>12131.599609</td>\n",
       "    </tr>\n",
       "    <tr>\n",
       "      <th>573</th>\n",
       "      <td>1.0</td>\n",
       "      <td>1.000085</td>\n",
       "      <td>0.999955</td>\n",
       "      <td>30.0</td>\n",
       "      <td>1.0</td>\n",
       "      <td>1.000133</td>\n",
       "      <td>1299772.750</td>\n",
       "      <td>0.999940</td>\n",
       "      <td>15261107.0</td>\n",
       "      <td>1.0</td>\n",
       "      <td>1.000026</td>\n",
       "      <td>1.000133</td>\n",
       "      <td>55998.000000</td>\n",
       "      <td>1.0</td>\n",
       "      <td>46203.300781</td>\n",
       "    </tr>\n",
       "    <tr>\n",
       "      <th>764</th>\n",
       "      <td>1.0</td>\n",
       "      <td>1.000317</td>\n",
       "      <td>1.000027</td>\n",
       "      <td>40.0</td>\n",
       "      <td>1.0</td>\n",
       "      <td>1.000455</td>\n",
       "      <td>1218204.375</td>\n",
       "      <td>1.000081</td>\n",
       "      <td>15342675.0</td>\n",
       "      <td>1.0</td>\n",
       "      <td>1.000241</td>\n",
       "      <td>1.000455</td>\n",
       "      <td>14655.950195</td>\n",
       "      <td>1.0</td>\n",
       "      <td>26610.449219</td>\n",
       "    </tr>\n",
       "  </tbody>\n",
       "</table>\n",
       "</div>"
      ],
      "text/plain": [
       "     near_price       wap  wap_mov_avg_6_3  seconds_in_bucket  far_price  \\\n",
       "0           1.0  1.000000         1.000000                0.0        1.0   \n",
       "191         1.0  0.999892         1.000000               10.0        1.0   \n",
       "382         1.0  0.999842         0.999911               20.0        1.0   \n",
       "573         1.0  1.000085         0.999955               30.0        1.0   \n",
       "764         1.0  1.000317         1.000027               40.0        1.0   \n",
       "\n",
       "     ask_price  imbalance_size  wap_mov_avg_3_1  matched_size  \\\n",
       "0     1.000026     3180602.750         1.000000    13380277.0   \n",
       "191   1.000026     1299772.750         0.999946    15261107.0   \n",
       "382   0.999919     1299772.750         0.999911    15261107.0   \n",
       "573   1.000133     1299772.750         0.999940    15261107.0   \n",
       "764   1.000455     1218204.375         1.000081    15342675.0   \n",
       "\n",
       "     wap_mov_avg_24_12  bid_price  reference_price      bid_size  \\\n",
       "0                  1.0   0.999812         0.999812  60651.500000   \n",
       "191                1.0   0.999812         1.000026  13996.500000   \n",
       "382                1.0   0.999812         0.999919   4665.500000   \n",
       "573                1.0   1.000026         1.000133  55998.000000   \n",
       "764                1.0   1.000241         1.000455  14655.950195   \n",
       "\n",
       "     wap_mov_avg_12_6      ask_size  \n",
       "0                 1.0   8493.030273  \n",
       "191               1.0  23519.160156  \n",
       "382               1.0  12131.599609  \n",
       "573               1.0  46203.300781  \n",
       "764               1.0  26610.449219  "
      ]
     },
     "metadata": {},
     "output_type": "display_data"
    },
    {
     "data": {
      "text/html": [
       "<div>\n",
       "<style scoped>\n",
       "    .dataframe tbody tr th:only-of-type {\n",
       "        vertical-align: middle;\n",
       "    }\n",
       "\n",
       "    .dataframe tbody tr th {\n",
       "        vertical-align: top;\n",
       "    }\n",
       "\n",
       "    .dataframe thead th {\n",
       "        text-align: right;\n",
       "    }\n",
       "</style>\n",
       "<table border=\"1\" class=\"dataframe\">\n",
       "  <thead>\n",
       "    <tr style=\"text-align: right;\">\n",
       "      <th></th>\n",
       "      <th>near_price</th>\n",
       "      <th>wap</th>\n",
       "      <th>wap_mov_avg_6_3</th>\n",
       "      <th>seconds_in_bucket</th>\n",
       "      <th>far_price</th>\n",
       "      <th>ask_price</th>\n",
       "      <th>imbalance_size</th>\n",
       "      <th>wap_mov_avg_3_1</th>\n",
       "      <th>matched_size</th>\n",
       "      <th>wap_mov_avg_24_12</th>\n",
       "      <th>bid_price</th>\n",
       "      <th>reference_price</th>\n",
       "      <th>bid_size</th>\n",
       "      <th>wap_mov_avg_12_6</th>\n",
       "      <th>ask_size</th>\n",
       "    </tr>\n",
       "  </thead>\n",
       "  <tbody>\n",
       "    <tr>\n",
       "      <th>0</th>\n",
       "      <td>0.133338</td>\n",
       "      <td>0.094047</td>\n",
       "      <td>0.094393</td>\n",
       "      <td>-1.700898</td>\n",
       "      <td>0.123295</td>\n",
       "      <td>0.042608</td>\n",
       "      <td>-0.123788</td>\n",
       "      <td>0.094223</td>\n",
       "      <td>-0.587912</td>\n",
       "      <td>0.085538</td>\n",
       "      <td>0.045702</td>\n",
       "      <td>-0.013458</td>\n",
       "      <td>0.326688</td>\n",
       "      <td>0.092848</td>\n",
       "      <td>-0.517845</td>\n",
       "    </tr>\n",
       "    <tr>\n",
       "      <th>191</th>\n",
       "      <td>0.133338</td>\n",
       "      <td>0.029667</td>\n",
       "      <td>0.094393</td>\n",
       "      <td>-1.637902</td>\n",
       "      <td>0.123295</td>\n",
       "      <td>0.042608</td>\n",
       "      <td>-0.349815</td>\n",
       "      <td>0.061263</td>\n",
       "      <td>-0.498555</td>\n",
       "      <td>0.085538</td>\n",
       "      <td>0.045702</td>\n",
       "      <td>0.114022</td>\n",
       "      <td>-0.292750</td>\n",
       "      <td>0.092848</td>\n",
       "      <td>-0.257284</td>\n",
       "    </tr>\n",
       "    <tr>\n",
       "      <th>382</th>\n",
       "      <td>0.133338</td>\n",
       "      <td>-0.000142</td>\n",
       "      <td>0.038456</td>\n",
       "      <td>-1.574906</td>\n",
       "      <td>0.123295</td>\n",
       "      <td>-0.021127</td>\n",
       "      <td>-0.349815</td>\n",
       "      <td>0.040090</td>\n",
       "      <td>-0.498555</td>\n",
       "      <td>0.085538</td>\n",
       "      <td>0.045702</td>\n",
       "      <td>0.050282</td>\n",
       "      <td>-0.416638</td>\n",
       "      <td>0.092848</td>\n",
       "      <td>-0.454750</td>\n",
       "    </tr>\n",
       "    <tr>\n",
       "      <th>573</th>\n",
       "      <td>0.133338</td>\n",
       "      <td>0.144713</td>\n",
       "      <td>0.065861</td>\n",
       "      <td>-1.511910</td>\n",
       "      <td>0.123295</td>\n",
       "      <td>0.106379</td>\n",
       "      <td>-0.349815</td>\n",
       "      <td>0.057407</td>\n",
       "      <td>-0.498555</td>\n",
       "      <td>0.085538</td>\n",
       "      <td>0.173482</td>\n",
       "      <td>0.177797</td>\n",
       "      <td>0.264904</td>\n",
       "      <td>0.092848</td>\n",
       "      <td>0.136070</td>\n",
       "    </tr>\n",
       "    <tr>\n",
       "      <th>764</th>\n",
       "      <td>0.133338</td>\n",
       "      <td>0.282995</td>\n",
       "      <td>0.111535</td>\n",
       "      <td>-1.448913</td>\n",
       "      <td>0.123295</td>\n",
       "      <td>0.298187</td>\n",
       "      <td>-0.359617</td>\n",
       "      <td>0.143845</td>\n",
       "      <td>-0.494680</td>\n",
       "      <td>0.085538</td>\n",
       "      <td>0.301903</td>\n",
       "      <td>0.369621</td>\n",
       "      <td>-0.283995</td>\n",
       "      <td>0.092848</td>\n",
       "      <td>-0.203680</td>\n",
       "    </tr>\n",
       "  </tbody>\n",
       "</table>\n",
       "</div>"
      ],
      "text/plain": [
       "     near_price       wap  wap_mov_avg_6_3  seconds_in_bucket  far_price  \\\n",
       "0      0.133338  0.094047         0.094393          -1.700898   0.123295   \n",
       "191    0.133338  0.029667         0.094393          -1.637902   0.123295   \n",
       "382    0.133338 -0.000142         0.038456          -1.574906   0.123295   \n",
       "573    0.133338  0.144713         0.065861          -1.511910   0.123295   \n",
       "764    0.133338  0.282995         0.111535          -1.448913   0.123295   \n",
       "\n",
       "     ask_price  imbalance_size  wap_mov_avg_3_1  matched_size  \\\n",
       "0     0.042608       -0.123788         0.094223     -0.587912   \n",
       "191   0.042608       -0.349815         0.061263     -0.498555   \n",
       "382  -0.021127       -0.349815         0.040090     -0.498555   \n",
       "573   0.106379       -0.349815         0.057407     -0.498555   \n",
       "764   0.298187       -0.359617         0.143845     -0.494680   \n",
       "\n",
       "     wap_mov_avg_24_12  bid_price  reference_price  bid_size  \\\n",
       "0             0.085538   0.045702        -0.013458  0.326688   \n",
       "191           0.085538   0.045702         0.114022 -0.292750   \n",
       "382           0.085538   0.045702         0.050282 -0.416638   \n",
       "573           0.085538   0.173482         0.177797  0.264904   \n",
       "764           0.085538   0.301903         0.369621 -0.283995   \n",
       "\n",
       "     wap_mov_avg_12_6  ask_size  \n",
       "0            0.092848 -0.517845  \n",
       "191          0.092848 -0.257284  \n",
       "382          0.092848 -0.454750  \n",
       "573          0.092848  0.136070  \n",
       "764          0.092848 -0.203680  "
      ]
     },
     "metadata": {},
     "output_type": "display_data"
    }
   ],
   "source": [
    "normalize_columns = list(set(feat_dynamic_real) - set([\"date_id\"]))\n",
    "print(normalize_columns)\n",
    "display(df_grouped.get_group(0)[normalize_columns].head())\n",
    "df[normalize_columns] = df_grouped[normalize_columns].transform(lambda x: (x - x.mean()) / x.std())\n",
    "display(df_grouped.get_group(0)[normalize_columns].head())"
   ]
  },
  {
   "cell_type": "markdown",
   "id": "0821e078-0e06-4bdc-8f61-ef5c49b7a8fe",
   "metadata": {},
   "source": [
    "## Data hyperparameters"
   ]
  },
  {
   "cell_type": "code",
   "execution_count": 18,
   "id": "f5935edf-b5fe-4e3c-b267-74fee0cd676b",
   "metadata": {},
   "outputs": [
    {
     "name": "stdout",
     "output_type": "stream",
     "text": [
      "460\n"
     ]
    }
   ],
   "source": [
    "# TODO: change to align with lightgbm\n",
    "training_set_max_date_id = 480 - 20\n",
    "print(training_set_max_date_id)"
   ]
  },
  {
   "cell_type": "code",
   "execution_count": 19,
   "id": "827d32ac-2f16-47a8-804f-9a99c7f3bfab",
   "metadata": {},
   "outputs": [],
   "source": [
    "prediction_length = 1\n",
    "seq_len = 55\n",
    "\n",
    "training_batch_size = 256\n",
    "validation_batch_size = 256"
   ]
  },
  {
   "cell_type": "markdown",
   "id": "687dde16-8a06-40cd-b849-060c3eb9b727",
   "metadata": {},
   "source": [
    "## Prepare Pytorch datasets"
   ]
  },
  {
   "cell_type": "code",
   "execution_count": 20,
   "id": "e00037e5-af83-4f4b-9e89-b60accf6d1f2",
   "metadata": {},
   "outputs": [],
   "source": [
    "class StockTrainingDataset(torch.utils.data.Dataset):\n",
    "    def __init__(self, stock_df, feature_names, target_col, item_id, context_length):\n",
    "        super().__init__()\n",
    "        self.features = stock_df[feature_names]\n",
    "        self.targets = stock_df[target_col]\n",
    "        self.item_id = item_id\n",
    "        self.context_length = context_length\n",
    "        # possible idx = 0 ... 26455 - 55 + 1\n",
    "        self.total_size = self.features.shape[0] - context_length + 1\n",
    "\n",
    "    def __len__(self):\n",
    "        return self.total_size\n",
    "\n",
    "    def __getitem__(self, idx):\n",
    "        start_idx = idx\n",
    "        end_idx = idx + self.context_length\n",
    "        features = self.features.iloc[start_idx:end_idx]\n",
    "        targets = self.targets.iloc[start_idx:end_idx]\n",
    "        return features.values, self.item_id, targets.values"
   ]
  },
  {
   "cell_type": "code",
   "execution_count": 22,
   "id": "cf94625c-b4d2-4c11-9baa-b9a1f9f635fc",
   "metadata": {},
   "outputs": [
    {
     "name": "stdout",
     "output_type": "stream",
     "text": [
      "200 200\n"
     ]
    }
   ],
   "source": [
    "stock_training_datasets = []\n",
    "stock_validation_datasets = []\n",
    "for item_id, gdf in df_grouped:\n",
    "    training_mask = gdf[\"date_id\"] < training_set_max_date_id\n",
    "    training_df = gdf[training_mask]\n",
    "    validation_df = gdf[~training_mask]\n",
    "    assert training_df.shape[0] > 0 \\\n",
    "        and validation_df.shape[0] > 0 \\\n",
    "        and training_df.shape[0] + validation_df.shape[0] == gdf.shape[0], f\"{item_id} invalid shape, training_df: {training_df.shape}, validation_df: {validation_df.shape}\"\n",
    "    stock_training_datasets.append(StockTrainingDataset(training_df, feat_dynamic_real, \"target\", item_id, seq_len))\n",
    "    stock_validation_datasets.append(StockTrainingDataset(validation_df, feat_dynamic_real, \"target\", item_id, seq_len))\n",
    "print(len(stock_training_datasets), len(stock_validation_datasets))"
   ]
  },
  {
   "cell_type": "code",
   "execution_count": 23,
   "id": "8daff433-f66a-45c6-800a-1b23bb97bc6d",
   "metadata": {},
   "outputs": [
    {
     "name": "stdout",
     "output_type": "stream",
     "text": [
      "4995960 220200\n"
     ]
    }
   ],
   "source": [
    "full_training_dataset = torch.utils.data.ConcatDataset(stock_training_datasets)\n",
    "full_validation_dataset = torch.utils.data.ConcatDataset(stock_validation_datasets)\n",
    "print(len(full_training_dataset), len(full_validation_dataset))"
   ]
  },
  {
   "cell_type": "code",
   "execution_count": 24,
   "id": "0f648120-a83d-4f5c-b53e-f31851fb80bf",
   "metadata": {},
   "outputs": [],
   "source": [
    "training_sampler = torch.utils.data.RandomSampler(full_training_dataset)\n",
    "validation_sampler = torch.utils.data.SequentialSampler(full_validation_dataset)"
   ]
  },
  {
   "cell_type": "code",
   "execution_count": 25,
   "id": "c607398d-2f29-4866-addb-e8b8a5053458",
   "metadata": {},
   "outputs": [],
   "source": [
    "training_dataloader = torch.utils.data.DataLoader(\n",
    "    full_training_dataset,\n",
    "    batch_size=training_batch_size,\n",
    "    sampler=training_sampler,\n",
    "    # https://pytorch.org/docs/stable/data.html#single-and-multi-process-data-loading\n",
    "    num_workers=4,\n",
    "    # https://pytorch.org/docs/stable/data.html#memory-pinning\n",
    "    pin_memory=True,\n",
    ")\n",
    "validation_dataloader = torch.utils.data.DataLoader(\n",
    "    full_validation_dataset,\n",
    "    batch_size=validation_batch_size,\n",
    "    sampler=validation_sampler,\n",
    "    num_workers=4,\n",
    "    pin_memory=True,\n",
    ")"
   ]
  },
  {
   "cell_type": "code",
   "execution_count": 26,
   "id": "6a822b02-69a4-4c33-8774-30890ab313f8",
   "metadata": {},
   "outputs": [
    {
     "name": "stdout",
     "output_type": "stream",
     "text": [
      "training_sample_batch torch.Size([256, 55, 16]) torch.Size([256]) torch.Size([256, 55])\n",
      "training_sample_batch torch.FloatTensor torch.LongTensor torch.FloatTensor\n",
      "validation_sample_batch torch.Size([256, 55, 16]) torch.Size([256]) torch.Size([256, 55])\n",
      "validation_sample_batch torch.FloatTensor torch.LongTensor torch.FloatTensor\n"
     ]
    }
   ],
   "source": [
    "training_sample_batch = next(iter(training_dataloader))\n",
    "print(\"training_sample_batch\", training_sample_batch[0].size(), training_sample_batch[1].size(), training_sample_batch[2].size())\n",
    "print(\"training_sample_batch\", training_sample_batch[0].type(), training_sample_batch[1].type(), training_sample_batch[2].type())\n",
    "validation_sample_batch = next(iter(validation_dataloader))\n",
    "print(\"validation_sample_batch\", validation_sample_batch[0].size(), validation_sample_batch[1].size(), validation_sample_batch[2].size())\n",
    "print(\"validation_sample_batch\", validation_sample_batch[0].type(), validation_sample_batch[1].type(), validation_sample_batch[2].type())"
   ]
  },
  {
   "cell_type": "markdown",
   "id": "143dab39-d000-4acc-ba6d-230fb7e9eb76",
   "metadata": {},
   "source": [
    "## Hyperparameters"
   ]
  },
  {
   "cell_type": "code",
   "execution_count": 27,
   "id": "a795a422-fa6a-4195-961b-2c0b9e712f2f",
   "metadata": {},
   "outputs": [],
   "source": [
    "embedding_dim = 4\n",
    "d_model = 32\n",
    "nhead = 4\n",
    "d_hid = 32\n",
    "nlayers = 2\n",
    "dropout = 0.1"
   ]
  },
  {
   "cell_type": "markdown",
   "id": "98310dcf-a011-472d-a79a-e7738cb71c06",
   "metadata": {},
   "source": [
    "## Create model"
   ]
  },
  {
   "cell_type": "code",
   "execution_count": 28,
   "id": "c4374a57-0a89-45d8-9adb-e3ccbc2eb918",
   "metadata": {},
   "outputs": [
    {
     "data": {
      "text/plain": [
       "TransformerModel(\n",
       "  (embedding): Embedding(200, 4)\n",
       "  (input_ff): Linear(in_features=20, out_features=32, bias=True)\n",
       "  (input_ff_sigmoid): Sigmoid()\n",
       "  (transformer_encoder): TransformerEncoder(\n",
       "    (layers): ModuleList(\n",
       "      (0-1): 2 x TransformerEncoderLayer(\n",
       "        (self_attn): MultiheadAttention(\n",
       "          (out_proj): NonDynamicallyQuantizableLinear(in_features=32, out_features=32, bias=True)\n",
       "        )\n",
       "        (linear1): Linear(in_features=32, out_features=32, bias=True)\n",
       "        (dropout): Dropout(p=0.1, inplace=False)\n",
       "        (linear2): Linear(in_features=32, out_features=32, bias=True)\n",
       "        (norm1): LayerNorm((32,), eps=1e-05, elementwise_affine=True)\n",
       "        (norm2): LayerNorm((32,), eps=1e-05, elementwise_affine=True)\n",
       "        (dropout1): Dropout(p=0.1, inplace=False)\n",
       "        (dropout2): Dropout(p=0.1, inplace=False)\n",
       "      )\n",
       "    )\n",
       "  )\n",
       "  (final_linear): Linear(in_features=32, out_features=1, bias=True)\n",
       ")"
      ]
     },
     "execution_count": 28,
     "metadata": {},
     "output_type": "execute_result"
    }
   ],
   "source": [
    "model = TransformerModel(\n",
    "    num_input_features=num_input_features,\n",
    "    num_classes=num_classes,\n",
    "    embedding_dim=embedding_dim,\n",
    "    d_model=d_model,\n",
    "    nhead=nhead,\n",
    "    d_hid=d_hid,\n",
    "    nlayers=nlayers,\n",
    "    dropout=dropout,\n",
    "    logger=NoopModelLogger(),\n",
    ")\n",
    "model.apply(init_weights)"
   ]
  },
  {
   "cell_type": "code",
   "execution_count": 29,
   "id": "bdca2b6f-b702-4f41-b720-58cbb99ed5c5",
   "metadata": {},
   "outputs": [],
   "source": [
    "criterion = nn.L1Loss()\n",
    "validation_criterion = nn.L1Loss()"
   ]
  },
  {
   "cell_type": "markdown",
   "id": "b4b8355c-807b-431d-88e8-ba5c53b36769",
   "metadata": {},
   "source": [
    "## Test model with 2 identical samples, test model is non-random"
   ]
  },
  {
   "cell_type": "code",
   "execution_count": 30,
   "id": "78c880f2-1332-41ad-9b1f-8702d4eb513b",
   "metadata": {},
   "outputs": [
    {
     "name": "stdout",
     "output_type": "stream",
     "text": [
      "torch.Size([2, 55, 16]) torch.Size([2]) tensor([83, 83])\n",
      "test_model_with_2_identical_samples - torch.Size([2, 55, 20])\n",
      "test_model_with_2_identical_samples - input_ff - torch.Size([2, 55, 4])\n",
      "test_model_with_2_identical_samples - src_mask - torch.Size([55, 55])\n",
      "test_model_with_2_identical_samples - encoder - torch.Size([2, 55, 4])\n",
      "test_model_with_2_identical_samples - final_linear - torch.Size([2, 55, 1])\n",
      "test_model_with_2_identical_samples - output - torch.Size([2])\n",
      "torch.Size([2]) tensor([-0.1174, -0.1174], grad_fn=<SqueezeBackward1>) torch.Size([2, 55]) torch.Size([2]) tensor([4.9198, 4.9198])\n",
      "tensor(5.0372, grad_fn=<MeanBackward0>)\n"
     ]
    }
   ],
   "source": [
    "sample_model = TransformerModel(\n",
    "    num_input_features=num_input_features,\n",
    "    num_classes=num_classes,\n",
    "    embedding_dim=4,\n",
    "    d_model=4,\n",
    "    nhead=2,\n",
    "    d_hid=4,\n",
    "    nlayers=2,\n",
    "    dropout=dropout,\n",
    "    logger=BasicModelLogger(\"test_model_with_2_identical_samples\"),\n",
    ")\n",
    "sample_model.apply(init_weights)\n",
    "sample_model.eval()\n",
    "sample_input_features = training_sample_batch[0][0]\n",
    "sample_input_features = sample_input_features.expand(2, -1, -1)\n",
    "sample_input_item_id = training_sample_batch[1][0]\n",
    "sample_input_item_id = sample_input_item_id.expand(2)\n",
    "print(sample_input_features.size(), sample_input_item_id.size(), sample_input_item_id)\n",
    "sample_output = sample_model(sample_input_features, sample_input_item_id)\n",
    "sample_targets = training_sample_batch[2][0]\n",
    "sample_targets = sample_targets.expand(2, -1)\n",
    "sample_actual_targets = sample_targets[:, -1]\n",
    "print(sample_output.size(), sample_output, sample_targets.size(), sample_actual_targets.size(), sample_actual_targets)\n",
    "sample_loss = criterion(sample_output, sample_actual_targets)\n",
    "print(sample_loss)\n",
    "del sample_model, sample_input_features, sample_input_item_id, sample_output, sample_targets, sample_loss"
   ]
  },
  {
   "cell_type": "markdown",
   "id": "c04dbf4e-5eef-47a5-bb65-009723f0c8ed",
   "metadata": {},
   "source": [
    "## Tensorboard"
   ]
  },
  {
   "cell_type": "code",
   "execution_count": 31,
   "id": "414f05d4-34fd-45e9-8a1a-0f9f6257c60c",
   "metadata": {},
   "outputs": [
    {
     "data": {
      "text/plain": [
       "Reusing TensorBoard on port 6006 (pid 2329232), started 0:02:57 ago. (Use '!kill 2329232' to kill it.)"
      ]
     },
     "metadata": {},
     "output_type": "display_data"
    },
    {
     "data": {
      "text/html": [
       "\n",
       "      <iframe id=\"tensorboard-frame-1c80317fa3b1799d\" width=\"100%\" height=\"800\" frameborder=\"0\">\n",
       "      </iframe>\n",
       "      <script>\n",
       "        (function() {\n",
       "          const frame = document.getElementById(\"tensorboard-frame-1c80317fa3b1799d\");\n",
       "          const url = new URL(\"/\", window.location);\n",
       "          const port = 6006;\n",
       "          if (port) {\n",
       "            url.port = port;\n",
       "          }\n",
       "          frame.src = url;\n",
       "        })();\n",
       "      </script>\n",
       "    "
      ],
      "text/plain": [
       "<IPython.core.display.HTML object>"
      ]
     },
     "metadata": {},
     "output_type": "display_data"
    }
   ],
   "source": [
    "%reload_ext tensorboard\n",
    "%tensorboard --logdir=lightning_logs/"
   ]
  },
  {
   "cell_type": "markdown",
   "id": "997092df-606f-4be2-acf8-04b42c004265",
   "metadata": {},
   "source": [
    "## Module and trainer (lightning)"
   ]
  },
  {
   "cell_type": "code",
   "execution_count": 32,
   "id": "e7b16ac6-fef9-4d94-b17b-6545e290e537",
   "metadata": {},
   "outputs": [],
   "source": [
    "class TransformerModelModule(L.LightningModule):\n",
    "    def __init__(self, model, criterion, validation_criterion):\n",
    "        super().__init__()\n",
    "        self.model = model\n",
    "        self.criterion = criterion\n",
    "        self.validation_criterion = validation_criterion\n",
    "        self.validation_step_outputs = []\n",
    "        self.validation_step_actual_targets = []\n",
    "\n",
    "    def training_step(self, batch, batch_idx):\n",
    "        features, item_id, targets = batch[0], batch[1], batch[2]\n",
    "        actual_targets = targets[:, -1]\n",
    "        output = self.model(features, item_id)\n",
    "        loss = self.criterion(output, actual_targets)\n",
    "        self.log(\"train_loss\", loss, on_step=False, on_epoch=True, prog_bar=True)\n",
    "        return loss\n",
    "\n",
    "    def validation_step(self, batch, batch_idx):\n",
    "        features, item_id, targets = batch[0], batch[1], batch[2]\n",
    "        actual_targets = targets[:, -1]\n",
    "        output = self.model(features, item_id)\n",
    "        # TODO: is loss being averaged based on batch size\n",
    "        loss = self.validation_criterion(output, actual_targets)\n",
    "        # lightning will take weighted-average on loss per step based on batch size\n",
    "        self.log(\"val_loss\", loss, on_step=False, on_epoch=True, prog_bar=True)\n",
    "        self.validation_step_outputs.append(output)\n",
    "        self.validation_step_actual_targets.append(actual_targets)\n",
    "\n",
    "    def on_validation_epoch_end(self):\n",
    "        # TODO: remove manual calculation of validation loss if we can confirm lightning will take weighted average\n",
    "        # cat is used instead of stack, last step may have different batch size\n",
    "        all_preds = torch.cat(self.validation_step_outputs)\n",
    "        all_actual_targets = torch.cat(self.validation_step_actual_targets)\n",
    "        manual_loss = self.validation_criterion(all_preds, all_actual_targets)\n",
    "        self.log(\"val_loss_manual\", manual_loss, on_step=False, on_epoch=True, prog_bar=True)\n",
    "        self.validation_step_outputs.clear()  # free memory\n",
    "        self.validation_step_actual_targets.clear()  # free memory\n",
    "\n",
    "    def configure_optimizers(self):\n",
    "        # TODO: tune learning rate\n",
    "        optimizer = torch.optim.AdamW(self.model.parameters(), lr=6e-4, betas=(0.9, 0.95), weight_decay=1e-1)\n",
    "        return [optimizer]"
   ]
  },
  {
   "cell_type": "code",
   "execution_count": 33,
   "id": "22350a63-76bd-47cb-baf5-8ec579fafb21",
   "metadata": {},
   "outputs": [],
   "source": [
    "model = TransformerModelModule(model, criterion, validation_criterion)"
   ]
  },
  {
   "cell_type": "markdown",
   "id": "31430b06-efcd-42ff-a9df-27fb74bb9b01",
   "metadata": {},
   "source": [
    "### Training hyperparameters"
   ]
  },
  {
   "cell_type": "code",
   "execution_count": 34,
   "id": "c8d79ddb-b6aa-4f3c-a930-265549a10ea0",
   "metadata": {},
   "outputs": [],
   "source": [
    "num_epochs = 10\n",
    "limit_train_batches = 1.0\n",
    "# limit_train_batches = 100\n",
    "gradient_clip_val = 0.5"
   ]
  },
  {
   "cell_type": "code",
   "execution_count": 35,
   "id": "57c2baf0-6df3-4864-8df7-6758e8ce4892",
   "metadata": {},
   "outputs": [],
   "source": [
    "# https://lightning.ai/docs/pytorch/stable/api/lightning.pytorch.loggers.tensorboard.html\n",
    "# https://lightning.ai/docs/pytorch/stable/extensions/logging.html\n",
    "# TODO: custom version name\n",
    "tb_logger = pl_loggers.TensorBoardLogger(\".\", version=None)"
   ]
  },
  {
   "cell_type": "code",
   "execution_count": 36,
   "id": "1cf1e0dc-77a4-48f2-b456-d65938de92d4",
   "metadata": {},
   "outputs": [
    {
     "name": "stderr",
     "output_type": "stream",
     "text": [
      "/userhome/cs2/tsangsyf/anaconda3_2/lib/python3.11/site-packages/lightning/fabric/plugins/environments/slurm.py:204: The `srun` command is available on your system but is not used. HINT: If your intention is to run Lightning on SLURM, prepend your python command with `srun` like so: srun python /userhome/cs2/tsangsyf/anaconda3_2/lib/python3.11/si ...\n",
      "GPU available: True (cuda), used: True\n",
      "TPU available: False, using: 0 TPU cores\n",
      "IPU available: False, using: 0 IPUs\n",
      "HPU available: False, using: 0 HPUs\n",
      "`Trainer(limit_train_batches=1.0)` was configured so 100% of the batches per epoch will be used..\n"
     ]
    }
   ],
   "source": [
    "trainer = L.Trainer(\n",
    "    max_epochs=num_epochs,\n",
    "    limit_train_batches=limit_train_batches,\n",
    "    # https://lightning.ai/docs/pytorch/stable/advanced/training_tricks.html#gradient-clipping\n",
    "    gradient_clip_val=gradient_clip_val,\n",
    "    callbacks=[\n",
    "        # https://lightning.ai/docs/pytorch/stable/common/progress_bar.html#richprogressbar\n",
    "        RichProgressBar(leave=True)\n",
    "    ],\n",
    "    logger=tb_logger,\n",
    "    # https://lightning.ai/docs/pytorch/stable/common/trainer.html#reproducibility\n",
    "    deterministic=True,\n",
    ")"
   ]
  },
  {
   "cell_type": "code",
   "execution_count": 37,
   "id": "70afdf94-e001-4a9c-a2a4-d65ace3ecb5b",
   "metadata": {},
   "outputs": [
    {
     "name": "stderr",
     "output_type": "stream",
     "text": [
      "LOCAL_RANK: 0 - CUDA_VISIBLE_DEVICES: [0]\n"
     ]
    },
    {
     "data": {
      "application/vnd.jupyter.widget-view+json": {
       "model_id": "dcdfb0c9194a4c24bc694b8e45287043",
       "version_major": 2,
       "version_minor": 0
      },
      "text/plain": [
       "Output()"
      ]
     },
     "metadata": {},
     "output_type": "display_data"
    },
    {
     "data": {
      "text/html": [
       "<pre style=\"white-space:pre;overflow-x:auto;line-height:normal;font-family:Menlo,'DejaVu Sans Mono',consolas,'Courier New',monospace\">┏━━━━━━━━━━━━━━━━━━━━━━━━━━━┳━━━━━━━━━━━━━━━━━━━━━━━━━━━┓\n",
       "┃<span style=\"font-weight: bold\">      Validate metric      </span>┃<span style=\"font-weight: bold\">       DataLoader 0        </span>┃\n",
       "┡━━━━━━━━━━━━━━━━━━━━━━━━━━━╇━━━━━━━━━━━━━━━━━━━━━━━━━━━┩\n",
       "│<span style=\"color: #008080; text-decoration-color: #008080\">         val_loss          </span>│<span style=\"color: #800080; text-decoration-color: #800080\">     6.131535530090332     </span>│\n",
       "│<span style=\"color: #008080; text-decoration-color: #008080\">      val_loss_manual      </span>│<span style=\"color: #800080; text-decoration-color: #800080\">     6.131534099578857     </span>│\n",
       "└───────────────────────────┴───────────────────────────┘\n",
       "</pre>\n"
      ],
      "text/plain": [
       "┏━━━━━━━━━━━━━━━━━━━━━━━━━━━┳━━━━━━━━━━━━━━━━━━━━━━━━━━━┓\n",
       "┃\u001b[1m \u001b[0m\u001b[1m     Validate metric     \u001b[0m\u001b[1m \u001b[0m┃\u001b[1m \u001b[0m\u001b[1m      DataLoader 0       \u001b[0m\u001b[1m \u001b[0m┃\n",
       "┡━━━━━━━━━━━━━━━━━━━━━━━━━━━╇━━━━━━━━━━━━━━━━━━━━━━━━━━━┩\n",
       "│\u001b[36m \u001b[0m\u001b[36m        val_loss         \u001b[0m\u001b[36m \u001b[0m│\u001b[35m \u001b[0m\u001b[35m    6.131535530090332    \u001b[0m\u001b[35m \u001b[0m│\n",
       "│\u001b[36m \u001b[0m\u001b[36m     val_loss_manual     \u001b[0m\u001b[36m \u001b[0m│\u001b[35m \u001b[0m\u001b[35m    6.131534099578857    \u001b[0m\u001b[35m \u001b[0m│\n",
       "└───────────────────────────┴───────────────────────────┘\n"
      ]
     },
     "metadata": {},
     "output_type": "display_data"
    },
    {
     "data": {
      "text/html": [
       "<pre style=\"white-space:pre;overflow-x:auto;line-height:normal;font-family:Menlo,'DejaVu Sans Mono',consolas,'Courier New',monospace\"></pre>\n"
      ],
      "text/plain": []
     },
     "metadata": {},
     "output_type": "display_data"
    },
    {
     "data": {
      "text/html": [
       "<pre style=\"white-space:pre;overflow-x:auto;line-height:normal;font-family:Menlo,'DejaVu Sans Mono',consolas,'Courier New',monospace\">\n",
       "</pre>\n"
      ],
      "text/plain": [
       "\n"
      ]
     },
     "metadata": {},
     "output_type": "display_data"
    },
    {
     "data": {
      "text/plain": [
       "[{'val_loss': 6.131535530090332, 'val_loss_manual': 6.131534099578857}]"
      ]
     },
     "execution_count": 37,
     "metadata": {},
     "output_type": "execute_result"
    }
   ],
   "source": [
    "trainer.validate(\n",
    "    model=model,\n",
    "    dataloaders=validation_dataloader,\n",
    ")"
   ]
  },
  {
   "cell_type": "markdown",
   "id": "9c6a577a-49c2-4641-aa72-4e1829dcfe5b",
   "metadata": {},
   "source": [
    "## Training"
   ]
  },
  {
   "cell_type": "code",
   "execution_count": 38,
   "id": "2a417a73-8f6f-4640-afc8-229401cedb77",
   "metadata": {},
   "outputs": [
    {
     "name": "stderr",
     "output_type": "stream",
     "text": [
      "/userhome/cs2/tsangsyf/anaconda3_2/lib/python3.11/site-packages/lightning/fabric/plugins/environments/slurm.py:204: The `srun` command is available on your system but is not used. HINT: If your intention is to run Lightning on SLURM, prepend your python command with `srun` like so: srun python /userhome/cs2/tsangsyf/anaconda3_2/lib/python3.11/si ...\n",
      "LOCAL_RANK: 0 - CUDA_VISIBLE_DEVICES: [0]\n"
     ]
    },
    {
     "data": {
      "text/html": [
       "<pre style=\"white-space:pre;overflow-x:auto;line-height:normal;font-family:Menlo,'DejaVu Sans Mono',consolas,'Courier New',monospace\">┏━━━┳━━━━━━━━━━━━━━━━━━━━━━┳━━━━━━━━━━━━━━━━━━┳━━━━━━━━┓\n",
       "┃<span style=\"color: #800080; text-decoration-color: #800080; font-weight: bold\">   </span>┃<span style=\"color: #800080; text-decoration-color: #800080; font-weight: bold\"> Name                 </span>┃<span style=\"color: #800080; text-decoration-color: #800080; font-weight: bold\"> Type             </span>┃<span style=\"color: #800080; text-decoration-color: #800080; font-weight: bold\"> Params </span>┃\n",
       "┡━━━╇━━━━━━━━━━━━━━━━━━━━━━╇━━━━━━━━━━━━━━━━━━╇━━━━━━━━┩\n",
       "│<span style=\"color: #7f7f7f; text-decoration-color: #7f7f7f\"> 0 </span>│ model                │ TransformerModel │ 14.4 K │\n",
       "│<span style=\"color: #7f7f7f; text-decoration-color: #7f7f7f\"> 1 </span>│ criterion            │ L1Loss           │      0 │\n",
       "│<span style=\"color: #7f7f7f; text-decoration-color: #7f7f7f\"> 2 </span>│ validation_criterion │ L1Loss           │      0 │\n",
       "└───┴──────────────────────┴──────────────────┴────────┘\n",
       "</pre>\n"
      ],
      "text/plain": [
       "┏━━━┳━━━━━━━━━━━━━━━━━━━━━━┳━━━━━━━━━━━━━━━━━━┳━━━━━━━━┓\n",
       "┃\u001b[1;35m \u001b[0m\u001b[1;35m \u001b[0m\u001b[1;35m \u001b[0m┃\u001b[1;35m \u001b[0m\u001b[1;35mName                \u001b[0m\u001b[1;35m \u001b[0m┃\u001b[1;35m \u001b[0m\u001b[1;35mType            \u001b[0m\u001b[1;35m \u001b[0m┃\u001b[1;35m \u001b[0m\u001b[1;35mParams\u001b[0m\u001b[1;35m \u001b[0m┃\n",
       "┡━━━╇━━━━━━━━━━━━━━━━━━━━━━╇━━━━━━━━━━━━━━━━━━╇━━━━━━━━┩\n",
       "│\u001b[2m \u001b[0m\u001b[2m0\u001b[0m\u001b[2m \u001b[0m│ model                │ TransformerModel │ 14.4 K │\n",
       "│\u001b[2m \u001b[0m\u001b[2m1\u001b[0m\u001b[2m \u001b[0m│ criterion            │ L1Loss           │      0 │\n",
       "│\u001b[2m \u001b[0m\u001b[2m2\u001b[0m\u001b[2m \u001b[0m│ validation_criterion │ L1Loss           │      0 │\n",
       "└───┴──────────────────────┴──────────────────┴────────┘\n"
      ]
     },
     "metadata": {},
     "output_type": "display_data"
    },
    {
     "data": {
      "text/html": [
       "<pre style=\"white-space:pre;overflow-x:auto;line-height:normal;font-family:Menlo,'DejaVu Sans Mono',consolas,'Courier New',monospace\"><span style=\"font-weight: bold\">Trainable params</span>: 14.4 K                                                                                           \n",
       "<span style=\"font-weight: bold\">Non-trainable params</span>: 0                                                                                            \n",
       "<span style=\"font-weight: bold\">Total params</span>: 14.4 K                                                                                               \n",
       "<span style=\"font-weight: bold\">Total estimated model params size (MB)</span>: 0                                                                          \n",
       "</pre>\n"
      ],
      "text/plain": [
       "\u001b[1mTrainable params\u001b[0m: 14.4 K                                                                                           \n",
       "\u001b[1mNon-trainable params\u001b[0m: 0                                                                                            \n",
       "\u001b[1mTotal params\u001b[0m: 14.4 K                                                                                               \n",
       "\u001b[1mTotal estimated model params size (MB)\u001b[0m: 0                                                                          \n"
      ]
     },
     "metadata": {},
     "output_type": "display_data"
    },
    {
     "data": {
      "application/vnd.jupyter.widget-view+json": {
       "model_id": "96393561364b400b8f79e7a185cdbbdb",
       "version_major": 2,
       "version_minor": 0
      },
      "text/plain": [
       "Output()"
      ]
     },
     "metadata": {},
     "output_type": "display_data"
    },
    {
     "data": {
      "text/html": [
       "<pre style=\"white-space:pre;overflow-x:auto;line-height:normal;font-family:Menlo,'DejaVu Sans Mono',consolas,'Courier New',monospace\"></pre>\n"
      ],
      "text/plain": []
     },
     "metadata": {},
     "output_type": "display_data"
    },
    {
     "data": {
      "text/html": [
       "<pre style=\"white-space:pre;overflow-x:auto;line-height:normal;font-family:Menlo,'DejaVu Sans Mono',consolas,'Courier New',monospace\">\n",
       "</pre>\n"
      ],
      "text/plain": [
       "\n"
      ]
     },
     "metadata": {},
     "output_type": "display_data"
    },
    {
     "data": {
      "application/vnd.jupyter.widget-view+json": {
       "model_id": "8f5e91cb580d41118165eae3f1c9de29",
       "version_major": 2,
       "version_minor": 0
      },
      "text/plain": [
       "Output()"
      ]
     },
     "metadata": {},
     "output_type": "display_data"
    },
    {
     "data": {
      "text/html": [
       "<pre style=\"white-space:pre;overflow-x:auto;line-height:normal;font-family:Menlo,'DejaVu Sans Mono',consolas,'Courier New',monospace\"></pre>\n"
      ],
      "text/plain": []
     },
     "metadata": {},
     "output_type": "display_data"
    },
    {
     "data": {
      "text/html": [
       "<pre style=\"white-space:pre;overflow-x:auto;line-height:normal;font-family:Menlo,'DejaVu Sans Mono',consolas,'Courier New',monospace\">\n",
       "</pre>\n"
      ],
      "text/plain": [
       "\n"
      ]
     },
     "metadata": {},
     "output_type": "display_data"
    },
    {
     "data": {
      "application/vnd.jupyter.widget-view+json": {
       "model_id": "e152561a9d6e4d78a1f33a1f55f7013a",
       "version_major": 2,
       "version_minor": 0
      },
      "text/plain": [
       "Output()"
      ]
     },
     "metadata": {},
     "output_type": "display_data"
    },
    {
     "data": {
      "text/html": [
       "<pre style=\"white-space:pre;overflow-x:auto;line-height:normal;font-family:Menlo,'DejaVu Sans Mono',consolas,'Courier New',monospace\"></pre>\n"
      ],
      "text/plain": []
     },
     "metadata": {},
     "output_type": "display_data"
    },
    {
     "data": {
      "text/html": [
       "<pre style=\"white-space:pre;overflow-x:auto;line-height:normal;font-family:Menlo,'DejaVu Sans Mono',consolas,'Courier New',monospace\">\n",
       "</pre>\n"
      ],
      "text/plain": [
       "\n"
      ]
     },
     "metadata": {},
     "output_type": "display_data"
    },
    {
     "data": {
      "application/vnd.jupyter.widget-view+json": {
       "model_id": "f4088ca552dd4d80b9d0a7b0bf204364",
       "version_major": 2,
       "version_minor": 0
      },
      "text/plain": [
       "Output()"
      ]
     },
     "metadata": {},
     "output_type": "display_data"
    },
    {
     "data": {
      "text/html": [
       "<pre style=\"white-space:pre;overflow-x:auto;line-height:normal;font-family:Menlo,'DejaVu Sans Mono',consolas,'Courier New',monospace\"></pre>\n"
      ],
      "text/plain": []
     },
     "metadata": {},
     "output_type": "display_data"
    },
    {
     "data": {
      "text/html": [
       "<pre style=\"white-space:pre;overflow-x:auto;line-height:normal;font-family:Menlo,'DejaVu Sans Mono',consolas,'Courier New',monospace\">\n",
       "</pre>\n"
      ],
      "text/plain": [
       "\n"
      ]
     },
     "metadata": {},
     "output_type": "display_data"
    },
    {
     "data": {
      "application/vnd.jupyter.widget-view+json": {
       "model_id": "e6f401d3fbb84ca69f2459157d07922e",
       "version_major": 2,
       "version_minor": 0
      },
      "text/plain": [
       "Output()"
      ]
     },
     "metadata": {},
     "output_type": "display_data"
    },
    {
     "data": {
      "text/html": [
       "<pre style=\"white-space:pre;overflow-x:auto;line-height:normal;font-family:Menlo,'DejaVu Sans Mono',consolas,'Courier New',monospace\"></pre>\n"
      ],
      "text/plain": []
     },
     "metadata": {},
     "output_type": "display_data"
    },
    {
     "data": {
      "text/html": [
       "<pre style=\"white-space:pre;overflow-x:auto;line-height:normal;font-family:Menlo,'DejaVu Sans Mono',consolas,'Courier New',monospace\">\n",
       "</pre>\n"
      ],
      "text/plain": [
       "\n"
      ]
     },
     "metadata": {},
     "output_type": "display_data"
    },
    {
     "data": {
      "application/vnd.jupyter.widget-view+json": {
       "model_id": "812b89abb5ea4ed7a33d57f05c62741b",
       "version_major": 2,
       "version_minor": 0
      },
      "text/plain": [
       "Output()"
      ]
     },
     "metadata": {},
     "output_type": "display_data"
    },
    {
     "data": {
      "text/html": [
       "<pre style=\"white-space:pre;overflow-x:auto;line-height:normal;font-family:Menlo,'DejaVu Sans Mono',consolas,'Courier New',monospace\"></pre>\n"
      ],
      "text/plain": []
     },
     "metadata": {},
     "output_type": "display_data"
    },
    {
     "data": {
      "text/html": [
       "<pre style=\"white-space:pre;overflow-x:auto;line-height:normal;font-family:Menlo,'DejaVu Sans Mono',consolas,'Courier New',monospace\">\n",
       "</pre>\n"
      ],
      "text/plain": [
       "\n"
      ]
     },
     "metadata": {},
     "output_type": "display_data"
    },
    {
     "data": {
      "application/vnd.jupyter.widget-view+json": {
       "model_id": "52bfc366cacf4ec7a0f734a80f57a2ed",
       "version_major": 2,
       "version_minor": 0
      },
      "text/plain": [
       "Output()"
      ]
     },
     "metadata": {},
     "output_type": "display_data"
    },
    {
     "data": {
      "text/html": [
       "<pre style=\"white-space:pre;overflow-x:auto;line-height:normal;font-family:Menlo,'DejaVu Sans Mono',consolas,'Courier New',monospace\"></pre>\n"
      ],
      "text/plain": []
     },
     "metadata": {},
     "output_type": "display_data"
    },
    {
     "data": {
      "text/html": [
       "<pre style=\"white-space:pre;overflow-x:auto;line-height:normal;font-family:Menlo,'DejaVu Sans Mono',consolas,'Courier New',monospace\">\n",
       "</pre>\n"
      ],
      "text/plain": [
       "\n"
      ]
     },
     "metadata": {},
     "output_type": "display_data"
    },
    {
     "data": {
      "application/vnd.jupyter.widget-view+json": {
       "model_id": "dcc293e8de544eb8b2a1e1525a91ea14",
       "version_major": 2,
       "version_minor": 0
      },
      "text/plain": [
       "Output()"
      ]
     },
     "metadata": {},
     "output_type": "display_data"
    },
    {
     "data": {
      "text/html": [
       "<pre style=\"white-space:pre;overflow-x:auto;line-height:normal;font-family:Menlo,'DejaVu Sans Mono',consolas,'Courier New',monospace\"></pre>\n"
      ],
      "text/plain": []
     },
     "metadata": {},
     "output_type": "display_data"
    },
    {
     "data": {
      "text/html": [
       "<pre style=\"white-space:pre;overflow-x:auto;line-height:normal;font-family:Menlo,'DejaVu Sans Mono',consolas,'Courier New',monospace\">\n",
       "</pre>\n"
      ],
      "text/plain": [
       "\n"
      ]
     },
     "metadata": {},
     "output_type": "display_data"
    },
    {
     "data": {
      "application/vnd.jupyter.widget-view+json": {
       "model_id": "5ed927e9d41746eea030d05ae0db7c43",
       "version_major": 2,
       "version_minor": 0
      },
      "text/plain": [
       "Output()"
      ]
     },
     "metadata": {},
     "output_type": "display_data"
    },
    {
     "data": {
      "text/html": [
       "<pre style=\"white-space:pre;overflow-x:auto;line-height:normal;font-family:Menlo,'DejaVu Sans Mono',consolas,'Courier New',monospace\"></pre>\n"
      ],
      "text/plain": []
     },
     "metadata": {},
     "output_type": "display_data"
    },
    {
     "data": {
      "text/html": [
       "<pre style=\"white-space:pre;overflow-x:auto;line-height:normal;font-family:Menlo,'DejaVu Sans Mono',consolas,'Courier New',monospace\">\n",
       "</pre>\n"
      ],
      "text/plain": [
       "\n"
      ]
     },
     "metadata": {},
     "output_type": "display_data"
    },
    {
     "data": {
      "application/vnd.jupyter.widget-view+json": {
       "model_id": "f893dd1378fd40d881630236f1ba969c",
       "version_major": 2,
       "version_minor": 0
      },
      "text/plain": [
       "Output()"
      ]
     },
     "metadata": {},
     "output_type": "display_data"
    },
    {
     "name": "stderr",
     "output_type": "stream",
     "text": [
      "`Trainer.fit` stopped: `max_epochs=10` reached.\n"
     ]
    },
    {
     "data": {
      "text/html": [
       "<pre style=\"white-space:pre;overflow-x:auto;line-height:normal;font-family:Menlo,'DejaVu Sans Mono',consolas,'Courier New',monospace\"></pre>\n"
      ],
      "text/plain": []
     },
     "metadata": {},
     "output_type": "display_data"
    },
    {
     "data": {
      "text/html": [
       "<pre style=\"white-space:pre;overflow-x:auto;line-height:normal;font-family:Menlo,'DejaVu Sans Mono',consolas,'Courier New',monospace\">\n",
       "</pre>\n"
      ],
      "text/plain": [
       "\n"
      ]
     },
     "metadata": {},
     "output_type": "display_data"
    }
   ],
   "source": [
    "trainer.fit(\n",
    "    model=model,\n",
    "    train_dataloaders=training_dataloader,\n",
    "    val_dataloaders=validation_dataloader,\n",
    ")"
   ]
  },
  {
   "cell_type": "code",
   "execution_count": 39,
   "id": "7139bfba-7fca-482a-bf5c-0f633b61fe04",
   "metadata": {},
   "outputs": [
    {
     "name": "stderr",
     "output_type": "stream",
     "text": [
      "LOCAL_RANK: 0 - CUDA_VISIBLE_DEVICES: [0]\n"
     ]
    },
    {
     "data": {
      "application/vnd.jupyter.widget-view+json": {
       "model_id": "933c9e3ba0894f139cafb03635a40cbb",
       "version_major": 2,
       "version_minor": 0
      },
      "text/plain": [
       "Output()"
      ]
     },
     "metadata": {},
     "output_type": "display_data"
    },
    {
     "data": {
      "text/html": [
       "<pre style=\"white-space:pre;overflow-x:auto;line-height:normal;font-family:Menlo,'DejaVu Sans Mono',consolas,'Courier New',monospace\">┏━━━━━━━━━━━━━━━━━━━━━━━━━━━┳━━━━━━━━━━━━━━━━━━━━━━━━━━━┓\n",
       "┃<span style=\"font-weight: bold\">      Validate metric      </span>┃<span style=\"font-weight: bold\">       DataLoader 0        </span>┃\n",
       "┡━━━━━━━━━━━━━━━━━━━━━━━━━━━╇━━━━━━━━━━━━━━━━━━━━━━━━━━━┩\n",
       "│<span style=\"color: #008080; text-decoration-color: #008080\">         val_loss          </span>│<span style=\"color: #800080; text-decoration-color: #800080\">     5.738607883453369     </span>│\n",
       "│<span style=\"color: #008080; text-decoration-color: #008080\">      val_loss_manual      </span>│<span style=\"color: #800080; text-decoration-color: #800080\">     5.738612651824951     </span>│\n",
       "└───────────────────────────┴───────────────────────────┘\n",
       "</pre>\n"
      ],
      "text/plain": [
       "┏━━━━━━━━━━━━━━━━━━━━━━━━━━━┳━━━━━━━━━━━━━━━━━━━━━━━━━━━┓\n",
       "┃\u001b[1m \u001b[0m\u001b[1m     Validate metric     \u001b[0m\u001b[1m \u001b[0m┃\u001b[1m \u001b[0m\u001b[1m      DataLoader 0       \u001b[0m\u001b[1m \u001b[0m┃\n",
       "┡━━━━━━━━━━━━━━━━━━━━━━━━━━━╇━━━━━━━━━━━━━━━━━━━━━━━━━━━┩\n",
       "│\u001b[36m \u001b[0m\u001b[36m        val_loss         \u001b[0m\u001b[36m \u001b[0m│\u001b[35m \u001b[0m\u001b[35m    5.738607883453369    \u001b[0m\u001b[35m \u001b[0m│\n",
       "│\u001b[36m \u001b[0m\u001b[36m     val_loss_manual     \u001b[0m\u001b[36m \u001b[0m│\u001b[35m \u001b[0m\u001b[35m    5.738612651824951    \u001b[0m\u001b[35m \u001b[0m│\n",
       "└───────────────────────────┴───────────────────────────┘\n"
      ]
     },
     "metadata": {},
     "output_type": "display_data"
    },
    {
     "data": {
      "text/html": [
       "<pre style=\"white-space:pre;overflow-x:auto;line-height:normal;font-family:Menlo,'DejaVu Sans Mono',consolas,'Courier New',monospace\"></pre>\n"
      ],
      "text/plain": []
     },
     "metadata": {},
     "output_type": "display_data"
    },
    {
     "data": {
      "text/html": [
       "<pre style=\"white-space:pre;overflow-x:auto;line-height:normal;font-family:Menlo,'DejaVu Sans Mono',consolas,'Courier New',monospace\">\n",
       "</pre>\n"
      ],
      "text/plain": [
       "\n"
      ]
     },
     "metadata": {},
     "output_type": "display_data"
    },
    {
     "data": {
      "text/plain": [
       "[{'val_loss': 5.738607883453369, 'val_loss_manual': 5.738612651824951}]"
      ]
     },
     "execution_count": 39,
     "metadata": {},
     "output_type": "execute_result"
    }
   ],
   "source": [
    "trainer.validate(\n",
    "    model=model,\n",
    "    dataloaders=validation_dataloader,\n",
    ")"
   ]
  }
 ],
 "metadata": {
  "kernelspec": {
   "display_name": "Python 3 (ipykernel)",
   "language": "python",
   "name": "python3"
  },
  "language_info": {
   "codemirror_mode": {
    "name": "ipython",
    "version": 3
   },
   "file_extension": ".py",
   "mimetype": "text/x-python",
   "name": "python",
   "nbconvert_exporter": "python",
   "pygments_lexer": "ipython3",
   "version": "3.11.5"
  }
 },
 "nbformat": 4,
 "nbformat_minor": 5
}
