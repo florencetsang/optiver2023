{
 "cells": [
  {
   "cell_type": "markdown",
   "id": "2fd47b81-4823-488e-b9d4-b6d03d67d84d",
   "metadata": {},
   "source": [
    "# Transformer encoder"
   ]
  },
  {
   "cell_type": "code",
   "execution_count": 1,
   "id": "09ba5f06-d483-4625-8b0e-101f05afcb67",
   "metadata": {},
   "outputs": [],
   "source": [
    "%load_ext autoreload\n",
    "%autoreload 2"
   ]
  },
  {
   "cell_type": "code",
   "execution_count": 2,
   "id": "3d284441-83ea-4b5e-bbc2-df7b7f23e04f",
   "metadata": {},
   "outputs": [],
   "source": [
    "import math\n",
    "\n",
    "import numpy as np\n",
    "import pandas as pd\n",
    "\n",
    "import torch\n",
    "from torch import nn, Tensor\n",
    "from torch.nn import TransformerEncoder, TransformerEncoderLayer\n",
    "from torch.optim import AdamW\n",
    "\n",
    "import lightning as L\n",
    "from lightning.pytorch import seed_everything\n",
    "from lightning.pytorch.callbacks import RichProgressBar\n",
    "from lightning.pytorch import loggers as pl_loggers\n",
    "from lightning.pytorch.callbacks import ModelCheckpoint"
   ]
  },
  {
   "cell_type": "code",
   "execution_count": 3,
   "id": "3df76665-28a9-4213-8151-02415806dddc",
   "metadata": {},
   "outputs": [
    {
     "name": "stderr",
     "output_type": "stream",
     "text": [
      "Exception ignored on calling ctypes callback function: <function _ThreadpoolInfo._find_modules_with_dl_iterate_phdr.<locals>.match_module_callback at 0x14826585e520>\n",
      "Traceback (most recent call last):\n",
      "  File \"/userhome/cs2/tsangsyf/anaconda3_2/lib/python3.11/site-packages/threadpoolctl.py\", line 400, in match_module_callback\n",
      "    self._make_module_from_path(filepath)\n",
      "  File \"/userhome/cs2/tsangsyf/anaconda3_2/lib/python3.11/site-packages/threadpoolctl.py\", line 515, in _make_module_from_path\n",
      "    module = module_class(filepath, prefix, user_api, internal_api)\n",
      "             ^^^^^^^^^^^^^^^^^^^^^^^^^^^^^^^^^^^^^^^^^^^^^^^^^^^^^^\n",
      "  File \"/userhome/cs2/tsangsyf/anaconda3_2/lib/python3.11/site-packages/threadpoolctl.py\", line 606, in __init__\n",
      "    self.version = self.get_version()\n",
      "                   ^^^^^^^^^^^^^^^^^^\n",
      "  File \"/userhome/cs2/tsangsyf/anaconda3_2/lib/python3.11/site-packages/threadpoolctl.py\", line 646, in get_version\n",
      "    config = get_config().split()\n",
      "             ^^^^^^^^^^^^^^^^^^\n",
      "AttributeError: 'NoneType' object has no attribute 'split'\n"
     ]
    }
   ],
   "source": [
    "from data_preprocessor.data_preprocessor import CompositeDataPreprocessor, CompositeGroupedDataPreprocessor, ReduceMemUsageDataPreprocessor, FillNaPreProcessor\n",
    "from data_preprocessor.feature_engineering import (\n",
    "    BasicFeaturesPreprocessor,\n",
    "    DupletsTripletsPreprocessor,\n",
    "    MovingAvgPreProcessor,\n",
    "    RemoveIrrelevantFeaturesDataPreprocessor,\n",
    "    DropTargetNADataPreprocessor,\n",
    "    FarNearPriceFillNaPreprocessor,\n",
    "    MovingAvgFillNaPreprocessor,\n",
    "    RemoveRecordsByStockDateIdPreprocessor,\n",
    ")\n",
    "from data_preprocessor.stock_feature_engineering import (\n",
    "    StockNormalizeFeaturesPreprocessor,\n",
    ")\n",
    "from data_preprocessor.polynomial_features import PolynomialFeaturesPreProcessor\n",
    "\n",
    "from data_generator.data_generator import DefaultTrainEvalDataGenerator, ManualKFoldDataGenerator, TimeSeriesKFoldDataGenerator"
   ]
  },
  {
   "cell_type": "code",
   "execution_count": 4,
   "id": "83b6c959-8bcf-4068-8a9b-4aab7477111a",
   "metadata": {},
   "outputs": [
    {
     "name": "stderr",
     "output_type": "stream",
     "text": [
      "[rank: 0] Seed set to 42\n"
     ]
    },
    {
     "data": {
      "text/plain": [
       "42"
      ]
     },
     "execution_count": 4,
     "metadata": {},
     "output_type": "execute_result"
    }
   ],
   "source": [
    "# https://lightning.ai/docs/pytorch/stable/common/trainer.html#reproducibility\n",
    "seed_everything(42, workers=True)"
   ]
  },
  {
   "cell_type": "markdown",
   "id": "44c80e32-91dc-4ffd-adbc-c179629764d1",
   "metadata": {},
   "source": [
    "# Hyperparameters / Setup"
   ]
  },
  {
   "cell_type": "code",
   "execution_count": 5,
   "id": "f0360f90",
   "metadata": {},
   "outputs": [],
   "source": [
    "checkpoint_dir = \"transformer_encoder_by_time_checkpoints/20240425_transformer_dupletstriplets\""
   ]
  },
  {
   "cell_type": "code",
   "execution_count": 6,
   "id": "6c14e856-bb8f-4468-bb9c-e7b3cbfb04bc",
   "metadata": {},
   "outputs": [],
   "source": [
    "model_folder_version_name = None\n",
    "# change to a string for a specific name\n",
    "# model_folder_version_name = \"test\"\n",
    "\n",
    "# https://lightning.ai/docs/pytorch/stable/api/lightning.pytorch.loggers.tensorboard.html\n",
    "# https://lightning.ai/docs/pytorch/stable/extensions/logging.html\n",
    "tb_logger = pl_loggers.TensorBoardLogger(\".\", version=model_folder_version_name)"
   ]
  },
  {
   "cell_type": "markdown",
   "id": "198c2882-c5a3-484a-8b03-065acd7228f7",
   "metadata": {},
   "source": [
    "## Train-validation split (align with LightGBM experiment/setup for fair comparison)"
   ]
  },
  {
   "cell_type": "code",
   "execution_count": 7,
   "id": "e9cf3509-5e51-4521-abaa-ba629f708922",
   "metadata": {},
   "outputs": [],
   "source": [
    "N_fold = 5\n",
    "time_series_k_fold_data_generator = TimeSeriesKFoldDataGenerator(n_fold=N_fold, test_set_ratio=0.1)"
   ]
  },
  {
   "cell_type": "markdown",
   "id": "b7a91ce5-2b78-4283-96d8-bd63a79e3b79",
   "metadata": {},
   "source": [
    "## Data hyperparameters"
   ]
  },
  {
   "cell_type": "code",
   "execution_count": 8,
   "id": "827d32ac-2f16-47a8-804f-9a99c7f3bfab",
   "metadata": {},
   "outputs": [],
   "source": [
    "prediction_length = 1\n",
    "seq_len = 55\n",
    "\n",
    "training_batch_size = 256\n",
    "validation_batch_size = 256"
   ]
  },
  {
   "cell_type": "markdown",
   "id": "c0f8d4d0-7b06-43df-ab37-39dc626ea32f",
   "metadata": {},
   "source": [
    "## Model hyperparameters"
   ]
  },
  {
   "cell_type": "code",
   "execution_count": 9,
   "id": "a795a422-fa6a-4195-961b-2c0b9e712f2f",
   "metadata": {},
   "outputs": [],
   "source": [
    "embedding_dim = 4\n",
    "d_model = 32\n",
    "nhead = 4\n",
    "d_hid = 32\n",
    "nlayers = 2\n",
    "dropout = 0.1"
   ]
  },
  {
   "cell_type": "markdown",
   "id": "457d5186-c564-42e9-98c7-900ed8a898de",
   "metadata": {},
   "source": [
    "## Training hyperparameters"
   ]
  },
  {
   "cell_type": "code",
   "execution_count": 10,
   "id": "c8d79ddb-b6aa-4f3c-a930-265549a10ea0",
   "metadata": {},
   "outputs": [],
   "source": [
    "num_epochs = 10\n",
    "limit_train_batches = 1.0\n",
    "# limit_train_batches = 2\n",
    "learning_rate = 1e-3\n",
    "gradient_clip_val = 0.5"
   ]
  },
  {
   "cell_type": "markdown",
   "id": "eaa8b75b-6d45-48ad-9930-16263cafbabe",
   "metadata": {},
   "source": [
    "# Model\n",
    "\n",
    "TODO:\n",
    "1. use input_ff_sigmoid?\n",
    "2. any further model enhancement?"
   ]
  },
  {
   "cell_type": "code",
   "execution_count": 11,
   "id": "fc303388-ea46-4812-808d-9ffd9984fb78",
   "metadata": {},
   "outputs": [],
   "source": [
    "class TransformerModel(nn.Module):\n",
    "    def __init__(\n",
    "        self,\n",
    "        num_input_features: int,\n",
    "        num_classes: int,\n",
    "        embedding_dim: int,\n",
    "        d_model: int,\n",
    "        nhead: int,\n",
    "        d_hid: int,\n",
    "        nlayers: int,\n",
    "        dropout: float,\n",
    "    ):\n",
    "        super().__init__()\n",
    "        self.model_type = 'Transformer'\n",
    "        self.embedding = nn.Embedding(num_classes, embedding_dim)\n",
    "        self.input_ff = nn.Linear(num_input_features + embedding_dim, d_model)\n",
    "        self.input_ff_sigmoid = nn.Sigmoid()\n",
    "        encoder_layers = TransformerEncoderLayer(d_model, nhead, d_hid, dropout, batch_first=True)\n",
    "        self.transformer_encoder = TransformerEncoder(encoder_layers, nlayers)\n",
    "        self.d_model = d_model\n",
    "        self.final_linear = nn.Linear(d_model, 1)\n",
    "\n",
    "    def forward(\n",
    "        self,\n",
    "        src: Tensor,\n",
    "        item_ids: Tensor,\n",
    "        src_mask: Tensor = None,\n",
    "    ) -> Tensor:\n",
    "        # src: [batch_size b, seq_len k 200, features 27]\n",
    "        # item_ids: [batch_size b, seq_len 200]\n",
    "        batch_size = src.size(dim=0)\n",
    "        seq_len = src.size(dim=1)\n",
    "        num_input_features = src.size(dim=2)\n",
    "        output = src\n",
    "        embedded = self.embedding(item_ids)\n",
    "        # embedded: [batch_size b, seq_len 200, embedding_dim]\n",
    "        # idea from https://github.com/huggingface/transformers/blob/v4.38.2/src/transformers/models/time_series_transformer/modeling_time_series_transformer.py#L1290\n",
    "        # embedded = embedded.unsqueeze(dim=1)\n",
    "        # embedded: [batch_size b, 1, embedding_dim]\n",
    "        # embedded = embedded.expand(-1, seq_len, -1)\n",
    "        # embedded: [batch_size b, seq_len k 55, embedding_dim]\n",
    "\n",
    "        output = torch.cat((src, embedded), dim=-1)\n",
    "        # [batch_size b, seq_len k 55, features 27 + embedding_dim]\n",
    "\n",
    "        output = self.input_ff(output)\n",
    "        # [batch_size b, seq_len k 55, d_model]\n",
    "\n",
    "        # TODO: do we need sigmoid?\n",
    "        output = self.input_ff_sigmoid(output)\n",
    "\n",
    "        # if src_mask is None:\n",
    "        #     \"\"\"Generate a square causal mask for the sequence. The masked positions are filled with float('-inf').\n",
    "        #     Unmasked positions are filled with float(0.0).\n",
    "        #     \"\"\"\n",
    "        #     src_mask = nn.Transformer.generate_square_subsequent_mask(seq_len)\n",
    "        #     # no \"to device\" for lightning\n",
    "        #     # https://pytorch.org/docs/stable/generated/torch.Tensor.to.html#torch.Tensor.to\n",
    "        #     src_mask = src_mask.to(output)\n",
    "        #     # src_mask = squared (triangle matrix) matrix [seq_len k 55, seq_len k 55]\n",
    "\n",
    "        output = self.transformer_encoder(output, src_mask)\n",
    "        # [batch_size b, seq_len k 200, d_model]\n",
    "\n",
    "        output = self.final_linear(output)\n",
    "        # [batch_size b, seq_len k 200, 1]\n",
    "\n",
    "        # # take the \"last\" prediction, which includes all previous information\n",
    "        # output = output[:, -1, :]\n",
    "        # # [batch_size b, 1]\n",
    "        output = output.squeeze(dim=2)\n",
    "        # [batch_size b, , seq_len k 200]\n",
    "\n",
    "        return output"
   ]
  },
  {
   "cell_type": "code",
   "execution_count": 12,
   "id": "6dad7341-2919-4623-9c05-47057d950bed",
   "metadata": {},
   "outputs": [],
   "source": [
    "# https://stackoverflow.com/questions/49433936/how-do-i-initialize-weights-in-pytorch\n",
    "# https://pytorch.org/docs/stable/nn.init.html#torch.nn.init.xavier_uniform_\n",
    "def init_weights(m):\n",
    "    if isinstance(m, nn.Linear):\n",
    "        torch.nn.init.xavier_uniform_(m.weight)\n",
    "        m.bias.data.fill_(0.01)"
   ]
  },
  {
   "cell_type": "markdown",
   "id": "63b71edd-ebc9-41f5-8f80-984b55e48674",
   "metadata": {},
   "source": [
    "## Load data"
   ]
  },
  {
   "cell_type": "code",
   "execution_count": 13,
   "id": "5316823f-0a3f-4dfd-ad2e-21944357b04a",
   "metadata": {},
   "outputs": [],
   "source": [
    "df = pd.read_csv(\n",
    "    \"../optiver-trading-at-the-close/train.csv\",\n",
    "    dtype={\n",
    "        # stock_id should be int64 / long for embedding\n",
    "        \"date_id\": np.float32,\n",
    "        \"seconds_in_bucket\": np.float32,\n",
    "        \"imbalance_size\": np.float32,\n",
    "        \"imbalance_buy_sell_flag\": np.float32,\n",
    "        \"reference_price\": np.float32,\n",
    "        \"matched_size\": np.float32,\n",
    "        \"far_price\": np.float32,\n",
    "        \"near_price\": np.float32,\n",
    "        \"bid_price\": np.float32,\n",
    "        \"bid_size\": np.float32,\n",
    "        \"ask_price\": np.float32,\n",
    "        \"ask_size\": np.float32,\n",
    "        \"wap\": np.float32,\n",
    "        \"target\": np.float32,\n",
    "        \"time_id\": np.int64,\n",
    "    },\n",
    "    usecols=[\n",
    "        \"stock_id\",\n",
    "        \"date_id\",\n",
    "        \"seconds_in_bucket\",\n",
    "        \"imbalance_size\",\n",
    "        \"imbalance_buy_sell_flag\",\n",
    "        \"reference_price\",\n",
    "        \"matched_size\",\n",
    "        \"far_price\",\n",
    "        \"near_price\",\n",
    "        \"bid_price\",\n",
    "        \"bid_size\",\n",
    "        \"ask_price\",\n",
    "        \"ask_size\",\n",
    "        \"wap\",\n",
    "        \"target\",\n",
    "        \"time_id\",\n",
    "    ]\n",
    ")\n",
    "raw_df = df.copy(deep=True)"
   ]
  },
  {
   "cell_type": "code",
   "execution_count": 14,
   "id": "2294ef50-c777-4ace-8624-8e966ba0f0f6",
   "metadata": {},
   "outputs": [],
   "source": [
    "# deep copy for easy reference to raw df without reloading from csv\n",
    "df = raw_df.copy(deep=True)"
   ]
  },
  {
   "cell_type": "code",
   "execution_count": 15,
   "id": "a4d6efd1-8e47-4daa-a597-dda8fd29abbe",
   "metadata": {},
   "outputs": [
    {
     "data": {
      "text/html": [
       "<div>\n",
       "<style scoped>\n",
       "    .dataframe tbody tr th:only-of-type {\n",
       "        vertical-align: middle;\n",
       "    }\n",
       "\n",
       "    .dataframe tbody tr th {\n",
       "        vertical-align: top;\n",
       "    }\n",
       "\n",
       "    .dataframe thead th {\n",
       "        text-align: right;\n",
       "    }\n",
       "</style>\n",
       "<table border=\"1\" class=\"dataframe\">\n",
       "  <thead>\n",
       "    <tr style=\"text-align: right;\">\n",
       "      <th></th>\n",
       "      <th>stock_id</th>\n",
       "      <th>date_id</th>\n",
       "      <th>seconds_in_bucket</th>\n",
       "      <th>imbalance_size</th>\n",
       "      <th>imbalance_buy_sell_flag</th>\n",
       "      <th>reference_price</th>\n",
       "      <th>matched_size</th>\n",
       "      <th>far_price</th>\n",
       "      <th>near_price</th>\n",
       "      <th>bid_price</th>\n",
       "      <th>bid_size</th>\n",
       "      <th>ask_price</th>\n",
       "      <th>ask_size</th>\n",
       "      <th>wap</th>\n",
       "      <th>target</th>\n",
       "      <th>time_id</th>\n",
       "    </tr>\n",
       "  </thead>\n",
       "  <tbody>\n",
       "    <tr>\n",
       "      <th>0</th>\n",
       "      <td>0</td>\n",
       "      <td>0.0</td>\n",
       "      <td>0.0</td>\n",
       "      <td>3.180603e+06</td>\n",
       "      <td>1.0</td>\n",
       "      <td>0.999812</td>\n",
       "      <td>13380277.00</td>\n",
       "      <td>NaN</td>\n",
       "      <td>NaN</td>\n",
       "      <td>0.999812</td>\n",
       "      <td>60651.500000</td>\n",
       "      <td>1.000026</td>\n",
       "      <td>8493.030273</td>\n",
       "      <td>1.000000</td>\n",
       "      <td>-3.029704</td>\n",
       "      <td>0</td>\n",
       "    </tr>\n",
       "    <tr>\n",
       "      <th>1</th>\n",
       "      <td>1</td>\n",
       "      <td>0.0</td>\n",
       "      <td>0.0</td>\n",
       "      <td>1.666039e+05</td>\n",
       "      <td>-1.0</td>\n",
       "      <td>0.999896</td>\n",
       "      <td>1642214.25</td>\n",
       "      <td>NaN</td>\n",
       "      <td>NaN</td>\n",
       "      <td>0.999896</td>\n",
       "      <td>3233.040039</td>\n",
       "      <td>1.000660</td>\n",
       "      <td>20605.089844</td>\n",
       "      <td>1.000000</td>\n",
       "      <td>-5.519986</td>\n",
       "      <td>0</td>\n",
       "    </tr>\n",
       "    <tr>\n",
       "      <th>2</th>\n",
       "      <td>2</td>\n",
       "      <td>0.0</td>\n",
       "      <td>0.0</td>\n",
       "      <td>3.028799e+05</td>\n",
       "      <td>-1.0</td>\n",
       "      <td>0.999561</td>\n",
       "      <td>1819368.00</td>\n",
       "      <td>NaN</td>\n",
       "      <td>NaN</td>\n",
       "      <td>0.999403</td>\n",
       "      <td>37956.000000</td>\n",
       "      <td>1.000298</td>\n",
       "      <td>18995.000000</td>\n",
       "      <td>1.000000</td>\n",
       "      <td>-8.389950</td>\n",
       "      <td>0</td>\n",
       "    </tr>\n",
       "    <tr>\n",
       "      <th>3</th>\n",
       "      <td>3</td>\n",
       "      <td>0.0</td>\n",
       "      <td>0.0</td>\n",
       "      <td>1.191768e+07</td>\n",
       "      <td>-1.0</td>\n",
       "      <td>1.000171</td>\n",
       "      <td>18389746.00</td>\n",
       "      <td>NaN</td>\n",
       "      <td>NaN</td>\n",
       "      <td>0.999999</td>\n",
       "      <td>2324.899902</td>\n",
       "      <td>1.000214</td>\n",
       "      <td>479032.406250</td>\n",
       "      <td>1.000000</td>\n",
       "      <td>-4.010201</td>\n",
       "      <td>0</td>\n",
       "    </tr>\n",
       "    <tr>\n",
       "      <th>4</th>\n",
       "      <td>4</td>\n",
       "      <td>0.0</td>\n",
       "      <td>0.0</td>\n",
       "      <td>4.475500e+05</td>\n",
       "      <td>-1.0</td>\n",
       "      <td>0.999532</td>\n",
       "      <td>17860614.00</td>\n",
       "      <td>NaN</td>\n",
       "      <td>NaN</td>\n",
       "      <td>0.999394</td>\n",
       "      <td>16485.539062</td>\n",
       "      <td>1.000016</td>\n",
       "      <td>434.100006</td>\n",
       "      <td>1.000000</td>\n",
       "      <td>-7.349849</td>\n",
       "      <td>0</td>\n",
       "    </tr>\n",
       "    <tr>\n",
       "      <th>...</th>\n",
       "      <td>...</td>\n",
       "      <td>...</td>\n",
       "      <td>...</td>\n",
       "      <td>...</td>\n",
       "      <td>...</td>\n",
       "      <td>...</td>\n",
       "      <td>...</td>\n",
       "      <td>...</td>\n",
       "      <td>...</td>\n",
       "      <td>...</td>\n",
       "      <td>...</td>\n",
       "      <td>...</td>\n",
       "      <td>...</td>\n",
       "      <td>...</td>\n",
       "      <td>...</td>\n",
       "      <td>...</td>\n",
       "    </tr>\n",
       "    <tr>\n",
       "      <th>5237975</th>\n",
       "      <td>195</td>\n",
       "      <td>480.0</td>\n",
       "      <td>540.0</td>\n",
       "      <td>2.440723e+06</td>\n",
       "      <td>-1.0</td>\n",
       "      <td>1.000317</td>\n",
       "      <td>28280362.00</td>\n",
       "      <td>0.999734</td>\n",
       "      <td>0.999734</td>\n",
       "      <td>1.000317</td>\n",
       "      <td>32257.039062</td>\n",
       "      <td>1.000434</td>\n",
       "      <td>319862.406250</td>\n",
       "      <td>1.000328</td>\n",
       "      <td>2.310276</td>\n",
       "      <td>26454</td>\n",
       "    </tr>\n",
       "    <tr>\n",
       "      <th>5237976</th>\n",
       "      <td>196</td>\n",
       "      <td>480.0</td>\n",
       "      <td>540.0</td>\n",
       "      <td>3.495105e+05</td>\n",
       "      <td>-1.0</td>\n",
       "      <td>1.000643</td>\n",
       "      <td>9187699.00</td>\n",
       "      <td>1.000129</td>\n",
       "      <td>1.000386</td>\n",
       "      <td>1.000643</td>\n",
       "      <td>205108.406250</td>\n",
       "      <td>1.000900</td>\n",
       "      <td>93393.070312</td>\n",
       "      <td>1.000819</td>\n",
       "      <td>-8.220077</td>\n",
       "      <td>26454</td>\n",
       "    </tr>\n",
       "    <tr>\n",
       "      <th>5237977</th>\n",
       "      <td>197</td>\n",
       "      <td>480.0</td>\n",
       "      <td>540.0</td>\n",
       "      <td>0.000000e+00</td>\n",
       "      <td>0.0</td>\n",
       "      <td>0.995789</td>\n",
       "      <td>12725436.00</td>\n",
       "      <td>0.995789</td>\n",
       "      <td>0.995789</td>\n",
       "      <td>0.995789</td>\n",
       "      <td>16790.660156</td>\n",
       "      <td>0.995883</td>\n",
       "      <td>180038.312500</td>\n",
       "      <td>0.995797</td>\n",
       "      <td>1.169443</td>\n",
       "      <td>26454</td>\n",
       "    </tr>\n",
       "    <tr>\n",
       "      <th>5237978</th>\n",
       "      <td>198</td>\n",
       "      <td>480.0</td>\n",
       "      <td>540.0</td>\n",
       "      <td>1.000899e+06</td>\n",
       "      <td>1.0</td>\n",
       "      <td>0.999210</td>\n",
       "      <td>94773272.00</td>\n",
       "      <td>0.999210</td>\n",
       "      <td>0.999210</td>\n",
       "      <td>0.998970</td>\n",
       "      <td>125631.718750</td>\n",
       "      <td>0.999210</td>\n",
       "      <td>669893.000000</td>\n",
       "      <td>0.999008</td>\n",
       "      <td>-1.540184</td>\n",
       "      <td>26454</td>\n",
       "    </tr>\n",
       "    <tr>\n",
       "      <th>5237979</th>\n",
       "      <td>199</td>\n",
       "      <td>480.0</td>\n",
       "      <td>540.0</td>\n",
       "      <td>1.884286e+06</td>\n",
       "      <td>-1.0</td>\n",
       "      <td>1.002129</td>\n",
       "      <td>24073678.00</td>\n",
       "      <td>1.000859</td>\n",
       "      <td>1.001494</td>\n",
       "      <td>1.002129</td>\n",
       "      <td>250081.437500</td>\n",
       "      <td>1.002447</td>\n",
       "      <td>300167.562500</td>\n",
       "      <td>1.002274</td>\n",
       "      <td>-6.530285</td>\n",
       "      <td>26454</td>\n",
       "    </tr>\n",
       "  </tbody>\n",
       "</table>\n",
       "<p>5237980 rows × 16 columns</p>\n",
       "</div>"
      ],
      "text/plain": [
       "         stock_id  date_id  seconds_in_bucket  imbalance_size  \\\n",
       "0               0      0.0                0.0    3.180603e+06   \n",
       "1               1      0.0                0.0    1.666039e+05   \n",
       "2               2      0.0                0.0    3.028799e+05   \n",
       "3               3      0.0                0.0    1.191768e+07   \n",
       "4               4      0.0                0.0    4.475500e+05   \n",
       "...           ...      ...                ...             ...   \n",
       "5237975       195    480.0              540.0    2.440723e+06   \n",
       "5237976       196    480.0              540.0    3.495105e+05   \n",
       "5237977       197    480.0              540.0    0.000000e+00   \n",
       "5237978       198    480.0              540.0    1.000899e+06   \n",
       "5237979       199    480.0              540.0    1.884286e+06   \n",
       "\n",
       "         imbalance_buy_sell_flag  reference_price  matched_size  far_price  \\\n",
       "0                            1.0         0.999812   13380277.00        NaN   \n",
       "1                           -1.0         0.999896    1642214.25        NaN   \n",
       "2                           -1.0         0.999561    1819368.00        NaN   \n",
       "3                           -1.0         1.000171   18389746.00        NaN   \n",
       "4                           -1.0         0.999532   17860614.00        NaN   \n",
       "...                          ...              ...           ...        ...   \n",
       "5237975                     -1.0         1.000317   28280362.00   0.999734   \n",
       "5237976                     -1.0         1.000643    9187699.00   1.000129   \n",
       "5237977                      0.0         0.995789   12725436.00   0.995789   \n",
       "5237978                      1.0         0.999210   94773272.00   0.999210   \n",
       "5237979                     -1.0         1.002129   24073678.00   1.000859   \n",
       "\n",
       "         near_price  bid_price       bid_size  ask_price       ask_size  \\\n",
       "0               NaN   0.999812   60651.500000   1.000026    8493.030273   \n",
       "1               NaN   0.999896    3233.040039   1.000660   20605.089844   \n",
       "2               NaN   0.999403   37956.000000   1.000298   18995.000000   \n",
       "3               NaN   0.999999    2324.899902   1.000214  479032.406250   \n",
       "4               NaN   0.999394   16485.539062   1.000016     434.100006   \n",
       "...             ...        ...            ...        ...            ...   \n",
       "5237975    0.999734   1.000317   32257.039062   1.000434  319862.406250   \n",
       "5237976    1.000386   1.000643  205108.406250   1.000900   93393.070312   \n",
       "5237977    0.995789   0.995789   16790.660156   0.995883  180038.312500   \n",
       "5237978    0.999210   0.998970  125631.718750   0.999210  669893.000000   \n",
       "5237979    1.001494   1.002129  250081.437500   1.002447  300167.562500   \n",
       "\n",
       "              wap    target  time_id  \n",
       "0        1.000000 -3.029704        0  \n",
       "1        1.000000 -5.519986        0  \n",
       "2        1.000000 -8.389950        0  \n",
       "3        1.000000 -4.010201        0  \n",
       "4        1.000000 -7.349849        0  \n",
       "...           ...       ...      ...  \n",
       "5237975  1.000328  2.310276    26454  \n",
       "5237976  1.000819 -8.220077    26454  \n",
       "5237977  0.995797  1.169443    26454  \n",
       "5237978  0.999008 -1.540184    26454  \n",
       "5237979  1.002274 -6.530285    26454  \n",
       "\n",
       "[5237980 rows x 16 columns]"
      ]
     },
     "metadata": {},
     "output_type": "display_data"
    },
    {
     "name": "stdout",
     "output_type": "stream",
     "text": [
      "stock_id                     int64\n",
      "date_id                    float32\n",
      "seconds_in_bucket          float32\n",
      "imbalance_size             float32\n",
      "imbalance_buy_sell_flag    float32\n",
      "reference_price            float32\n",
      "matched_size               float32\n",
      "far_price                  float32\n",
      "near_price                 float32\n",
      "bid_price                  float32\n",
      "bid_size                   float32\n",
      "ask_price                  float32\n",
      "ask_size                   float32\n",
      "wap                        float32\n",
      "target                     float32\n",
      "time_id                      int64\n",
      "dtype: object\n"
     ]
    }
   ],
   "source": [
    "display(df)\n",
    "print(df.dtypes)"
   ]
  },
  {
   "cell_type": "code",
   "execution_count": 16,
   "id": "27a64d87-d298-4760-97ff-9804ce255eeb",
   "metadata": {},
   "outputs": [
    {
     "name": "stdout",
     "output_type": "stream",
     "text": [
      "5 5 5 5\n",
      "(4714182, 16) (523798, 16) (5237980, 16)\n"
     ]
    }
   ],
   "source": [
    "k_fold_train_dfs, k_fold_val_dfs, k_fold_num_train_val_sets = time_series_k_fold_data_generator.generate(df)\n",
    "k_fold_train_df = k_fold_train_dfs[-1]\n",
    "k_fold_val_df = k_fold_val_dfs[-1]\n",
    "k_fold_train_df_index = k_fold_train_df.index\n",
    "k_fold_val_df_index = k_fold_val_df.index\n",
    "print(len(k_fold_train_dfs), len(k_fold_val_dfs), k_fold_num_train_val_sets, N_fold)\n",
    "assert k_fold_num_train_val_sets == N_fold and len(k_fold_train_dfs) == N_fold and len(k_fold_val_dfs) == N_fold\n",
    "print(k_fold_train_df.shape, k_fold_val_df.shape, df.shape)\n",
    "assert k_fold_train_df.shape[0] + k_fold_val_df.shape[0] == df.shape[0]"
   ]
  },
  {
   "cell_type": "markdown",
   "id": "532f86ef-d1a7-4fd9-b4fb-51317ad6aa43",
   "metadata": {},
   "source": [
    "## Data pre-processing and features"
   ]
  },
  {
   "cell_type": "code",
   "execution_count": 17,
   "id": "39b55231-1237-441f-a6e0-ef0c846e592f",
   "metadata": {},
   "outputs": [],
   "source": [
    "processors = [\n",
    "    RemoveRecordsByStockDateIdPreprocessor([\n",
    "        {\"stock_id\": 19, \"date_id\": 438},\n",
    "        {\"stock_id\": 101, \"date_id\": 328},\n",
    "        {\"stock_id\": 131, \"date_id\": 35},\n",
    "        {\"stock_id\": 158, \"date_id\": 388},\n",
    "    ]),\n",
    "    FarNearPriceFillNaPreprocessor(),\n",
    "    # ReduceMemUsageDataPreprocessor(verbose=True),\n",
    "    # BasicFeaturesPreprocessor(),\n",
    "    DupletsTripletsPreprocessor(enable_triplets=False),\n",
    "    # MovingAvgPreProcessor(\"wap\"),\n",
    "    # MovingAvgFillNaPreprocessor(\"wap\", 1.0),\n",
    "    # StockIdFeaturesPreProcessor(),\n",
    "    # DropTargetNADataPreprocessor(),\n",
    "    # RemoveIrrelevantFeaturesDataPreprocessor(['stock_id', 'date_id','time_id', 'row_id']),\n",
    "    # FillNaPreProcessor(),\n",
    "    # PolynomialFeaturesPreProcessor(),\n",
    "]\n",
    "processor = CompositeDataPreprocessor(processors)"
   ]
  },
  {
   "cell_type": "code",
   "execution_count": 18,
   "id": "d0187ad1-6a4f-46f3-92bc-47973e0250dd",
   "metadata": {},
   "outputs": [
    {
     "name": "stdout",
     "output_type": "stream",
     "text": [
      "CompositeDataPreprocessor - original df shape: (5237980, 16)\n",
      "Processing RemoveRecordsByStockDateIdPreprocessor...\n",
      "RemoveRecordsByStockDateIdPreprocessor - removing 220 records\n",
      "RemoveRecordsByStockDateIdPreprocessor took 0.56s. New df shape: (5237760, 16).\n",
      "Processing FarNearPriceFillNaPreprocessor...\n",
      "FarNearPriceFillNaPreprocessor took 0.05s. New df shape: (5237760, 16).\n",
      "Processing DupletsTripletsPreprocessor...\n",
      "DupletsTripletsPreprocessor took 1.41s. New df shape: (5237760, 31).\n",
      "CompositeDataPreprocessor - final df shape: (5237760, 31)\n"
     ]
    }
   ],
   "source": [
    "df = processor.apply(df)"
   ]
  },
  {
   "cell_type": "code",
   "execution_count": 19,
   "id": "e974f358-9e3b-437b-856d-b60559107eff",
   "metadata": {},
   "outputs": [
    {
     "name": "stdout",
     "output_type": "stream",
     "text": [
      "Index(['stock_id', 'date_id', 'seconds_in_bucket', 'imbalance_size',\n",
      "       'imbalance_buy_sell_flag', 'reference_price', 'matched_size',\n",
      "       'far_price', 'near_price', 'bid_price', 'bid_size', 'ask_price',\n",
      "       'ask_size', 'wap', 'target', 'time_id', 'reference_price_far_price_imb',\n",
      "       'reference_price_near_price_imb', 'reference_price_ask_price_imb',\n",
      "       'reference_price_bid_price_imb', 'reference_price_wap_imb',\n",
      "       'far_price_near_price_imb', 'far_price_ask_price_imb',\n",
      "       'far_price_bid_price_imb', 'far_price_wap_imb',\n",
      "       'near_price_ask_price_imb', 'near_price_bid_price_imb',\n",
      "       'near_price_wap_imb', 'ask_price_bid_price_imb', 'ask_price_wap_imb',\n",
      "       'bid_price_wap_imb'],\n",
      "      dtype='object')\n"
     ]
    },
    {
     "data": {
      "text/html": [
       "<div>\n",
       "<style scoped>\n",
       "    .dataframe tbody tr th:only-of-type {\n",
       "        vertical-align: middle;\n",
       "    }\n",
       "\n",
       "    .dataframe tbody tr th {\n",
       "        vertical-align: top;\n",
       "    }\n",
       "\n",
       "    .dataframe thead th {\n",
       "        text-align: right;\n",
       "    }\n",
       "</style>\n",
       "<table border=\"1\" class=\"dataframe\">\n",
       "  <thead>\n",
       "    <tr style=\"text-align: right;\">\n",
       "      <th></th>\n",
       "      <th>stock_id</th>\n",
       "      <th>date_id</th>\n",
       "      <th>seconds_in_bucket</th>\n",
       "      <th>imbalance_size</th>\n",
       "      <th>imbalance_buy_sell_flag</th>\n",
       "      <th>reference_price</th>\n",
       "      <th>matched_size</th>\n",
       "      <th>far_price</th>\n",
       "      <th>near_price</th>\n",
       "      <th>bid_price</th>\n",
       "      <th>...</th>\n",
       "      <th>far_price_near_price_imb</th>\n",
       "      <th>far_price_ask_price_imb</th>\n",
       "      <th>far_price_bid_price_imb</th>\n",
       "      <th>far_price_wap_imb</th>\n",
       "      <th>near_price_ask_price_imb</th>\n",
       "      <th>near_price_bid_price_imb</th>\n",
       "      <th>near_price_wap_imb</th>\n",
       "      <th>ask_price_bid_price_imb</th>\n",
       "      <th>ask_price_wap_imb</th>\n",
       "      <th>bid_price_wap_imb</th>\n",
       "    </tr>\n",
       "  </thead>\n",
       "  <tbody>\n",
       "    <tr>\n",
       "      <th>0</th>\n",
       "      <td>0</td>\n",
       "      <td>0.0</td>\n",
       "      <td>0.0</td>\n",
       "      <td>3.180603e+06</td>\n",
       "      <td>1.0</td>\n",
       "      <td>0.999812</td>\n",
       "      <td>13380277.00</td>\n",
       "      <td>1.000000</td>\n",
       "      <td>1.000000</td>\n",
       "      <td>0.999812</td>\n",
       "      <td>...</td>\n",
       "      <td>0.000000</td>\n",
       "      <td>-0.000013</td>\n",
       "      <td>9.400536e-05</td>\n",
       "      <td>0.000000</td>\n",
       "      <td>-0.000013</td>\n",
       "      <td>9.400536e-05</td>\n",
       "      <td>0.000000</td>\n",
       "      <td>0.000107</td>\n",
       "      <td>0.000013</td>\n",
       "      <td>-9.400536e-05</td>\n",
       "    </tr>\n",
       "    <tr>\n",
       "      <th>1</th>\n",
       "      <td>1</td>\n",
       "      <td>0.0</td>\n",
       "      <td>0.0</td>\n",
       "      <td>1.666039e+05</td>\n",
       "      <td>-1.0</td>\n",
       "      <td>0.999896</td>\n",
       "      <td>1642214.25</td>\n",
       "      <td>1.000000</td>\n",
       "      <td>1.000000</td>\n",
       "      <td>0.999896</td>\n",
       "      <td>...</td>\n",
       "      <td>0.000000</td>\n",
       "      <td>-0.000330</td>\n",
       "      <td>5.200776e-05</td>\n",
       "      <td>0.000000</td>\n",
       "      <td>-0.000330</td>\n",
       "      <td>5.200776e-05</td>\n",
       "      <td>0.000000</td>\n",
       "      <td>0.000382</td>\n",
       "      <td>0.000330</td>\n",
       "      <td>-5.200776e-05</td>\n",
       "    </tr>\n",
       "    <tr>\n",
       "      <th>2</th>\n",
       "      <td>2</td>\n",
       "      <td>0.0</td>\n",
       "      <td>0.0</td>\n",
       "      <td>3.028799e+05</td>\n",
       "      <td>-1.0</td>\n",
       "      <td>0.999561</td>\n",
       "      <td>1819368.00</td>\n",
       "      <td>1.000000</td>\n",
       "      <td>1.000000</td>\n",
       "      <td>0.999403</td>\n",
       "      <td>...</td>\n",
       "      <td>0.000000</td>\n",
       "      <td>-0.000149</td>\n",
       "      <td>2.985892e-04</td>\n",
       "      <td>0.000000</td>\n",
       "      <td>-0.000149</td>\n",
       "      <td>2.985892e-04</td>\n",
       "      <td>0.000000</td>\n",
       "      <td>0.000448</td>\n",
       "      <td>0.000149</td>\n",
       "      <td>-2.985892e-04</td>\n",
       "    </tr>\n",
       "    <tr>\n",
       "      <th>3</th>\n",
       "      <td>3</td>\n",
       "      <td>0.0</td>\n",
       "      <td>0.0</td>\n",
       "      <td>1.191768e+07</td>\n",
       "      <td>-1.0</td>\n",
       "      <td>1.000171</td>\n",
       "      <td>18389746.00</td>\n",
       "      <td>1.000000</td>\n",
       "      <td>1.000000</td>\n",
       "      <td>0.999999</td>\n",
       "      <td>...</td>\n",
       "      <td>0.000000</td>\n",
       "      <td>-0.000107</td>\n",
       "      <td>5.066397e-07</td>\n",
       "      <td>0.000000</td>\n",
       "      <td>-0.000107</td>\n",
       "      <td>5.066397e-07</td>\n",
       "      <td>0.000000</td>\n",
       "      <td>0.000107</td>\n",
       "      <td>0.000107</td>\n",
       "      <td>-5.066397e-07</td>\n",
       "    </tr>\n",
       "    <tr>\n",
       "      <th>4</th>\n",
       "      <td>4</td>\n",
       "      <td>0.0</td>\n",
       "      <td>0.0</td>\n",
       "      <td>4.475500e+05</td>\n",
       "      <td>-1.0</td>\n",
       "      <td>0.999532</td>\n",
       "      <td>17860614.00</td>\n",
       "      <td>1.000000</td>\n",
       "      <td>1.000000</td>\n",
       "      <td>0.999394</td>\n",
       "      <td>...</td>\n",
       "      <td>0.000000</td>\n",
       "      <td>-0.000008</td>\n",
       "      <td>3.030921e-04</td>\n",
       "      <td>0.000000</td>\n",
       "      <td>-0.000008</td>\n",
       "      <td>3.030921e-04</td>\n",
       "      <td>0.000000</td>\n",
       "      <td>0.000311</td>\n",
       "      <td>0.000008</td>\n",
       "      <td>-3.030921e-04</td>\n",
       "    </tr>\n",
       "    <tr>\n",
       "      <th>...</th>\n",
       "      <td>...</td>\n",
       "      <td>...</td>\n",
       "      <td>...</td>\n",
       "      <td>...</td>\n",
       "      <td>...</td>\n",
       "      <td>...</td>\n",
       "      <td>...</td>\n",
       "      <td>...</td>\n",
       "      <td>...</td>\n",
       "      <td>...</td>\n",
       "      <td>...</td>\n",
       "      <td>...</td>\n",
       "      <td>...</td>\n",
       "      <td>...</td>\n",
       "      <td>...</td>\n",
       "      <td>...</td>\n",
       "      <td>...</td>\n",
       "      <td>...</td>\n",
       "      <td>...</td>\n",
       "      <td>...</td>\n",
       "      <td>...</td>\n",
       "    </tr>\n",
       "    <tr>\n",
       "      <th>5237975</th>\n",
       "      <td>195</td>\n",
       "      <td>480.0</td>\n",
       "      <td>540.0</td>\n",
       "      <td>2.440723e+06</td>\n",
       "      <td>-1.0</td>\n",
       "      <td>1.000317</td>\n",
       "      <td>28280362.00</td>\n",
       "      <td>0.999734</td>\n",
       "      <td>0.999734</td>\n",
       "      <td>1.000317</td>\n",
       "      <td>...</td>\n",
       "      <td>0.000000</td>\n",
       "      <td>-0.000350</td>\n",
       "      <td>-2.914891e-04</td>\n",
       "      <td>-0.000297</td>\n",
       "      <td>-0.000350</td>\n",
       "      <td>-2.914891e-04</td>\n",
       "      <td>-0.000297</td>\n",
       "      <td>0.000059</td>\n",
       "      <td>0.000053</td>\n",
       "      <td>-5.481860e-06</td>\n",
       "    </tr>\n",
       "    <tr>\n",
       "      <th>5237976</th>\n",
       "      <td>196</td>\n",
       "      <td>480.0</td>\n",
       "      <td>540.0</td>\n",
       "      <td>3.495105e+05</td>\n",
       "      <td>-1.0</td>\n",
       "      <td>1.000643</td>\n",
       "      <td>9187699.00</td>\n",
       "      <td>1.000129</td>\n",
       "      <td>1.000386</td>\n",
       "      <td>1.000643</td>\n",
       "      <td>...</td>\n",
       "      <td>-0.000128</td>\n",
       "      <td>-0.000385</td>\n",
       "      <td>-2.569161e-04</td>\n",
       "      <td>-0.000345</td>\n",
       "      <td>-0.000257</td>\n",
       "      <td>-1.284415e-04</td>\n",
       "      <td>-0.000216</td>\n",
       "      <td>0.000128</td>\n",
       "      <td>0.000040</td>\n",
       "      <td>-8.791219e-05</td>\n",
       "    </tr>\n",
       "    <tr>\n",
       "      <th>5237977</th>\n",
       "      <td>197</td>\n",
       "      <td>480.0</td>\n",
       "      <td>540.0</td>\n",
       "      <td>0.000000e+00</td>\n",
       "      <td>0.0</td>\n",
       "      <td>0.995789</td>\n",
       "      <td>12725436.00</td>\n",
       "      <td>0.995789</td>\n",
       "      <td>0.995789</td>\n",
       "      <td>0.995789</td>\n",
       "      <td>...</td>\n",
       "      <td>0.000000</td>\n",
       "      <td>-0.000047</td>\n",
       "      <td>0.000000e+00</td>\n",
       "      <td>-0.000004</td>\n",
       "      <td>-0.000047</td>\n",
       "      <td>0.000000e+00</td>\n",
       "      <td>-0.000004</td>\n",
       "      <td>0.000047</td>\n",
       "      <td>0.000043</td>\n",
       "      <td>-4.010383e-06</td>\n",
       "    </tr>\n",
       "    <tr>\n",
       "      <th>5237978</th>\n",
       "      <td>198</td>\n",
       "      <td>480.0</td>\n",
       "      <td>540.0</td>\n",
       "      <td>1.000899e+06</td>\n",
       "      <td>1.0</td>\n",
       "      <td>0.999210</td>\n",
       "      <td>94773272.00</td>\n",
       "      <td>0.999210</td>\n",
       "      <td>0.999210</td>\n",
       "      <td>0.998970</td>\n",
       "      <td>...</td>\n",
       "      <td>0.000000</td>\n",
       "      <td>0.000000</td>\n",
       "      <td>1.201233e-04</td>\n",
       "      <td>0.000101</td>\n",
       "      <td>0.000000</td>\n",
       "      <td>1.201233e-04</td>\n",
       "      <td>0.000101</td>\n",
       "      <td>0.000120</td>\n",
       "      <td>0.000101</td>\n",
       "      <td>-1.903312e-05</td>\n",
       "    </tr>\n",
       "    <tr>\n",
       "      <th>5237979</th>\n",
       "      <td>199</td>\n",
       "      <td>480.0</td>\n",
       "      <td>540.0</td>\n",
       "      <td>1.884286e+06</td>\n",
       "      <td>-1.0</td>\n",
       "      <td>1.002129</td>\n",
       "      <td>24073678.00</td>\n",
       "      <td>1.000859</td>\n",
       "      <td>1.001494</td>\n",
       "      <td>1.002129</td>\n",
       "      <td>...</td>\n",
       "      <td>-0.000317</td>\n",
       "      <td>-0.000793</td>\n",
       "      <td>-6.340211e-04</td>\n",
       "      <td>-0.000706</td>\n",
       "      <td>-0.000476</td>\n",
       "      <td>-3.168803e-04</td>\n",
       "      <td>-0.000389</td>\n",
       "      <td>0.000159</td>\n",
       "      <td>0.000086</td>\n",
       "      <td>-7.237950e-05</td>\n",
       "    </tr>\n",
       "  </tbody>\n",
       "</table>\n",
       "<p>5237760 rows × 31 columns</p>\n",
       "</div>"
      ],
      "text/plain": [
       "         stock_id  date_id  seconds_in_bucket  imbalance_size  \\\n",
       "0               0      0.0                0.0    3.180603e+06   \n",
       "1               1      0.0                0.0    1.666039e+05   \n",
       "2               2      0.0                0.0    3.028799e+05   \n",
       "3               3      0.0                0.0    1.191768e+07   \n",
       "4               4      0.0                0.0    4.475500e+05   \n",
       "...           ...      ...                ...             ...   \n",
       "5237975       195    480.0              540.0    2.440723e+06   \n",
       "5237976       196    480.0              540.0    3.495105e+05   \n",
       "5237977       197    480.0              540.0    0.000000e+00   \n",
       "5237978       198    480.0              540.0    1.000899e+06   \n",
       "5237979       199    480.0              540.0    1.884286e+06   \n",
       "\n",
       "         imbalance_buy_sell_flag  reference_price  matched_size  far_price  \\\n",
       "0                            1.0         0.999812   13380277.00   1.000000   \n",
       "1                           -1.0         0.999896    1642214.25   1.000000   \n",
       "2                           -1.0         0.999561    1819368.00   1.000000   \n",
       "3                           -1.0         1.000171   18389746.00   1.000000   \n",
       "4                           -1.0         0.999532   17860614.00   1.000000   \n",
       "...                          ...              ...           ...        ...   \n",
       "5237975                     -1.0         1.000317   28280362.00   0.999734   \n",
       "5237976                     -1.0         1.000643    9187699.00   1.000129   \n",
       "5237977                      0.0         0.995789   12725436.00   0.995789   \n",
       "5237978                      1.0         0.999210   94773272.00   0.999210   \n",
       "5237979                     -1.0         1.002129   24073678.00   1.000859   \n",
       "\n",
       "         near_price  bid_price  ...  far_price_near_price_imb  \\\n",
       "0          1.000000   0.999812  ...                  0.000000   \n",
       "1          1.000000   0.999896  ...                  0.000000   \n",
       "2          1.000000   0.999403  ...                  0.000000   \n",
       "3          1.000000   0.999999  ...                  0.000000   \n",
       "4          1.000000   0.999394  ...                  0.000000   \n",
       "...             ...        ...  ...                       ...   \n",
       "5237975    0.999734   1.000317  ...                  0.000000   \n",
       "5237976    1.000386   1.000643  ...                 -0.000128   \n",
       "5237977    0.995789   0.995789  ...                  0.000000   \n",
       "5237978    0.999210   0.998970  ...                  0.000000   \n",
       "5237979    1.001494   1.002129  ...                 -0.000317   \n",
       "\n",
       "         far_price_ask_price_imb  far_price_bid_price_imb  far_price_wap_imb  \\\n",
       "0                      -0.000013             9.400536e-05           0.000000   \n",
       "1                      -0.000330             5.200776e-05           0.000000   \n",
       "2                      -0.000149             2.985892e-04           0.000000   \n",
       "3                      -0.000107             5.066397e-07           0.000000   \n",
       "4                      -0.000008             3.030921e-04           0.000000   \n",
       "...                          ...                      ...                ...   \n",
       "5237975                -0.000350            -2.914891e-04          -0.000297   \n",
       "5237976                -0.000385            -2.569161e-04          -0.000345   \n",
       "5237977                -0.000047             0.000000e+00          -0.000004   \n",
       "5237978                 0.000000             1.201233e-04           0.000101   \n",
       "5237979                -0.000793            -6.340211e-04          -0.000706   \n",
       "\n",
       "         near_price_ask_price_imb  near_price_bid_price_imb  \\\n",
       "0                       -0.000013              9.400536e-05   \n",
       "1                       -0.000330              5.200776e-05   \n",
       "2                       -0.000149              2.985892e-04   \n",
       "3                       -0.000107              5.066397e-07   \n",
       "4                       -0.000008              3.030921e-04   \n",
       "...                           ...                       ...   \n",
       "5237975                 -0.000350             -2.914891e-04   \n",
       "5237976                 -0.000257             -1.284415e-04   \n",
       "5237977                 -0.000047              0.000000e+00   \n",
       "5237978                  0.000000              1.201233e-04   \n",
       "5237979                 -0.000476             -3.168803e-04   \n",
       "\n",
       "         near_price_wap_imb  ask_price_bid_price_imb  ask_price_wap_imb  \\\n",
       "0                  0.000000                 0.000107           0.000013   \n",
       "1                  0.000000                 0.000382           0.000330   \n",
       "2                  0.000000                 0.000448           0.000149   \n",
       "3                  0.000000                 0.000107           0.000107   \n",
       "4                  0.000000                 0.000311           0.000008   \n",
       "...                     ...                      ...                ...   \n",
       "5237975           -0.000297                 0.000059           0.000053   \n",
       "5237976           -0.000216                 0.000128           0.000040   \n",
       "5237977           -0.000004                 0.000047           0.000043   \n",
       "5237978            0.000101                 0.000120           0.000101   \n",
       "5237979           -0.000389                 0.000159           0.000086   \n",
       "\n",
       "         bid_price_wap_imb  \n",
       "0            -9.400536e-05  \n",
       "1            -5.200776e-05  \n",
       "2            -2.985892e-04  \n",
       "3            -5.066397e-07  \n",
       "4            -3.030921e-04  \n",
       "...                    ...  \n",
       "5237975      -5.481860e-06  \n",
       "5237976      -8.791219e-05  \n",
       "5237977      -4.010383e-06  \n",
       "5237978      -1.903312e-05  \n",
       "5237979      -7.237950e-05  \n",
       "\n",
       "[5237760 rows x 31 columns]"
      ]
     },
     "metadata": {},
     "output_type": "display_data"
    }
   ],
   "source": [
    "print(df.columns)\n",
    "display(df)"
   ]
  },
  {
   "cell_type": "code",
   "execution_count": 20,
   "id": "cbd29601-3a01-47bf-93ec-1cd63325cba3",
   "metadata": {},
   "outputs": [],
   "source": [
    "not_include_in_feat = ['stock_id', 'target', 'time_id']"
   ]
  },
  {
   "cell_type": "code",
   "execution_count": 21,
   "id": "b42e8b4c-0a37-4291-9c8b-cd167bb2ddc2",
   "metadata": {},
   "outputs": [
    {
     "data": {
      "text/plain": [
       "['date_id',\n",
       " 'seconds_in_bucket',\n",
       " 'imbalance_size',\n",
       " 'imbalance_buy_sell_flag',\n",
       " 'reference_price',\n",
       " 'matched_size',\n",
       " 'far_price',\n",
       " 'near_price',\n",
       " 'bid_price',\n",
       " 'bid_size',\n",
       " 'ask_price',\n",
       " 'ask_size',\n",
       " 'wap',\n",
       " 'reference_price_far_price_imb',\n",
       " 'reference_price_near_price_imb',\n",
       " 'reference_price_ask_price_imb',\n",
       " 'reference_price_bid_price_imb',\n",
       " 'reference_price_wap_imb',\n",
       " 'far_price_near_price_imb',\n",
       " 'far_price_ask_price_imb',\n",
       " 'far_price_bid_price_imb',\n",
       " 'far_price_wap_imb',\n",
       " 'near_price_ask_price_imb',\n",
       " 'near_price_bid_price_imb',\n",
       " 'near_price_wap_imb',\n",
       " 'ask_price_bid_price_imb',\n",
       " 'ask_price_wap_imb',\n",
       " 'bid_price_wap_imb']"
      ]
     },
     "execution_count": 21,
     "metadata": {},
     "output_type": "execute_result"
    }
   ],
   "source": [
    "feat_dynamic_real = [item for item in df.columns if item not in not_include_in_feat]\n",
    "feat_dynamic_real"
   ]
  },
  {
   "cell_type": "code",
   "execution_count": 22,
   "id": "07b3c19b-0507-41c6-883b-f494a8f33f4f",
   "metadata": {},
   "outputs": [
    {
     "name": "stdout",
     "output_type": "stream",
     "text": [
      "28 200\n"
     ]
    }
   ],
   "source": [
    "# feat_dynamic_real = [\n",
    "#     \"date_id\",\n",
    "#     \"seconds_in_bucket\",\n",
    "#     \"imbalance_size\",\n",
    "#     \"reference_price\",\n",
    "#     \"matched_size\",\n",
    "#     \"far_price\",\n",
    "#     \"near_price\",\n",
    "#     \"bid_price\",\n",
    "#     \"bid_size\",\n",
    "#     \"ask_price\",\n",
    "#     \"ask_size\",\n",
    "#     \"wap\",\n",
    "#     # \"wap_mov_avg_3_1\",\n",
    "#     # \"wap_mov_avg_6_3\",\n",
    "#     # \"wap_mov_avg_12_6\",\n",
    "#     # \"wap_mov_avg_24_12\",\n",
    "# ]\n",
    "num_input_features = len(feat_dynamic_real)\n",
    "num_classes = 200\n",
    "print(num_input_features, num_classes)"
   ]
  },
  {
   "cell_type": "code",
   "execution_count": 23,
   "id": "7c6c95c3-5603-4ec7-86a5-b0ed38d74a06",
   "metadata": {},
   "outputs": [
    {
     "name": "stdout",
     "output_type": "stream",
     "text": [
      "(5237760,) (0,)\n"
     ]
    }
   ],
   "source": [
    "# should not have any na features\n",
    "any_na_values_mask = df[feat_dynamic_real].isna().any(axis=1)\n",
    "print(any_na_values_mask.shape, any_na_values_mask[any_na_values_mask].shape)\n",
    "assert any_na_values_mask[any_na_values_mask].shape[0] == 0"
   ]
  },
  {
   "cell_type": "code",
   "execution_count": 24,
   "id": "d7294ec1-c78e-477c-9f72-6aea69557aa2",
   "metadata": {},
   "outputs": [
    {
     "data": {
      "text/html": [
       "<div>\n",
       "<style scoped>\n",
       "    .dataframe tbody tr th:only-of-type {\n",
       "        vertical-align: middle;\n",
       "    }\n",
       "\n",
       "    .dataframe tbody tr th {\n",
       "        vertical-align: top;\n",
       "    }\n",
       "\n",
       "    .dataframe thead th {\n",
       "        text-align: right;\n",
       "    }\n",
       "</style>\n",
       "<table border=\"1\" class=\"dataframe\">\n",
       "  <thead>\n",
       "    <tr style=\"text-align: right;\">\n",
       "      <th></th>\n",
       "      <th>stock_id</th>\n",
       "      <th>date_id</th>\n",
       "      <th>seconds_in_bucket</th>\n",
       "      <th>imbalance_size</th>\n",
       "      <th>imbalance_buy_sell_flag</th>\n",
       "      <th>reference_price</th>\n",
       "      <th>matched_size</th>\n",
       "      <th>far_price</th>\n",
       "      <th>near_price</th>\n",
       "      <th>bid_price</th>\n",
       "      <th>...</th>\n",
       "      <th>far_price_near_price_imb</th>\n",
       "      <th>far_price_ask_price_imb</th>\n",
       "      <th>far_price_bid_price_imb</th>\n",
       "      <th>far_price_wap_imb</th>\n",
       "      <th>near_price_ask_price_imb</th>\n",
       "      <th>near_price_bid_price_imb</th>\n",
       "      <th>near_price_wap_imb</th>\n",
       "      <th>ask_price_bid_price_imb</th>\n",
       "      <th>ask_price_wap_imb</th>\n",
       "      <th>bid_price_wap_imb</th>\n",
       "    </tr>\n",
       "  </thead>\n",
       "  <tbody>\n",
       "  </tbody>\n",
       "</table>\n",
       "<p>0 rows × 31 columns</p>\n",
       "</div>"
      ],
      "text/plain": [
       "Empty DataFrame\n",
       "Columns: [stock_id, date_id, seconds_in_bucket, imbalance_size, imbalance_buy_sell_flag, reference_price, matched_size, far_price, near_price, bid_price, bid_size, ask_price, ask_size, wap, target, time_id, reference_price_far_price_imb, reference_price_near_price_imb, reference_price_ask_price_imb, reference_price_bid_price_imb, reference_price_wap_imb, far_price_near_price_imb, far_price_ask_price_imb, far_price_bid_price_imb, far_price_wap_imb, near_price_ask_price_imb, near_price_bid_price_imb, near_price_wap_imb, ask_price_bid_price_imb, ask_price_wap_imb, bid_price_wap_imb]\n",
       "Index: []\n",
       "\n",
       "[0 rows x 31 columns]"
      ]
     },
     "execution_count": 24,
     "metadata": {},
     "output_type": "execute_result"
    }
   ],
   "source": [
    "df[any_na_values_mask]"
   ]
  },
  {
   "cell_type": "code",
   "execution_count": 25,
   "id": "963b7925",
   "metadata": {},
   "outputs": [
    {
     "data": {
      "text/html": [
       "<div>\n",
       "<style scoped>\n",
       "    .dataframe tbody tr th:only-of-type {\n",
       "        vertical-align: middle;\n",
       "    }\n",
       "\n",
       "    .dataframe tbody tr th {\n",
       "        vertical-align: top;\n",
       "    }\n",
       "\n",
       "    .dataframe thead th {\n",
       "        text-align: right;\n",
       "    }\n",
       "</style>\n",
       "<table border=\"1\" class=\"dataframe\">\n",
       "  <thead>\n",
       "    <tr style=\"text-align: right;\">\n",
       "      <th></th>\n",
       "      <th>stock_id</th>\n",
       "      <th>time_id</th>\n",
       "      <th>date_id</th>\n",
       "      <th>seconds_in_bucket</th>\n",
       "      <th>imbalance_size</th>\n",
       "      <th>imbalance_buy_sell_flag</th>\n",
       "      <th>reference_price</th>\n",
       "      <th>matched_size</th>\n",
       "      <th>far_price</th>\n",
       "      <th>near_price</th>\n",
       "      <th>...</th>\n",
       "      <th>far_price_near_price_imb</th>\n",
       "      <th>far_price_ask_price_imb</th>\n",
       "      <th>far_price_bid_price_imb</th>\n",
       "      <th>far_price_wap_imb</th>\n",
       "      <th>near_price_ask_price_imb</th>\n",
       "      <th>near_price_bid_price_imb</th>\n",
       "      <th>near_price_wap_imb</th>\n",
       "      <th>ask_price_bid_price_imb</th>\n",
       "      <th>ask_price_wap_imb</th>\n",
       "      <th>bid_price_wap_imb</th>\n",
       "    </tr>\n",
       "  </thead>\n",
       "  <tbody>\n",
       "    <tr>\n",
       "      <th>0</th>\n",
       "      <td>0</td>\n",
       "      <td>0</td>\n",
       "      <td>0.0</td>\n",
       "      <td>0.0</td>\n",
       "      <td>3180602.750</td>\n",
       "      <td>1.0</td>\n",
       "      <td>0.999812</td>\n",
       "      <td>13380277.0</td>\n",
       "      <td>1.000000</td>\n",
       "      <td>1.000000</td>\n",
       "      <td>...</td>\n",
       "      <td>0.000000</td>\n",
       "      <td>-0.000013</td>\n",
       "      <td>0.000094</td>\n",
       "      <td>0.000000</td>\n",
       "      <td>-0.000013</td>\n",
       "      <td>0.000094</td>\n",
       "      <td>0.000000</td>\n",
       "      <td>0.000107</td>\n",
       "      <td>0.000013</td>\n",
       "      <td>-0.000094</td>\n",
       "    </tr>\n",
       "    <tr>\n",
       "      <th>1</th>\n",
       "      <td>0</td>\n",
       "      <td>1</td>\n",
       "      <td>0.0</td>\n",
       "      <td>10.0</td>\n",
       "      <td>1299772.750</td>\n",
       "      <td>1.0</td>\n",
       "      <td>1.000026</td>\n",
       "      <td>15261107.0</td>\n",
       "      <td>1.000000</td>\n",
       "      <td>1.000000</td>\n",
       "      <td>...</td>\n",
       "      <td>0.000000</td>\n",
       "      <td>-0.000013</td>\n",
       "      <td>0.000094</td>\n",
       "      <td>0.000054</td>\n",
       "      <td>-0.000013</td>\n",
       "      <td>0.000094</td>\n",
       "      <td>0.000054</td>\n",
       "      <td>0.000107</td>\n",
       "      <td>0.000067</td>\n",
       "      <td>-0.000040</td>\n",
       "    </tr>\n",
       "    <tr>\n",
       "      <th>2</th>\n",
       "      <td>0</td>\n",
       "      <td>2</td>\n",
       "      <td>0.0</td>\n",
       "      <td>20.0</td>\n",
       "      <td>1299772.750</td>\n",
       "      <td>1.0</td>\n",
       "      <td>0.999919</td>\n",
       "      <td>15261107.0</td>\n",
       "      <td>1.000000</td>\n",
       "      <td>1.000000</td>\n",
       "      <td>...</td>\n",
       "      <td>0.000000</td>\n",
       "      <td>0.000041</td>\n",
       "      <td>0.000094</td>\n",
       "      <td>0.000079</td>\n",
       "      <td>0.000041</td>\n",
       "      <td>0.000094</td>\n",
       "      <td>0.000079</td>\n",
       "      <td>0.000054</td>\n",
       "      <td>0.000039</td>\n",
       "      <td>-0.000015</td>\n",
       "    </tr>\n",
       "    <tr>\n",
       "      <th>3</th>\n",
       "      <td>0</td>\n",
       "      <td>3</td>\n",
       "      <td>0.0</td>\n",
       "      <td>30.0</td>\n",
       "      <td>1299772.750</td>\n",
       "      <td>1.0</td>\n",
       "      <td>1.000133</td>\n",
       "      <td>15261107.0</td>\n",
       "      <td>1.000000</td>\n",
       "      <td>1.000000</td>\n",
       "      <td>...</td>\n",
       "      <td>0.000000</td>\n",
       "      <td>-0.000067</td>\n",
       "      <td>-0.000013</td>\n",
       "      <td>-0.000042</td>\n",
       "      <td>-0.000067</td>\n",
       "      <td>-0.000013</td>\n",
       "      <td>-0.000042</td>\n",
       "      <td>0.000054</td>\n",
       "      <td>0.000024</td>\n",
       "      <td>-0.000030</td>\n",
       "    </tr>\n",
       "    <tr>\n",
       "      <th>4</th>\n",
       "      <td>0</td>\n",
       "      <td>4</td>\n",
       "      <td>0.0</td>\n",
       "      <td>40.0</td>\n",
       "      <td>1218204.375</td>\n",
       "      <td>1.0</td>\n",
       "      <td>1.000455</td>\n",
       "      <td>15342675.0</td>\n",
       "      <td>1.000000</td>\n",
       "      <td>1.000000</td>\n",
       "      <td>...</td>\n",
       "      <td>0.000000</td>\n",
       "      <td>-0.000227</td>\n",
       "      <td>-0.000121</td>\n",
       "      <td>-0.000158</td>\n",
       "      <td>-0.000227</td>\n",
       "      <td>-0.000121</td>\n",
       "      <td>-0.000158</td>\n",
       "      <td>0.000107</td>\n",
       "      <td>0.000069</td>\n",
       "      <td>-0.000038</td>\n",
       "    </tr>\n",
       "    <tr>\n",
       "      <th>...</th>\n",
       "      <td>...</td>\n",
       "      <td>...</td>\n",
       "      <td>...</td>\n",
       "      <td>...</td>\n",
       "      <td>...</td>\n",
       "      <td>...</td>\n",
       "      <td>...</td>\n",
       "      <td>...</td>\n",
       "      <td>...</td>\n",
       "      <td>...</td>\n",
       "      <td>...</td>\n",
       "      <td>...</td>\n",
       "      <td>...</td>\n",
       "      <td>...</td>\n",
       "      <td>...</td>\n",
       "      <td>...</td>\n",
       "      <td>...</td>\n",
       "      <td>...</td>\n",
       "      <td>...</td>\n",
       "      <td>...</td>\n",
       "      <td>...</td>\n",
       "    </tr>\n",
       "    <tr>\n",
       "      <th>5290995</th>\n",
       "      <td>199</td>\n",
       "      <td>26450</td>\n",
       "      <td>480.0</td>\n",
       "      <td>500.0</td>\n",
       "      <td>2661783.500</td>\n",
       "      <td>-1.0</td>\n",
       "      <td>1.002764</td>\n",
       "      <td>23969216.0</td>\n",
       "      <td>1.000859</td>\n",
       "      <td>1.001494</td>\n",
       "      <td>...</td>\n",
       "      <td>-0.000317</td>\n",
       "      <td>-0.001109</td>\n",
       "      <td>-0.000951</td>\n",
       "      <td>-0.000986</td>\n",
       "      <td>-0.000792</td>\n",
       "      <td>-0.000634</td>\n",
       "      <td>-0.000669</td>\n",
       "      <td>0.000159</td>\n",
       "      <td>0.000123</td>\n",
       "      <td>-0.000035</td>\n",
       "    </tr>\n",
       "    <tr>\n",
       "      <th>5290996</th>\n",
       "      <td>199</td>\n",
       "      <td>26451</td>\n",
       "      <td>480.0</td>\n",
       "      <td>510.0</td>\n",
       "      <td>2658917.500</td>\n",
       "      <td>-1.0</td>\n",
       "      <td>1.002764</td>\n",
       "      <td>23972082.0</td>\n",
       "      <td>1.000859</td>\n",
       "      <td>1.001494</td>\n",
       "      <td>...</td>\n",
       "      <td>-0.000317</td>\n",
       "      <td>-0.001109</td>\n",
       "      <td>-0.000951</td>\n",
       "      <td>-0.001055</td>\n",
       "      <td>-0.000792</td>\n",
       "      <td>-0.000634</td>\n",
       "      <td>-0.000738</td>\n",
       "      <td>0.000159</td>\n",
       "      <td>0.000054</td>\n",
       "      <td>-0.000105</td>\n",
       "    </tr>\n",
       "    <tr>\n",
       "      <th>5290997</th>\n",
       "      <td>199</td>\n",
       "      <td>26452</td>\n",
       "      <td>480.0</td>\n",
       "      <td>520.0</td>\n",
       "      <td>1352558.875</td>\n",
       "      <td>-1.0</td>\n",
       "      <td>1.001812</td>\n",
       "      <td>23978380.0</td>\n",
       "      <td>1.000859</td>\n",
       "      <td>1.001494</td>\n",
       "      <td>...</td>\n",
       "      <td>-0.000317</td>\n",
       "      <td>-0.000634</td>\n",
       "      <td>-0.000476</td>\n",
       "      <td>-0.000561</td>\n",
       "      <td>-0.000317</td>\n",
       "      <td>-0.000159</td>\n",
       "      <td>-0.000244</td>\n",
       "      <td>0.000158</td>\n",
       "      <td>0.000073</td>\n",
       "      <td>-0.000085</td>\n",
       "    </tr>\n",
       "    <tr>\n",
       "      <th>5290998</th>\n",
       "      <td>199</td>\n",
       "      <td>26453</td>\n",
       "      <td>480.0</td>\n",
       "      <td>530.0</td>\n",
       "      <td>1352558.875</td>\n",
       "      <td>-1.0</td>\n",
       "      <td>1.001812</td>\n",
       "      <td>23978380.0</td>\n",
       "      <td>1.000859</td>\n",
       "      <td>1.001494</td>\n",
       "      <td>...</td>\n",
       "      <td>-0.000317</td>\n",
       "      <td>-0.000634</td>\n",
       "      <td>-0.000476</td>\n",
       "      <td>-0.000566</td>\n",
       "      <td>-0.000317</td>\n",
       "      <td>-0.000159</td>\n",
       "      <td>-0.000249</td>\n",
       "      <td>0.000158</td>\n",
       "      <td>0.000068</td>\n",
       "      <td>-0.000090</td>\n",
       "    </tr>\n",
       "    <tr>\n",
       "      <th>5290999</th>\n",
       "      <td>199</td>\n",
       "      <td>26454</td>\n",
       "      <td>480.0</td>\n",
       "      <td>540.0</td>\n",
       "      <td>1884285.750</td>\n",
       "      <td>-1.0</td>\n",
       "      <td>1.002129</td>\n",
       "      <td>24073678.0</td>\n",
       "      <td>1.000859</td>\n",
       "      <td>1.001494</td>\n",
       "      <td>...</td>\n",
       "      <td>-0.000317</td>\n",
       "      <td>-0.000793</td>\n",
       "      <td>-0.000634</td>\n",
       "      <td>-0.000706</td>\n",
       "      <td>-0.000476</td>\n",
       "      <td>-0.000317</td>\n",
       "      <td>-0.000389</td>\n",
       "      <td>0.000159</td>\n",
       "      <td>0.000086</td>\n",
       "      <td>-0.000072</td>\n",
       "    </tr>\n",
       "  </tbody>\n",
       "</table>\n",
       "<p>5291000 rows × 31 columns</p>\n",
       "</div>"
      ],
      "text/plain": [
       "         stock_id  time_id  date_id  seconds_in_bucket  imbalance_size  \\\n",
       "0               0        0      0.0                0.0     3180602.750   \n",
       "1               0        1      0.0               10.0     1299772.750   \n",
       "2               0        2      0.0               20.0     1299772.750   \n",
       "3               0        3      0.0               30.0     1299772.750   \n",
       "4               0        4      0.0               40.0     1218204.375   \n",
       "...           ...      ...      ...                ...             ...   \n",
       "5290995       199    26450    480.0              500.0     2661783.500   \n",
       "5290996       199    26451    480.0              510.0     2658917.500   \n",
       "5290997       199    26452    480.0              520.0     1352558.875   \n",
       "5290998       199    26453    480.0              530.0     1352558.875   \n",
       "5290999       199    26454    480.0              540.0     1884285.750   \n",
       "\n",
       "         imbalance_buy_sell_flag  reference_price  matched_size  far_price  \\\n",
       "0                            1.0         0.999812    13380277.0   1.000000   \n",
       "1                            1.0         1.000026    15261107.0   1.000000   \n",
       "2                            1.0         0.999919    15261107.0   1.000000   \n",
       "3                            1.0         1.000133    15261107.0   1.000000   \n",
       "4                            1.0         1.000455    15342675.0   1.000000   \n",
       "...                          ...              ...           ...        ...   \n",
       "5290995                     -1.0         1.002764    23969216.0   1.000859   \n",
       "5290996                     -1.0         1.002764    23972082.0   1.000859   \n",
       "5290997                     -1.0         1.001812    23978380.0   1.000859   \n",
       "5290998                     -1.0         1.001812    23978380.0   1.000859   \n",
       "5290999                     -1.0         1.002129    24073678.0   1.000859   \n",
       "\n",
       "         near_price  ...  far_price_near_price_imb  far_price_ask_price_imb  \\\n",
       "0          1.000000  ...                  0.000000                -0.000013   \n",
       "1          1.000000  ...                  0.000000                -0.000013   \n",
       "2          1.000000  ...                  0.000000                 0.000041   \n",
       "3          1.000000  ...                  0.000000                -0.000067   \n",
       "4          1.000000  ...                  0.000000                -0.000227   \n",
       "...             ...  ...                       ...                      ...   \n",
       "5290995    1.001494  ...                 -0.000317                -0.001109   \n",
       "5290996    1.001494  ...                 -0.000317                -0.001109   \n",
       "5290997    1.001494  ...                 -0.000317                -0.000634   \n",
       "5290998    1.001494  ...                 -0.000317                -0.000634   \n",
       "5290999    1.001494  ...                 -0.000317                -0.000793   \n",
       "\n",
       "         far_price_bid_price_imb  far_price_wap_imb  near_price_ask_price_imb  \\\n",
       "0                       0.000094           0.000000                 -0.000013   \n",
       "1                       0.000094           0.000054                 -0.000013   \n",
       "2                       0.000094           0.000079                  0.000041   \n",
       "3                      -0.000013          -0.000042                 -0.000067   \n",
       "4                      -0.000121          -0.000158                 -0.000227   \n",
       "...                          ...                ...                       ...   \n",
       "5290995                -0.000951          -0.000986                 -0.000792   \n",
       "5290996                -0.000951          -0.001055                 -0.000792   \n",
       "5290997                -0.000476          -0.000561                 -0.000317   \n",
       "5290998                -0.000476          -0.000566                 -0.000317   \n",
       "5290999                -0.000634          -0.000706                 -0.000476   \n",
       "\n",
       "         near_price_bid_price_imb  near_price_wap_imb  \\\n",
       "0                        0.000094            0.000000   \n",
       "1                        0.000094            0.000054   \n",
       "2                        0.000094            0.000079   \n",
       "3                       -0.000013           -0.000042   \n",
       "4                       -0.000121           -0.000158   \n",
       "...                           ...                 ...   \n",
       "5290995                 -0.000634           -0.000669   \n",
       "5290996                 -0.000634           -0.000738   \n",
       "5290997                 -0.000159           -0.000244   \n",
       "5290998                 -0.000159           -0.000249   \n",
       "5290999                 -0.000317           -0.000389   \n",
       "\n",
       "         ask_price_bid_price_imb  ask_price_wap_imb  bid_price_wap_imb  \n",
       "0                       0.000107           0.000013          -0.000094  \n",
       "1                       0.000107           0.000067          -0.000040  \n",
       "2                       0.000054           0.000039          -0.000015  \n",
       "3                       0.000054           0.000024          -0.000030  \n",
       "4                       0.000107           0.000069          -0.000038  \n",
       "...                          ...                ...                ...  \n",
       "5290995                 0.000159           0.000123          -0.000035  \n",
       "5290996                 0.000159           0.000054          -0.000105  \n",
       "5290997                 0.000158           0.000073          -0.000085  \n",
       "5290998                 0.000158           0.000068          -0.000090  \n",
       "5290999                 0.000159           0.000086          -0.000072  \n",
       "\n",
       "[5291000 rows x 31 columns]"
      ]
     },
     "metadata": {},
     "output_type": "display_data"
    }
   ],
   "source": [
    "df = df.set_index([\"stock_id\", \"time_id\"])\n",
    "stock_id_list = np.arange(200, dtype=np.int64)\n",
    "time_id_list = np.arange(26455, dtype=np.int64)\n",
    "pd_multiindex = pd.MultiIndex.from_product([stock_id_list, time_id_list], names=(\"stock_id\", \"time_id\"))\n",
    "df = df.reindex(pd_multiindex, fill_value=0.0)\n",
    "df = df.reset_index()\n",
    "display(df)"
   ]
  },
  {
   "cell_type": "markdown",
   "id": "aca31a49-8986-44e6-973b-1142edc97979",
   "metadata": {},
   "source": [
    "## Group by stock_id\n",
    "\n",
    "TODO: group by date_id too? or use embedding for date_id?"
   ]
  },
  {
   "cell_type": "code",
   "execution_count": 26,
   "id": "78b7bd99-3e4b-4c1a-9fc2-07ccd9bf641b",
   "metadata": {},
   "outputs": [],
   "source": [
    "# df_grouped = df.groupby(\"date_id\")\n",
    "# num_classes = len(df_grouped)\n",
    "# print(num_classes)\n",
    "# print(df_grouped.size())"
   ]
  },
  {
   "cell_type": "markdown",
   "id": "5e2a8f6c-e938-414a-81f6-1e1227978dfe",
   "metadata": {},
   "source": [
    "### Separate df_grouped into training and validation set by time-series k-fold index"
   ]
  },
  {
   "cell_type": "code",
   "execution_count": 27,
   "id": "c7693d34-051b-4e81-a3f6-b05b4de342cb",
   "metadata": {},
   "outputs": [],
   "source": [
    "# df_grouped_train_map = {}\n",
    "# df_grouped_val_map = {}\n",
    "# df_grouped_train_map_sizes_sum = 0\n",
    "# df_grouped_val_map_sizes_sum = 0\n",
    "\n",
    "# for item_id, gdf in df_grouped:\n",
    "#     training_k_fold_idx_filter_mask = gdf.index.isin(k_fold_train_df_index)\n",
    "\n",
    "#     training_df = gdf[training_k_fold_idx_filter_mask]\n",
    "#     df_grouped_train_map[item_id] = training_df\n",
    "#     df_grouped_train_map_sizes_sum += training_df.shape[0]\n",
    "\n",
    "#     validation_df = gdf[~training_k_fold_idx_filter_mask]\n",
    "#     df_grouped_val_map[item_id] = validation_df\n",
    "#     df_grouped_val_map_sizes_sum += validation_df.shape[0]\n",
    "\n",
    "#     assert training_df.shape[0] > 0 \\\n",
    "#         and validation_df.shape[0] > 0 \\\n",
    "#         and training_df.shape[0] + validation_df.shape[0] == gdf.shape[0], f\"{item_id} invalid shape, training_df: {training_df.shape}, validation_df: {validation_df.shape}\"\n",
    "\n",
    "# print(df_grouped_train_map_sizes_sum, df_grouped_val_map_sizes_sum, k_fold_train_df_index.shape, k_fold_val_df_index.shape)\n",
    "# print(df_grouped_train_map_sizes_sum + df_grouped_val_map_sizes_sum - k_fold_train_df_index.shape[0] - k_fold_val_df_index.shape[0])"
   ]
  },
  {
   "cell_type": "markdown",
   "id": "e948553c-a509-458c-83d8-58c287fc969a",
   "metadata": {},
   "source": [
    "## Stock-based feature engineering"
   ]
  },
  {
   "cell_type": "code",
   "execution_count": 28,
   "id": "5622a8fc-e6df-4815-bd91-03deef379328",
   "metadata": {},
   "outputs": [],
   "source": [
    "# normalize_columns = set([\n",
    "#     \"imbalance_size\",\n",
    "#     \"matched_size\",\n",
    "#     \"bid_size\",\n",
    "#     \"ask_size\",\n",
    "# ])\n",
    "# normalize_columns = list(normalize_columns.intersection(set(feat_dynamic_real)))\n",
    "# print(normalize_columns)"
   ]
  },
  {
   "cell_type": "code",
   "execution_count": 29,
   "id": "6fab1363-c381-4536-828c-07677832b334",
   "metadata": {},
   "outputs": [],
   "source": [
    "# stock_processors = [\n",
    "#     StockNormalizeFeaturesPreprocessor(normalize_columns),\n",
    "# ]\n",
    "# stock_processor = CompositeGroupedDataPreprocessor(stock_processors)"
   ]
  },
  {
   "cell_type": "code",
   "execution_count": 30,
   "id": "ab482fa7-d725-4c7b-bd94-22120909b5d3",
   "metadata": {},
   "outputs": [],
   "source": [
    "# stock_processor.fit(df_grouped_train_map)"
   ]
  },
  {
   "cell_type": "code",
   "execution_count": 31,
   "id": "3382e9bc-10e9-48b2-aca2-d779e8421daa",
   "metadata": {},
   "outputs": [],
   "source": [
    "# df_grouped_train_map = stock_processor.apply(df_grouped_train_map)\n",
    "# df_grouped_val_map = stock_processor.apply(df_grouped_val_map)"
   ]
  },
  {
   "cell_type": "code",
   "execution_count": 32,
   "id": "aaec7e23-9222-47e0-b6de-e415056de2b5",
   "metadata": {},
   "outputs": [],
   "source": [
    "# display(df_grouped_train_map[0])\n",
    "# display(df_grouped_val_map[0])"
   ]
  },
  {
   "cell_type": "markdown",
   "id": "3d6db38a-e0f8-4d95-9c1f-3bf70fe1e7b3",
   "metadata": {},
   "source": [
    "## Final features"
   ]
  },
  {
   "cell_type": "code",
   "execution_count": 33,
   "id": "b0d3c33d-4649-464b-9e7a-5c70a9e94561",
   "metadata": {},
   "outputs": [],
   "source": [
    "# update feat_dynamic_real if needed after per-stock feature engineering\n",
    "feat_dynamic_real = feat_dynamic_real"
   ]
  },
  {
   "cell_type": "markdown",
   "id": "687dde16-8a06-40cd-b849-060c3eb9b727",
   "metadata": {},
   "source": [
    "## Prepare Pytorch datasets"
   ]
  },
  {
   "cell_type": "code",
   "execution_count": 34,
   "id": "e00037e5-af83-4f4b-9e89-b60accf6d1f2",
   "metadata": {},
   "outputs": [],
   "source": [
    "class OptiverDataset(torch.utils.data.Dataset):\n",
    "    def __init__(self, df, feature_names, category_cols, target_col, time_idx_col, num_time_pts, time_idx_offset):\n",
    "        super().__init__()\n",
    "        self.df = df\n",
    "        self.features = df[feature_names]\n",
    "        self.categories = df[category_cols]\n",
    "        self.targets = df[target_col]\n",
    "        self.time_idx = df[time_idx_col]\n",
    "        self.num_time_pts = num_time_pts\n",
    "        self.time_idx_offset = time_idx_offset\n",
    "\n",
    "    def __len__(self):\n",
    "        return self.num_time_pts\n",
    "\n",
    "    def __getitem__(self, idx):\n",
    "        time_idx_mask = self.time_idx == self.time_idx_offset + idx\n",
    "        features = self.features[time_idx_mask]\n",
    "        categories = self.categories[time_idx_mask]\n",
    "        targets = self.targets[time_idx_mask]\n",
    "        return features.values, categories.values, targets.values"
   ]
  },
  {
   "cell_type": "code",
   "execution_count": 35,
   "id": "cf94625c-b4d2-4c11-9baa-b9a1f9f635fc",
   "metadata": {},
   "outputs": [],
   "source": [
    "# stock_training_datasets = []\n",
    "# for item_id, gdf in df_grouped_train_map.items():\n",
    "#     stock_training_datasets.append(StockTrainingDataset(gdf, feat_dynamic_real, \"target\", item_id, seq_len))\n",
    "\n",
    "# stock_validation_datasets = []\n",
    "# for item_id, gdf in df_grouped_val_map.items():\n",
    "#     stock_validation_datasets.append(StockTrainingDataset(gdf, feat_dynamic_real, \"target\", item_id, seq_len))\n",
    "\n",
    "# print(len(stock_training_datasets), len(stock_validation_datasets))"
   ]
  },
  {
   "cell_type": "code",
   "execution_count": 36,
   "id": "8daff433-f66a-45c6-800a-1b23bb97bc6d",
   "metadata": {},
   "outputs": [],
   "source": [
    "# full_training_dataset = torch.utils.data.ConcatDataset(stock_training_datasets)\n",
    "# full_validation_dataset = torch.utils.data.ConcatDataset(stock_validation_datasets)\n",
    "# print(len(full_training_dataset), len(full_validation_dataset))"
   ]
  },
  {
   "cell_type": "code",
   "execution_count": 37,
   "id": "bca936bd",
   "metadata": {},
   "outputs": [
    {
     "name": "stdout",
     "output_type": "stream",
     "text": [
      "(4761800, 31) (529200, 31) 23809\n"
     ]
    }
   ],
   "source": [
    "val_cutoff_time_id = math.floor(26455 * 0.9)\n",
    "df_train = df[df[\"time_id\"] < val_cutoff_time_id]\n",
    "df_eval = df[df[\"time_id\"] >= val_cutoff_time_id]\n",
    "print(df_train.shape, df_eval.shape, val_cutoff_time_id)"
   ]
  },
  {
   "cell_type": "code",
   "execution_count": 38,
   "id": "f8471d71",
   "metadata": {},
   "outputs": [
    {
     "name": "stdout",
     "output_type": "stream",
     "text": [
      "23809 2646\n"
     ]
    }
   ],
   "source": [
    "full_training_dataset = OptiverDataset(df_train, feat_dynamic_real, \"stock_id\", \"target\", \"time_id\", val_cutoff_time_id, 0)\n",
    "full_validation_dataset = OptiverDataset(df_eval, feat_dynamic_real, \"stock_id\", \"target\", \"time_id\", 26455 - val_cutoff_time_id, val_cutoff_time_id)\n",
    "print(len(full_training_dataset), len(full_validation_dataset))"
   ]
  },
  {
   "cell_type": "code",
   "execution_count": 39,
   "id": "0f648120-a83d-4f5c-b53e-f31851fb80bf",
   "metadata": {},
   "outputs": [],
   "source": [
    "training_sampler = torch.utils.data.RandomSampler(full_training_dataset)\n",
    "validation_sampler = torch.utils.data.SequentialSampler(full_validation_dataset)"
   ]
  },
  {
   "cell_type": "code",
   "execution_count": 40,
   "id": "c607398d-2f29-4866-addb-e8b8a5053458",
   "metadata": {},
   "outputs": [],
   "source": [
    "training_dataloader = torch.utils.data.DataLoader(\n",
    "    full_training_dataset,\n",
    "    batch_size=training_batch_size,\n",
    "    sampler=training_sampler,\n",
    "    # https://pytorch.org/docs/stable/data.html#single-and-multi-process-data-loading\n",
    "    # num_workers=4,\n",
    "    # https://pytorch.org/docs/stable/data.html#memory-pinning\n",
    "    # pin_memory=True,\n",
    ")\n",
    "validation_dataloader = torch.utils.data.DataLoader(\n",
    "    full_validation_dataset,\n",
    "    batch_size=validation_batch_size,\n",
    "    sampler=validation_sampler,\n",
    "    # num_workers=4,\n",
    "    # pin_memory=True,\n",
    ")"
   ]
  },
  {
   "cell_type": "code",
   "execution_count": 41,
   "id": "6a822b02-69a4-4c33-8774-30890ab313f8",
   "metadata": {},
   "outputs": [
    {
     "name": "stdout",
     "output_type": "stream",
     "text": [
      "training_sample_batch torch.Size([256, 200, 28]) torch.Size([256, 200])\n",
      "training_sample_batch torch.FloatTensor torch.LongTensor\n",
      "validation_sample_batch torch.Size([256, 200, 28]) torch.Size([256, 200])\n",
      "validation_sample_batch torch.FloatTensor torch.LongTensor\n"
     ]
    }
   ],
   "source": [
    "training_sample_batch = next(iter(training_dataloader))\n",
    "print(\"training_sample_batch\", training_sample_batch[0].size(), training_sample_batch[1].size())\n",
    "print(\"training_sample_batch\", training_sample_batch[0].type(), training_sample_batch[1].type())\n",
    "validation_sample_batch = next(iter(validation_dataloader))\n",
    "print(\"validation_sample_batch\", validation_sample_batch[0].size(), validation_sample_batch[1].size())\n",
    "print(\"validation_sample_batch\", validation_sample_batch[0].type(), validation_sample_batch[1].type())"
   ]
  },
  {
   "cell_type": "markdown",
   "id": "98310dcf-a011-472d-a79a-e7738cb71c06",
   "metadata": {},
   "source": [
    "## Create model"
   ]
  },
  {
   "cell_type": "code",
   "execution_count": 42,
   "id": "c4374a57-0a89-45d8-9adb-e3ccbc2eb918",
   "metadata": {},
   "outputs": [
    {
     "data": {
      "text/plain": [
       "TransformerModel(\n",
       "  (embedding): Embedding(200, 4)\n",
       "  (input_ff): Linear(in_features=32, out_features=32, bias=True)\n",
       "  (input_ff_sigmoid): Sigmoid()\n",
       "  (transformer_encoder): TransformerEncoder(\n",
       "    (layers): ModuleList(\n",
       "      (0-1): 2 x TransformerEncoderLayer(\n",
       "        (self_attn): MultiheadAttention(\n",
       "          (out_proj): NonDynamicallyQuantizableLinear(in_features=32, out_features=32, bias=True)\n",
       "        )\n",
       "        (linear1): Linear(in_features=32, out_features=32, bias=True)\n",
       "        (dropout): Dropout(p=0.1, inplace=False)\n",
       "        (linear2): Linear(in_features=32, out_features=32, bias=True)\n",
       "        (norm1): LayerNorm((32,), eps=1e-05, elementwise_affine=True)\n",
       "        (norm2): LayerNorm((32,), eps=1e-05, elementwise_affine=True)\n",
       "        (dropout1): Dropout(p=0.1, inplace=False)\n",
       "        (dropout2): Dropout(p=0.1, inplace=False)\n",
       "      )\n",
       "    )\n",
       "  )\n",
       "  (final_linear): Linear(in_features=32, out_features=1, bias=True)\n",
       ")"
      ]
     },
     "execution_count": 42,
     "metadata": {},
     "output_type": "execute_result"
    }
   ],
   "source": [
    "model = TransformerModel(\n",
    "    num_input_features=num_input_features,\n",
    "    num_classes=num_classes,\n",
    "    embedding_dim=embedding_dim,\n",
    "    d_model=d_model,\n",
    "    nhead=nhead,\n",
    "    d_hid=d_hid,\n",
    "    nlayers=nlayers,\n",
    "    dropout=dropout,\n",
    ")\n",
    "model.apply(init_weights)"
   ]
  },
  {
   "cell_type": "code",
   "execution_count": 43,
   "id": "bdca2b6f-b702-4f41-b720-58cbb99ed5c5",
   "metadata": {},
   "outputs": [],
   "source": [
    "criterion = nn.L1Loss()\n",
    "validation_criterion = nn.L1Loss()"
   ]
  },
  {
   "cell_type": "markdown",
   "id": "c04dbf4e-5eef-47a5-bb65-009723f0c8ed",
   "metadata": {},
   "source": [
    "## Tensorboard\n",
    "\n",
    "Start with `tensorboard --logdir=lightning_logs/` cmd."
   ]
  },
  {
   "cell_type": "code",
   "execution_count": 44,
   "id": "414f05d4-34fd-45e9-8a1a-0f9f6257c60c",
   "metadata": {},
   "outputs": [],
   "source": [
    "# %reload_ext tensorboard\n",
    "# %tensorboard --logdir=lightning_logs/"
   ]
  },
  {
   "cell_type": "markdown",
   "id": "997092df-606f-4be2-acf8-04b42c004265",
   "metadata": {},
   "source": [
    "## Module and trainer (lightning)"
   ]
  },
  {
   "cell_type": "code",
   "execution_count": 45,
   "id": "e7b16ac6-fef9-4d94-b17b-6545e290e537",
   "metadata": {},
   "outputs": [],
   "source": [
    "class TransformerModelModule(L.LightningModule):\n",
    "    def __init__(\n",
    "        self,\n",
    "        model: nn.Module,\n",
    "        criterion: nn.Module,\n",
    "        validation_criterion: nn.Module,\n",
    "        lr,\n",
    "    ):\n",
    "        super().__init__()\n",
    "        self.save_hyperparameters()\n",
    "        self.model = model\n",
    "        self.criterion = criterion\n",
    "        self.validation_criterion = validation_criterion\n",
    "        self.lr = lr\n",
    "        self.validation_step_outputs = []\n",
    "        self.validation_step_actual_targets = []\n",
    "\n",
    "    def training_step(self, batch, batch_idx):\n",
    "        features, item_id, targets = batch[0], batch[1], batch[2]\n",
    "        actual_targets = targets\n",
    "        output = self.model(features, item_id)\n",
    "        loss = self.criterion(output, actual_targets)\n",
    "        self.log(\"train_loss\", loss, on_step=False, on_epoch=True, prog_bar=True)\n",
    "        return loss\n",
    "\n",
    "    def validation_step(self, batch, batch_idx):\n",
    "        features, item_id, targets = batch[0], batch[1], batch[2]\n",
    "        actual_targets = targets\n",
    "        output = self.model(features, item_id)\n",
    "        # TODO: is loss being averaged based on batch size\n",
    "        loss = self.validation_criterion(output, actual_targets)\n",
    "        # lightning will take weighted-average on loss per step based on batch size\n",
    "        self.log(\"val_loss\", loss, on_step=False, on_epoch=True, prog_bar=True)\n",
    "        self.validation_step_outputs.append(output)\n",
    "        self.validation_step_actual_targets.append(actual_targets)\n",
    "\n",
    "    def on_validation_epoch_end(self):\n",
    "        # TODO: remove manual calculation of validation loss if we can confirm lightning will take weighted average\n",
    "        # cat is used instead of stack, last step may have different batch size\n",
    "        all_preds = torch.cat(self.validation_step_outputs)\n",
    "        all_actual_targets = torch.cat(self.validation_step_actual_targets)\n",
    "        manual_loss = self.validation_criterion(all_preds, all_actual_targets)\n",
    "        self.log(\"val_loss_manual\", manual_loss, on_step=False, on_epoch=True, prog_bar=True)\n",
    "        self.validation_step_outputs.clear()  # free memory\n",
    "        self.validation_step_actual_targets.clear()  # free memory\n",
    "\n",
    "    def configure_optimizers(self):\n",
    "        optimizer = torch.optim.AdamW(\n",
    "            self.model.parameters(),\n",
    "            lr=self.lr,\n",
    "            betas=(0.9, 0.95),\n",
    "            weight_decay=1e-1,\n",
    "        )\n",
    "        return [optimizer]"
   ]
  },
  {
   "cell_type": "code",
   "execution_count": 46,
   "id": "22350a63-76bd-47cb-baf5-8ec579fafb21",
   "metadata": {},
   "outputs": [
    {
     "name": "stderr",
     "output_type": "stream",
     "text": [
      "/userhome/cs2/tsangsyf/anaconda3_2/lib/python3.11/site-packages/lightning/pytorch/utilities/parsing.py:199: Attribute 'model' is an instance of `nn.Module` and is already saved during checkpointing. It is recommended to ignore them using `self.save_hyperparameters(ignore=['model'])`.\n",
      "/userhome/cs2/tsangsyf/anaconda3_2/lib/python3.11/site-packages/lightning/pytorch/utilities/parsing.py:199: Attribute 'criterion' is an instance of `nn.Module` and is already saved during checkpointing. It is recommended to ignore them using `self.save_hyperparameters(ignore=['criterion'])`.\n",
      "/userhome/cs2/tsangsyf/anaconda3_2/lib/python3.11/site-packages/lightning/pytorch/utilities/parsing.py:199: Attribute 'validation_criterion' is an instance of `nn.Module` and is already saved during checkpointing. It is recommended to ignore them using `self.save_hyperparameters(ignore=['validation_criterion'])`.\n"
     ]
    }
   ],
   "source": [
    "model = TransformerModelModule(\n",
    "    model,\n",
    "    criterion,\n",
    "    validation_criterion,\n",
    "    learning_rate,\n",
    ")"
   ]
  },
  {
   "cell_type": "code",
   "execution_count": 47,
   "id": "d7b2b025",
   "metadata": {},
   "outputs": [],
   "source": [
    "checkpoint_callback = ModelCheckpoint(\n",
    "    dirpath=checkpoint_dir,\n",
    "    save_top_k=2,\n",
    "    monitor=\"val_loss\",\n",
    "    mode=\"min\",\n",
    "    filename=\"transformer-{epoch:02d}-{val_loss:.4f}\"\n",
    ")"
   ]
  },
  {
   "cell_type": "code",
   "execution_count": 48,
   "id": "1cf1e0dc-77a4-48f2-b456-d65938de92d4",
   "metadata": {},
   "outputs": [
    {
     "name": "stderr",
     "output_type": "stream",
     "text": [
      "/userhome/cs2/tsangsyf/anaconda3_2/lib/python3.11/site-packages/lightning/fabric/plugins/environments/slurm.py:204: The `srun` command is available on your system but is not used. HINT: If your intention is to run Lightning on SLURM, prepend your python command with `srun` like so: srun python /userhome/cs2/tsangsyf/anaconda3_2/lib/python3.11/si ...\n",
      "GPU available: True (cuda), used: True\n",
      "TPU available: False, using: 0 TPU cores\n",
      "IPU available: False, using: 0 IPUs\n",
      "HPU available: False, using: 0 HPUs\n",
      "`Trainer(limit_train_batches=1.0)` was configured so 100% of the batches per epoch will be used..\n"
     ]
    },
    {
     "name": "stdout",
     "output_type": "stream",
     "text": [
      "[<lightning.pytorch.callbacks.progress.rich_progress.RichProgressBar object at 0x14826462cb90>, <lightning.pytorch.callbacks.rich_model_summary.RichModelSummary object at 0x14824f1dc590>, <lightning.pytorch.callbacks.model_checkpoint.ModelCheckpoint object at 0x148264668110>]\n"
     ]
    }
   ],
   "source": [
    "trainer = L.Trainer(\n",
    "    max_epochs=num_epochs,\n",
    "    limit_train_batches=limit_train_batches,\n",
    "    # https://lightning.ai/docs/pytorch/stable/advanced/training_tricks.html#gradient-clipping\n",
    "    gradient_clip_val=gradient_clip_val,\n",
    "    callbacks=[\n",
    "        # https://lightning.ai/docs/pytorch/stable/common/progress_bar.html#richprogressbar\n",
    "        RichProgressBar(leave=True),\n",
    "        checkpoint_callback,\n",
    "    ],\n",
    "    logger=tb_logger,\n",
    "    # https://lightning.ai/docs/pytorch/stable/common/trainer.html#reproducibility\n",
    "    deterministic=True,\n",
    ")\n",
    "print(trainer.callbacks)"
   ]
  },
  {
   "cell_type": "code",
   "execution_count": 49,
   "id": "70afdf94-e001-4a9c-a2a4-d65ace3ecb5b",
   "metadata": {},
   "outputs": [
    {
     "name": "stderr",
     "output_type": "stream",
     "text": [
      "/userhome/cs2/tsangsyf/anaconda3_2/lib/python3.11/site-packages/lightning/fabric/plugins/environments/slurm.py:204: The `srun` command is available on your system but is not used. HINT: If your intention is to run Lightning on SLURM, prepend your python command with `srun` like so: srun python /userhome/cs2/tsangsyf/anaconda3_2/lib/python3.11/si ...\n",
      "2024-04-25 23:39:55.911865: I tensorflow/core/platform/cpu_feature_guard.cc:210] This TensorFlow binary is optimized to use available CPU instructions in performance-critical operations.\n",
      "To enable the following instructions: AVX2 AVX512F FMA, in other operations, rebuild TensorFlow with the appropriate compiler flags.\n",
      "2024-04-25 23:40:01.139387: W tensorflow/compiler/tf2tensorrt/utils/py_utils.cc:38] TF-TRT Warning: Could not find TensorRT\n",
      "LOCAL_RANK: 0 - CUDA_VISIBLE_DEVICES: [0]\n"
     ]
    },
    {
     "data": {
      "application/vnd.jupyter.widget-view+json": {
       "model_id": "b27d86e51b4d41d8adbf22d196a8b6dd",
       "version_major": 2,
       "version_minor": 0
      },
      "text/plain": [
       "Output()"
      ]
     },
     "metadata": {},
     "output_type": "display_data"
    },
    {
     "name": "stderr",
     "output_type": "stream",
     "text": [
      "/userhome/cs2/tsangsyf/anaconda3_2/lib/python3.11/site-packages/lightning/pytorch/trainer/connectors/data_connector.py:441: The 'val_dataloader' does not have many workers which may be a bottleneck. Consider increasing the value of the `num_workers` argument` to `num_workers=3` in the `DataLoader` to improve performance.\n"
     ]
    },
    {
     "data": {
      "text/html": [
       "<pre style=\"white-space:pre;overflow-x:auto;line-height:normal;font-family:Menlo,'DejaVu Sans Mono',consolas,'Courier New',monospace\">┏━━━━━━━━━━━━━━━━━━━━━━━━━━━┳━━━━━━━━━━━━━━━━━━━━━━━━━━━┓\n",
       "┃<span style=\"font-weight: bold\">      Validate metric      </span>┃<span style=\"font-weight: bold\">       DataLoader 0        </span>┃\n",
       "┡━━━━━━━━━━━━━━━━━━━━━━━━━━━╇━━━━━━━━━━━━━━━━━━━━━━━━━━━┩\n",
       "│<span style=\"color: #008080; text-decoration-color: #008080\">         val_loss          </span>│<span style=\"color: #800080; text-decoration-color: #800080\">     6.066676616668701     </span>│\n",
       "│<span style=\"color: #008080; text-decoration-color: #008080\">      val_loss_manual      </span>│<span style=\"color: #800080; text-decoration-color: #800080\">     6.066676616668701     </span>│\n",
       "└───────────────────────────┴───────────────────────────┘\n",
       "</pre>\n"
      ],
      "text/plain": [
       "┏━━━━━━━━━━━━━━━━━━━━━━━━━━━┳━━━━━━━━━━━━━━━━━━━━━━━━━━━┓\n",
       "┃\u001b[1m \u001b[0m\u001b[1m     Validate metric     \u001b[0m\u001b[1m \u001b[0m┃\u001b[1m \u001b[0m\u001b[1m      DataLoader 0       \u001b[0m\u001b[1m \u001b[0m┃\n",
       "┡━━━━━━━━━━━━━━━━━━━━━━━━━━━╇━━━━━━━━━━━━━━━━━━━━━━━━━━━┩\n",
       "│\u001b[36m \u001b[0m\u001b[36m        val_loss         \u001b[0m\u001b[36m \u001b[0m│\u001b[35m \u001b[0m\u001b[35m    6.066676616668701    \u001b[0m\u001b[35m \u001b[0m│\n",
       "│\u001b[36m \u001b[0m\u001b[36m     val_loss_manual     \u001b[0m\u001b[36m \u001b[0m│\u001b[35m \u001b[0m\u001b[35m    6.066676616668701    \u001b[0m\u001b[35m \u001b[0m│\n",
       "└───────────────────────────┴───────────────────────────┘\n"
      ]
     },
     "metadata": {},
     "output_type": "display_data"
    },
    {
     "data": {
      "text/html": [
       "<pre style=\"white-space:pre;overflow-x:auto;line-height:normal;font-family:Menlo,'DejaVu Sans Mono',consolas,'Courier New',monospace\"></pre>\n"
      ],
      "text/plain": []
     },
     "metadata": {},
     "output_type": "display_data"
    },
    {
     "data": {
      "text/html": [
       "<pre style=\"white-space:pre;overflow-x:auto;line-height:normal;font-family:Menlo,'DejaVu Sans Mono',consolas,'Courier New',monospace\">\n",
       "</pre>\n"
      ],
      "text/plain": [
       "\n"
      ]
     },
     "metadata": {},
     "output_type": "display_data"
    },
    {
     "data": {
      "text/plain": [
       "[{'val_loss': 6.066676616668701, 'val_loss_manual': 6.066676616668701}]"
      ]
     },
     "execution_count": 49,
     "metadata": {},
     "output_type": "execute_result"
    }
   ],
   "source": [
    "trainer.validate(\n",
    "    model=model,\n",
    "    dataloaders=validation_dataloader,\n",
    ")"
   ]
  },
  {
   "cell_type": "markdown",
   "id": "9c6a577a-49c2-4641-aa72-4e1829dcfe5b",
   "metadata": {},
   "source": [
    "## Training"
   ]
  },
  {
   "cell_type": "code",
   "execution_count": 50,
   "id": "2a417a73-8f6f-4640-afc8-229401cedb77",
   "metadata": {},
   "outputs": [
    {
     "name": "stderr",
     "output_type": "stream",
     "text": [
      "/userhome/cs2/tsangsyf/anaconda3_2/lib/python3.11/site-packages/lightning/fabric/plugins/environments/slurm.py:204: The `srun` command is available on your system but is not used. HINT: If your intention is to run Lightning on SLURM, prepend your python command with `srun` like so: srun python /userhome/cs2/tsangsyf/anaconda3_2/lib/python3.11/si ...\n",
      "/userhome/cs2/tsangsyf/anaconda3_2/lib/python3.11/site-packages/lightning/pytorch/callbacks/model_checkpoint.py:652: Checkpoint directory /userhome/cs2/tsangsyf/optiver2023/florence/transformer_encoder_by_time_checkpoints/20240425_transformer_dupletstriplets exists and is not empty.\n",
      "LOCAL_RANK: 0 - CUDA_VISIBLE_DEVICES: [0]\n"
     ]
    },
    {
     "data": {
      "text/html": [
       "<pre style=\"white-space:pre;overflow-x:auto;line-height:normal;font-family:Menlo,'DejaVu Sans Mono',consolas,'Courier New',monospace\">┏━━━┳━━━━━━━━━━━━━━━━━━━━━━┳━━━━━━━━━━━━━━━━━━┳━━━━━━━━┓\n",
       "┃<span style=\"color: #800080; text-decoration-color: #800080; font-weight: bold\">   </span>┃<span style=\"color: #800080; text-decoration-color: #800080; font-weight: bold\"> Name                 </span>┃<span style=\"color: #800080; text-decoration-color: #800080; font-weight: bold\"> Type             </span>┃<span style=\"color: #800080; text-decoration-color: #800080; font-weight: bold\"> Params </span>┃\n",
       "┡━━━╇━━━━━━━━━━━━━━━━━━━━━━╇━━━━━━━━━━━━━━━━━━╇━━━━━━━━┩\n",
       "│<span style=\"color: #7f7f7f; text-decoration-color: #7f7f7f\"> 0 </span>│ model                │ TransformerModel │ 14.8 K │\n",
       "│<span style=\"color: #7f7f7f; text-decoration-color: #7f7f7f\"> 1 </span>│ criterion            │ L1Loss           │      0 │\n",
       "│<span style=\"color: #7f7f7f; text-decoration-color: #7f7f7f\"> 2 </span>│ validation_criterion │ L1Loss           │      0 │\n",
       "└───┴──────────────────────┴──────────────────┴────────┘\n",
       "</pre>\n"
      ],
      "text/plain": [
       "┏━━━┳━━━━━━━━━━━━━━━━━━━━━━┳━━━━━━━━━━━━━━━━━━┳━━━━━━━━┓\n",
       "┃\u001b[1;35m \u001b[0m\u001b[1;35m \u001b[0m\u001b[1;35m \u001b[0m┃\u001b[1;35m \u001b[0m\u001b[1;35mName                \u001b[0m\u001b[1;35m \u001b[0m┃\u001b[1;35m \u001b[0m\u001b[1;35mType            \u001b[0m\u001b[1;35m \u001b[0m┃\u001b[1;35m \u001b[0m\u001b[1;35mParams\u001b[0m\u001b[1;35m \u001b[0m┃\n",
       "┡━━━╇━━━━━━━━━━━━━━━━━━━━━━╇━━━━━━━━━━━━━━━━━━╇━━━━━━━━┩\n",
       "│\u001b[2m \u001b[0m\u001b[2m0\u001b[0m\u001b[2m \u001b[0m│ model                │ TransformerModel │ 14.8 K │\n",
       "│\u001b[2m \u001b[0m\u001b[2m1\u001b[0m\u001b[2m \u001b[0m│ criterion            │ L1Loss           │      0 │\n",
       "│\u001b[2m \u001b[0m\u001b[2m2\u001b[0m\u001b[2m \u001b[0m│ validation_criterion │ L1Loss           │      0 │\n",
       "└───┴──────────────────────┴──────────────────┴────────┘\n"
      ]
     },
     "metadata": {},
     "output_type": "display_data"
    },
    {
     "data": {
      "text/html": [
       "<pre style=\"white-space:pre;overflow-x:auto;line-height:normal;font-family:Menlo,'DejaVu Sans Mono',consolas,'Courier New',monospace\"><span style=\"font-weight: bold\">Trainable params</span>: 14.8 K                                                                                           \n",
       "<span style=\"font-weight: bold\">Non-trainable params</span>: 0                                                                                            \n",
       "<span style=\"font-weight: bold\">Total params</span>: 14.8 K                                                                                               \n",
       "<span style=\"font-weight: bold\">Total estimated model params size (MB)</span>: 0                                                                          \n",
       "</pre>\n"
      ],
      "text/plain": [
       "\u001b[1mTrainable params\u001b[0m: 14.8 K                                                                                           \n",
       "\u001b[1mNon-trainable params\u001b[0m: 0                                                                                            \n",
       "\u001b[1mTotal params\u001b[0m: 14.8 K                                                                                               \n",
       "\u001b[1mTotal estimated model params size (MB)\u001b[0m: 0                                                                          \n"
      ]
     },
     "metadata": {},
     "output_type": "display_data"
    },
    {
     "data": {
      "application/vnd.jupyter.widget-view+json": {
       "model_id": "9c997a4bb13c49d7bb65eb6f07244900",
       "version_major": 2,
       "version_minor": 0
      },
      "text/plain": [
       "Output()"
      ]
     },
     "metadata": {},
     "output_type": "display_data"
    },
    {
     "data": {
      "text/html": [
       "<pre style=\"white-space:pre;overflow-x:auto;line-height:normal;font-family:Menlo,'DejaVu Sans Mono',consolas,'Courier New',monospace\">/userhome/cs2/tsangsyf/anaconda3_2/lib/python3.11/site-packages/lightning/pytorch/trainer/connectors/data_connector\n",
       ".py:441: The 'train_dataloader' does not have many workers which may be a bottleneck. Consider increasing the value\n",
       "of the `num_workers` argument` to `num_workers=3` in the `DataLoader` to improve performance.\n",
       "</pre>\n"
      ],
      "text/plain": [
       "/userhome/cs2/tsangsyf/anaconda3_2/lib/python3.11/site-packages/lightning/pytorch/trainer/connectors/data_connector\n",
       ".py:441: The 'train_dataloader' does not have many workers which may be a bottleneck. Consider increasing the value\n",
       "of the `num_workers` argument` to `num_workers=3` in the `DataLoader` to improve performance.\n"
      ]
     },
     "metadata": {},
     "output_type": "display_data"
    },
    {
     "data": {
      "text/html": [
       "<pre style=\"white-space:pre;overflow-x:auto;line-height:normal;font-family:Menlo,'DejaVu Sans Mono',consolas,'Courier New',monospace\"></pre>\n"
      ],
      "text/plain": []
     },
     "metadata": {},
     "output_type": "display_data"
    },
    {
     "data": {
      "text/html": [
       "<pre style=\"white-space:pre;overflow-x:auto;line-height:normal;font-family:Menlo,'DejaVu Sans Mono',consolas,'Courier New',monospace\">\n",
       "</pre>\n"
      ],
      "text/plain": [
       "\n"
      ]
     },
     "metadata": {},
     "output_type": "display_data"
    },
    {
     "data": {
      "application/vnd.jupyter.widget-view+json": {
       "model_id": "c4f7a170d82a4b3982f8e52438869d57",
       "version_major": 2,
       "version_minor": 0
      },
      "text/plain": [
       "Output()"
      ]
     },
     "metadata": {},
     "output_type": "display_data"
    },
    {
     "data": {
      "text/html": [
       "<pre style=\"white-space:pre;overflow-x:auto;line-height:normal;font-family:Menlo,'DejaVu Sans Mono',consolas,'Courier New',monospace\"></pre>\n"
      ],
      "text/plain": []
     },
     "metadata": {},
     "output_type": "display_data"
    },
    {
     "data": {
      "text/html": [
       "<pre style=\"white-space:pre;overflow-x:auto;line-height:normal;font-family:Menlo,'DejaVu Sans Mono',consolas,'Courier New',monospace\">\n",
       "</pre>\n"
      ],
      "text/plain": [
       "\n"
      ]
     },
     "metadata": {},
     "output_type": "display_data"
    },
    {
     "data": {
      "application/vnd.jupyter.widget-view+json": {
       "model_id": "cd52b290a30e41739c1ecf724715194d",
       "version_major": 2,
       "version_minor": 0
      },
      "text/plain": [
       "Output()"
      ]
     },
     "metadata": {},
     "output_type": "display_data"
    },
    {
     "data": {
      "text/html": [
       "<pre style=\"white-space:pre;overflow-x:auto;line-height:normal;font-family:Menlo,'DejaVu Sans Mono',consolas,'Courier New',monospace\"></pre>\n"
      ],
      "text/plain": []
     },
     "metadata": {},
     "output_type": "display_data"
    },
    {
     "data": {
      "text/html": [
       "<pre style=\"white-space:pre;overflow-x:auto;line-height:normal;font-family:Menlo,'DejaVu Sans Mono',consolas,'Courier New',monospace\">\n",
       "</pre>\n"
      ],
      "text/plain": [
       "\n"
      ]
     },
     "metadata": {},
     "output_type": "display_data"
    },
    {
     "data": {
      "application/vnd.jupyter.widget-view+json": {
       "model_id": "f9562876a696436aac6c7489a10c6d7b",
       "version_major": 2,
       "version_minor": 0
      },
      "text/plain": [
       "Output()"
      ]
     },
     "metadata": {},
     "output_type": "display_data"
    },
    {
     "data": {
      "text/html": [
       "<pre style=\"white-space:pre;overflow-x:auto;line-height:normal;font-family:Menlo,'DejaVu Sans Mono',consolas,'Courier New',monospace\"></pre>\n"
      ],
      "text/plain": []
     },
     "metadata": {},
     "output_type": "display_data"
    },
    {
     "data": {
      "text/html": [
       "<pre style=\"white-space:pre;overflow-x:auto;line-height:normal;font-family:Menlo,'DejaVu Sans Mono',consolas,'Courier New',monospace\">\n",
       "</pre>\n"
      ],
      "text/plain": [
       "\n"
      ]
     },
     "metadata": {},
     "output_type": "display_data"
    },
    {
     "data": {
      "application/vnd.jupyter.widget-view+json": {
       "model_id": "70738fb1b362495e9d243f4b01d2b7dd",
       "version_major": 2,
       "version_minor": 0
      },
      "text/plain": [
       "Output()"
      ]
     },
     "metadata": {},
     "output_type": "display_data"
    },
    {
     "data": {
      "text/html": [
       "<pre style=\"white-space:pre;overflow-x:auto;line-height:normal;font-family:Menlo,'DejaVu Sans Mono',consolas,'Courier New',monospace\"></pre>\n"
      ],
      "text/plain": []
     },
     "metadata": {},
     "output_type": "display_data"
    },
    {
     "data": {
      "text/html": [
       "<pre style=\"white-space:pre;overflow-x:auto;line-height:normal;font-family:Menlo,'DejaVu Sans Mono',consolas,'Courier New',monospace\">\n",
       "</pre>\n"
      ],
      "text/plain": [
       "\n"
      ]
     },
     "metadata": {},
     "output_type": "display_data"
    },
    {
     "data": {
      "application/vnd.jupyter.widget-view+json": {
       "model_id": "7cd58f41ceac4628b8cf6c2767872d06",
       "version_major": 2,
       "version_minor": 0
      },
      "text/plain": [
       "Output()"
      ]
     },
     "metadata": {},
     "output_type": "display_data"
    },
    {
     "data": {
      "text/html": [
       "<pre style=\"white-space:pre;overflow-x:auto;line-height:normal;font-family:Menlo,'DejaVu Sans Mono',consolas,'Courier New',monospace\"></pre>\n"
      ],
      "text/plain": []
     },
     "metadata": {},
     "output_type": "display_data"
    },
    {
     "data": {
      "text/html": [
       "<pre style=\"white-space:pre;overflow-x:auto;line-height:normal;font-family:Menlo,'DejaVu Sans Mono',consolas,'Courier New',monospace\">\n",
       "</pre>\n"
      ],
      "text/plain": [
       "\n"
      ]
     },
     "metadata": {},
     "output_type": "display_data"
    },
    {
     "data": {
      "application/vnd.jupyter.widget-view+json": {
       "model_id": "cf811cc56b1f4d57bf07983e1f1da025",
       "version_major": 2,
       "version_minor": 0
      },
      "text/plain": [
       "Output()"
      ]
     },
     "metadata": {},
     "output_type": "display_data"
    },
    {
     "data": {
      "text/html": [
       "<pre style=\"white-space:pre;overflow-x:auto;line-height:normal;font-family:Menlo,'DejaVu Sans Mono',consolas,'Courier New',monospace\"></pre>\n"
      ],
      "text/plain": []
     },
     "metadata": {},
     "output_type": "display_data"
    },
    {
     "data": {
      "text/html": [
       "<pre style=\"white-space:pre;overflow-x:auto;line-height:normal;font-family:Menlo,'DejaVu Sans Mono',consolas,'Courier New',monospace\">\n",
       "</pre>\n"
      ],
      "text/plain": [
       "\n"
      ]
     },
     "metadata": {},
     "output_type": "display_data"
    },
    {
     "data": {
      "application/vnd.jupyter.widget-view+json": {
       "model_id": "d3ea8734680641808ccabfb1e63ed01a",
       "version_major": 2,
       "version_minor": 0
      },
      "text/plain": [
       "Output()"
      ]
     },
     "metadata": {},
     "output_type": "display_data"
    },
    {
     "data": {
      "text/html": [
       "<pre style=\"white-space:pre;overflow-x:auto;line-height:normal;font-family:Menlo,'DejaVu Sans Mono',consolas,'Courier New',monospace\"></pre>\n"
      ],
      "text/plain": []
     },
     "metadata": {},
     "output_type": "display_data"
    },
    {
     "data": {
      "text/html": [
       "<pre style=\"white-space:pre;overflow-x:auto;line-height:normal;font-family:Menlo,'DejaVu Sans Mono',consolas,'Courier New',monospace\">\n",
       "</pre>\n"
      ],
      "text/plain": [
       "\n"
      ]
     },
     "metadata": {},
     "output_type": "display_data"
    },
    {
     "data": {
      "application/vnd.jupyter.widget-view+json": {
       "model_id": "ce384557149d4042825e4fb07470817a",
       "version_major": 2,
       "version_minor": 0
      },
      "text/plain": [
       "Output()"
      ]
     },
     "metadata": {},
     "output_type": "display_data"
    },
    {
     "data": {
      "text/html": [
       "<pre style=\"white-space:pre;overflow-x:auto;line-height:normal;font-family:Menlo,'DejaVu Sans Mono',consolas,'Courier New',monospace\"></pre>\n"
      ],
      "text/plain": []
     },
     "metadata": {},
     "output_type": "display_data"
    },
    {
     "data": {
      "text/html": [
       "<pre style=\"white-space:pre;overflow-x:auto;line-height:normal;font-family:Menlo,'DejaVu Sans Mono',consolas,'Courier New',monospace\">\n",
       "</pre>\n"
      ],
      "text/plain": [
       "\n"
      ]
     },
     "metadata": {},
     "output_type": "display_data"
    },
    {
     "data": {
      "application/vnd.jupyter.widget-view+json": {
       "model_id": "3837d51535174f71b8a0ea740747766a",
       "version_major": 2,
       "version_minor": 0
      },
      "text/plain": [
       "Output()"
      ]
     },
     "metadata": {},
     "output_type": "display_data"
    },
    {
     "name": "stderr",
     "output_type": "stream",
     "text": [
      "`Trainer.fit` stopped: `max_epochs=10` reached.\n"
     ]
    },
    {
     "data": {
      "text/html": [
       "<pre style=\"white-space:pre;overflow-x:auto;line-height:normal;font-family:Menlo,'DejaVu Sans Mono',consolas,'Courier New',monospace\"></pre>\n"
      ],
      "text/plain": []
     },
     "metadata": {},
     "output_type": "display_data"
    },
    {
     "data": {
      "text/html": [
       "<pre style=\"white-space:pre;overflow-x:auto;line-height:normal;font-family:Menlo,'DejaVu Sans Mono',consolas,'Courier New',monospace\">\n",
       "</pre>\n"
      ],
      "text/plain": [
       "\n"
      ]
     },
     "metadata": {},
     "output_type": "display_data"
    }
   ],
   "source": [
    "print(checkpoint_dir)\n",
    "trainer.fit(\n",
    "    model=model,\n",
    "    train_dataloaders=training_dataloader,\n",
    "    val_dataloaders=validation_dataloader,\n",
    ")"
   ]
  },
  {
   "cell_type": "code",
   "execution_count": 51,
   "id": "7139bfba-7fca-482a-bf5c-0f633b61fe04",
   "metadata": {},
   "outputs": [
    {
     "name": "stderr",
     "output_type": "stream",
     "text": [
      "LOCAL_RANK: 0 - CUDA_VISIBLE_DEVICES: [0]\n"
     ]
    },
    {
     "data": {
      "application/vnd.jupyter.widget-view+json": {
       "model_id": "7bfb44b344f64302990a933fef7bfd3d",
       "version_major": 2,
       "version_minor": 0
      },
      "text/plain": [
       "Output()"
      ]
     },
     "metadata": {},
     "output_type": "display_data"
    },
    {
     "data": {
      "text/html": [
       "<pre style=\"white-space:pre;overflow-x:auto;line-height:normal;font-family:Menlo,'DejaVu Sans Mono',consolas,'Courier New',monospace\">┏━━━━━━━━━━━━━━━━━━━━━━━━━━━┳━━━━━━━━━━━━━━━━━━━━━━━━━━━┓\n",
       "┃<span style=\"font-weight: bold\">      Validate metric      </span>┃<span style=\"font-weight: bold\">       DataLoader 0        </span>┃\n",
       "┡━━━━━━━━━━━━━━━━━━━━━━━━━━━╇━━━━━━━━━━━━━━━━━━━━━━━━━━━┩\n",
       "│<span style=\"color: #008080; text-decoration-color: #008080\">         val_loss          </span>│<span style=\"color: #800080; text-decoration-color: #800080\">     5.958928108215332     </span>│\n",
       "│<span style=\"color: #008080; text-decoration-color: #008080\">      val_loss_manual      </span>│<span style=\"color: #800080; text-decoration-color: #800080\">     5.958928108215332     </span>│\n",
       "└───────────────────────────┴───────────────────────────┘\n",
       "</pre>\n"
      ],
      "text/plain": [
       "┏━━━━━━━━━━━━━━━━━━━━━━━━━━━┳━━━━━━━━━━━━━━━━━━━━━━━━━━━┓\n",
       "┃\u001b[1m \u001b[0m\u001b[1m     Validate metric     \u001b[0m\u001b[1m \u001b[0m┃\u001b[1m \u001b[0m\u001b[1m      DataLoader 0       \u001b[0m\u001b[1m \u001b[0m┃\n",
       "┡━━━━━━━━━━━━━━━━━━━━━━━━━━━╇━━━━━━━━━━━━━━━━━━━━━━━━━━━┩\n",
       "│\u001b[36m \u001b[0m\u001b[36m        val_loss         \u001b[0m\u001b[36m \u001b[0m│\u001b[35m \u001b[0m\u001b[35m    5.958928108215332    \u001b[0m\u001b[35m \u001b[0m│\n",
       "│\u001b[36m \u001b[0m\u001b[36m     val_loss_manual     \u001b[0m\u001b[36m \u001b[0m│\u001b[35m \u001b[0m\u001b[35m    5.958928108215332    \u001b[0m\u001b[35m \u001b[0m│\n",
       "└───────────────────────────┴───────────────────────────┘\n"
      ]
     },
     "metadata": {},
     "output_type": "display_data"
    },
    {
     "data": {
      "text/html": [
       "<pre style=\"white-space:pre;overflow-x:auto;line-height:normal;font-family:Menlo,'DejaVu Sans Mono',consolas,'Courier New',monospace\"></pre>\n"
      ],
      "text/plain": []
     },
     "metadata": {},
     "output_type": "display_data"
    },
    {
     "data": {
      "text/html": [
       "<pre style=\"white-space:pre;overflow-x:auto;line-height:normal;font-family:Menlo,'DejaVu Sans Mono',consolas,'Courier New',monospace\">\n",
       "</pre>\n"
      ],
      "text/plain": [
       "\n"
      ]
     },
     "metadata": {},
     "output_type": "display_data"
    },
    {
     "data": {
      "text/plain": [
       "[{'val_loss': 5.958928108215332, 'val_loss_manual': 5.958928108215332}]"
      ]
     },
     "execution_count": 51,
     "metadata": {},
     "output_type": "execute_result"
    }
   ],
   "source": [
    "trainer.validate(\n",
    "    model=model,\n",
    "    dataloaders=validation_dataloader,\n",
    ")"
   ]
  },
  {
   "cell_type": "code",
   "execution_count": 52,
   "id": "97ee204b",
   "metadata": {},
   "outputs": [
    {
     "data": {
      "text/plain": [
       "TransformerModelModule(\n",
       "  (model): TransformerModel(\n",
       "    (embedding): Embedding(200, 4)\n",
       "    (input_ff): Linear(in_features=32, out_features=32, bias=True)\n",
       "    (input_ff_sigmoid): Sigmoid()\n",
       "    (transformer_encoder): TransformerEncoder(\n",
       "      (layers): ModuleList(\n",
       "        (0-1): 2 x TransformerEncoderLayer(\n",
       "          (self_attn): MultiheadAttention(\n",
       "            (out_proj): NonDynamicallyQuantizableLinear(in_features=32, out_features=32, bias=True)\n",
       "          )\n",
       "          (linear1): Linear(in_features=32, out_features=32, bias=True)\n",
       "          (dropout): Dropout(p=0.1, inplace=False)\n",
       "          (linear2): Linear(in_features=32, out_features=32, bias=True)\n",
       "          (norm1): LayerNorm((32,), eps=1e-05, elementwise_affine=True)\n",
       "          (norm2): LayerNorm((32,), eps=1e-05, elementwise_affine=True)\n",
       "          (dropout1): Dropout(p=0.1, inplace=False)\n",
       "          (dropout2): Dropout(p=0.1, inplace=False)\n",
       "        )\n",
       "      )\n",
       "    )\n",
       "    (final_linear): Linear(in_features=32, out_features=1, bias=True)\n",
       "  )\n",
       "  (criterion): L1Loss()\n",
       "  (validation_criterion): L1Loss()\n",
       ")"
      ]
     },
     "execution_count": 52,
     "metadata": {},
     "output_type": "execute_result"
    }
   ],
   "source": [
    "model"
   ]
  },
  {
   "cell_type": "markdown",
   "id": "e0117199",
   "metadata": {},
   "source": [
    "## Load saved checkpoint"
   ]
  },
  {
   "cell_type": "code",
   "execution_count": 53,
   "id": "732061b6",
   "metadata": {},
   "outputs": [
    {
     "data": {
      "text/plain": [
       "'/userhome/cs2/tsangsyf/optiver2023/florence/transformer_encoder_by_time_checkpoints/20240425_transformer_dupletstriplets/transformer-epoch=06-val_loss=5.9584-v1.ckpt'"
      ]
     },
     "execution_count": 53,
     "metadata": {},
     "output_type": "execute_result"
    }
   ],
   "source": [
    "checkpoint_callback.best_model_path"
   ]
  },
  {
   "cell_type": "code",
   "execution_count": 54,
   "id": "0979c3e7",
   "metadata": {},
   "outputs": [
    {
     "name": "stdout",
     "output_type": "stream",
     "text": [
      "/userhome/cs2/tsangsyf/optiver2023/florence/transformer_encoder_by_time_checkpoints/20240425_transformer_dupletstriplets/transformer-epoch=06-val_loss=5.9584-v1.ckpt\n"
     ]
    }
   ],
   "source": [
    "checkpoint_path = checkpoint_callback.best_model_path\n",
    "print(checkpoint_path)"
   ]
  },
  {
   "cell_type": "code",
   "execution_count": 55,
   "id": "d0c2aa87",
   "metadata": {},
   "outputs": [
    {
     "name": "stdout",
     "output_type": "stream",
     "text": [
      "TransformerModelModule(\n",
      "  (model): TransformerModel(\n",
      "    (embedding): Embedding(200, 4)\n",
      "    (input_ff): Linear(in_features=32, out_features=32, bias=True)\n",
      "    (input_ff_sigmoid): Sigmoid()\n",
      "    (transformer_encoder): TransformerEncoder(\n",
      "      (layers): ModuleList(\n",
      "        (0-1): 2 x TransformerEncoderLayer(\n",
      "          (self_attn): MultiheadAttention(\n",
      "            (out_proj): NonDynamicallyQuantizableLinear(in_features=32, out_features=32, bias=True)\n",
      "          )\n",
      "          (linear1): Linear(in_features=32, out_features=32, bias=True)\n",
      "          (dropout): Dropout(p=0.1, inplace=False)\n",
      "          (linear2): Linear(in_features=32, out_features=32, bias=True)\n",
      "          (norm1): LayerNorm((32,), eps=1e-05, elementwise_affine=True)\n",
      "          (norm2): LayerNorm((32,), eps=1e-05, elementwise_affine=True)\n",
      "          (dropout1): Dropout(p=0.1, inplace=False)\n",
      "          (dropout2): Dropout(p=0.1, inplace=False)\n",
      "        )\n",
      "      )\n",
      "    )\n",
      "    (final_linear): Linear(in_features=32, out_features=1, bias=True)\n",
      "  )\n",
      "  (criterion): L1Loss()\n",
      "  (validation_criterion): L1Loss()\n",
      ")\n"
     ]
    },
    {
     "name": "stderr",
     "output_type": "stream",
     "text": [
      "/userhome/cs2/tsangsyf/anaconda3_2/lib/python3.11/site-packages/lightning/pytorch/utilities/parsing.py:199: Attribute 'model' is an instance of `nn.Module` and is already saved during checkpointing. It is recommended to ignore them using `self.save_hyperparameters(ignore=['model'])`.\n",
      "/userhome/cs2/tsangsyf/anaconda3_2/lib/python3.11/site-packages/lightning/pytorch/utilities/parsing.py:199: Attribute 'criterion' is an instance of `nn.Module` and is already saved during checkpointing. It is recommended to ignore them using `self.save_hyperparameters(ignore=['criterion'])`.\n",
      "/userhome/cs2/tsangsyf/anaconda3_2/lib/python3.11/site-packages/lightning/pytorch/utilities/parsing.py:199: Attribute 'validation_criterion' is an instance of `nn.Module` and is already saved during checkpointing. It is recommended to ignore them using `self.save_hyperparameters(ignore=['validation_criterion'])`.\n"
     ]
    }
   ],
   "source": [
    "saved_model = TransformerModelModule.load_from_checkpoint(checkpoint_path)\n",
    "print(saved_model)"
   ]
  },
  {
   "cell_type": "code",
   "execution_count": 56,
   "id": "16e3a0d0",
   "metadata": {},
   "outputs": [
    {
     "name": "stdout",
     "output_type": "stream",
     "text": [
      "dict_keys(['epoch', 'global_step', 'pytorch-lightning_version', 'state_dict', 'loops', 'callbacks', 'optimizer_states', 'lr_schedulers', 'hparams_name', 'hyper_parameters'])\n",
      "odict_keys(['model.embedding.weight', 'model.input_ff.weight', 'model.input_ff.bias', 'model.transformer_encoder.layers.0.self_attn.in_proj_weight', 'model.transformer_encoder.layers.0.self_attn.in_proj_bias', 'model.transformer_encoder.layers.0.self_attn.out_proj.weight', 'model.transformer_encoder.layers.0.self_attn.out_proj.bias', 'model.transformer_encoder.layers.0.linear1.weight', 'model.transformer_encoder.layers.0.linear1.bias', 'model.transformer_encoder.layers.0.linear2.weight', 'model.transformer_encoder.layers.0.linear2.bias', 'model.transformer_encoder.layers.0.norm1.weight', 'model.transformer_encoder.layers.0.norm1.bias', 'model.transformer_encoder.layers.0.norm2.weight', 'model.transformer_encoder.layers.0.norm2.bias', 'model.transformer_encoder.layers.1.self_attn.in_proj_weight', 'model.transformer_encoder.layers.1.self_attn.in_proj_bias', 'model.transformer_encoder.layers.1.self_attn.out_proj.weight', 'model.transformer_encoder.layers.1.self_attn.out_proj.bias', 'model.transformer_encoder.layers.1.linear1.weight', 'model.transformer_encoder.layers.1.linear1.bias', 'model.transformer_encoder.layers.1.linear2.weight', 'model.transformer_encoder.layers.1.linear2.bias', 'model.transformer_encoder.layers.1.norm1.weight', 'model.transformer_encoder.layers.1.norm1.bias', 'model.transformer_encoder.layers.1.norm2.weight', 'model.transformer_encoder.layers.1.norm2.bias', 'model.final_linear.weight', 'model.final_linear.bias'])\n",
      "{'model': TransformerModel(\n",
      "  (embedding): Embedding(200, 4)\n",
      "  (input_ff): Linear(in_features=32, out_features=32, bias=True)\n",
      "  (input_ff_sigmoid): Sigmoid()\n",
      "  (transformer_encoder): TransformerEncoder(\n",
      "    (layers): ModuleList(\n",
      "      (0-1): 2 x TransformerEncoderLayer(\n",
      "        (self_attn): MultiheadAttention(\n",
      "          (out_proj): NonDynamicallyQuantizableLinear(in_features=32, out_features=32, bias=True)\n",
      "        )\n",
      "        (linear1): Linear(in_features=32, out_features=32, bias=True)\n",
      "        (dropout): Dropout(p=0.1, inplace=False)\n",
      "        (linear2): Linear(in_features=32, out_features=32, bias=True)\n",
      "        (norm1): LayerNorm((32,), eps=1e-05, elementwise_affine=True)\n",
      "        (norm2): LayerNorm((32,), eps=1e-05, elementwise_affine=True)\n",
      "        (dropout1): Dropout(p=0.1, inplace=False)\n",
      "        (dropout2): Dropout(p=0.1, inplace=False)\n",
      "      )\n",
      "    )\n",
      "  )\n",
      "  (final_linear): Linear(in_features=32, out_features=1, bias=True)\n",
      "), 'criterion': L1Loss(), 'validation_criterion': L1Loss(), 'lr': 0.001}\n"
     ]
    }
   ],
   "source": [
    "torch_checkpoint = torch.load(checkpoint_path)\n",
    "print(torch_checkpoint.keys())\n",
    "print(torch_checkpoint[\"state_dict\"].keys())\n",
    "print(torch_checkpoint[\"hyper_parameters\"])"
   ]
  },
  {
   "cell_type": "code",
   "execution_count": 57,
   "id": "a7f227ae",
   "metadata": {},
   "outputs": [
    {
     "name": "stderr",
     "output_type": "stream",
     "text": [
      "LOCAL_RANK: 0 - CUDA_VISIBLE_DEVICES: [0]\n"
     ]
    },
    {
     "data": {
      "application/vnd.jupyter.widget-view+json": {
       "model_id": "c1bce85370514bc19efae87ac6ff65ce",
       "version_major": 2,
       "version_minor": 0
      },
      "text/plain": [
       "Output()"
      ]
     },
     "metadata": {},
     "output_type": "display_data"
    },
    {
     "data": {
      "text/html": [
       "<pre style=\"white-space:pre;overflow-x:auto;line-height:normal;font-family:Menlo,'DejaVu Sans Mono',consolas,'Courier New',monospace\">┏━━━━━━━━━━━━━━━━━━━━━━━━━━━┳━━━━━━━━━━━━━━━━━━━━━━━━━━━┓\n",
       "┃<span style=\"font-weight: bold\">      Validate metric      </span>┃<span style=\"font-weight: bold\">       DataLoader 0        </span>┃\n",
       "┡━━━━━━━━━━━━━━━━━━━━━━━━━━━╇━━━━━━━━━━━━━━━━━━━━━━━━━━━┩\n",
       "│<span style=\"color: #008080; text-decoration-color: #008080\">         val_loss          </span>│<span style=\"color: #800080; text-decoration-color: #800080\">     5.958928108215332     </span>│\n",
       "│<span style=\"color: #008080; text-decoration-color: #008080\">      val_loss_manual      </span>│<span style=\"color: #800080; text-decoration-color: #800080\">     5.958928108215332     </span>│\n",
       "└───────────────────────────┴───────────────────────────┘\n",
       "</pre>\n"
      ],
      "text/plain": [
       "┏━━━━━━━━━━━━━━━━━━━━━━━━━━━┳━━━━━━━━━━━━━━━━━━━━━━━━━━━┓\n",
       "┃\u001b[1m \u001b[0m\u001b[1m     Validate metric     \u001b[0m\u001b[1m \u001b[0m┃\u001b[1m \u001b[0m\u001b[1m      DataLoader 0       \u001b[0m\u001b[1m \u001b[0m┃\n",
       "┡━━━━━━━━━━━━━━━━━━━━━━━━━━━╇━━━━━━━━━━━━━━━━━━━━━━━━━━━┩\n",
       "│\u001b[36m \u001b[0m\u001b[36m        val_loss         \u001b[0m\u001b[36m \u001b[0m│\u001b[35m \u001b[0m\u001b[35m    5.958928108215332    \u001b[0m\u001b[35m \u001b[0m│\n",
       "│\u001b[36m \u001b[0m\u001b[36m     val_loss_manual     \u001b[0m\u001b[36m \u001b[0m│\u001b[35m \u001b[0m\u001b[35m    5.958928108215332    \u001b[0m\u001b[35m \u001b[0m│\n",
       "└───────────────────────────┴───────────────────────────┘\n"
      ]
     },
     "metadata": {},
     "output_type": "display_data"
    },
    {
     "data": {
      "text/html": [
       "<pre style=\"white-space:pre;overflow-x:auto;line-height:normal;font-family:Menlo,'DejaVu Sans Mono',consolas,'Courier New',monospace\"></pre>\n"
      ],
      "text/plain": []
     },
     "metadata": {},
     "output_type": "display_data"
    },
    {
     "data": {
      "text/html": [
       "<pre style=\"white-space:pre;overflow-x:auto;line-height:normal;font-family:Menlo,'DejaVu Sans Mono',consolas,'Courier New',monospace\">\n",
       "</pre>\n"
      ],
      "text/plain": [
       "\n"
      ]
     },
     "metadata": {},
     "output_type": "display_data"
    },
    {
     "data": {
      "text/plain": [
       "[{'val_loss': 5.958928108215332, 'val_loss_manual': 5.958928108215332}]"
      ]
     },
     "execution_count": 57,
     "metadata": {},
     "output_type": "execute_result"
    }
   ],
   "source": [
    "saved_model.eval()\n",
    "trainer.validate(\n",
    "    model=model,\n",
    "    dataloaders=validation_dataloader,\n",
    ")"
   ]
  },
  {
   "cell_type": "code",
   "execution_count": null,
   "id": "b49f4c25",
   "metadata": {},
   "outputs": [],
   "source": []
  }
 ],
 "metadata": {
  "kernelspec": {
   "display_name": "Python 3 (ipykernel)",
   "language": "python",
   "name": "python3"
  },
  "language_info": {
   "codemirror_mode": {
    "name": "ipython",
    "version": 3
   },
   "file_extension": ".py",
   "mimetype": "text/x-python",
   "name": "python",
   "nbconvert_exporter": "python",
   "pygments_lexer": "ipython3",
   "version": "3.11.5"
  }
 },
 "nbformat": 4,
 "nbformat_minor": 5
}
