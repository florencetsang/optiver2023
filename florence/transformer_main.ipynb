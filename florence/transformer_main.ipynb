{
 "cells": [
  {
   "cell_type": "markdown",
   "metadata": {},
   "source": [
    "```\n",
    "Prediction task is (using the output of this method):\n",
    "    For stock 0 day 0 (i.e. dim 0 = index 0),\n",
    "    Input = Window size of 27 features (matrix of 10 * 27)\n",
    "    Output = Vector of window size (vector of size 10, representing target of window_start_idx --> window_start_idx + 10 - 1)\n",
    "    Target 0 --> only use window 0 - 0\n",
    "    Target 1 --> only use window 0 - 1\n",
    "    Target 9 --> use full window 0 - 9\n",
    "    This is achieved by using a squared source additive mask of the following (e.g. window = 3)\n",
    "    [0, -inf, -inf]\n",
    "    [0, 0,    -inf]\n",
    "    [0, 0,    0   ]\n",
    "```"
   ]
  },
  {
   "cell_type": "code",
   "execution_count": 1,
   "metadata": {},
   "outputs": [
    {
     "name": "stdout",
     "output_type": "stream",
     "text": [
      "Looking in indexes: https://download.pytorch.org/whl/cu118\n",
      "Requirement already satisfied: torch in /userhome/31/h3527234/anaconda3_2/lib/python3.11/site-packages (2.1.2+cu118)\n",
      "Requirement already satisfied: torchvision in /userhome/31/h3527234/anaconda3_2/lib/python3.11/site-packages (0.16.2+cu118)\n",
      "Requirement already satisfied: torchaudio in /userhome/31/h3527234/anaconda3_2/lib/python3.11/site-packages (2.1.2+cu118)\n",
      "Requirement already satisfied: filelock in /userhome/31/h3527234/anaconda3_2/lib/python3.11/site-packages (from torch) (3.9.0)\n",
      "Requirement already satisfied: typing-extensions in /userhome/31/h3527234/anaconda3_2/lib/python3.11/site-packages (from torch) (4.7.1)\n",
      "Requirement already satisfied: sympy in /userhome/31/h3527234/anaconda3_2/lib/python3.11/site-packages (from torch) (1.11.1)\n",
      "Requirement already satisfied: networkx in /userhome/31/h3527234/anaconda3_2/lib/python3.11/site-packages (from torch) (3.1)\n",
      "Requirement already satisfied: jinja2 in /userhome/31/h3527234/anaconda3_2/lib/python3.11/site-packages (from torch) (3.1.2)\n",
      "Requirement already satisfied: fsspec in /userhome/31/h3527234/anaconda3_2/lib/python3.11/site-packages (from torch) (2023.4.0)\n",
      "Requirement already satisfied: triton==2.1.0 in /userhome/31/h3527234/anaconda3_2/lib/python3.11/site-packages (from torch) (2.1.0)\n",
      "Requirement already satisfied: numpy in /userhome/31/h3527234/anaconda3_2/lib/python3.11/site-packages (from torchvision) (1.24.3)\n",
      "Requirement already satisfied: requests in /userhome/31/h3527234/anaconda3_2/lib/python3.11/site-packages (from torchvision) (2.31.0)\n",
      "Requirement already satisfied: pillow!=8.3.*,>=5.3.0 in /userhome/31/h3527234/anaconda3_2/lib/python3.11/site-packages (from torchvision) (9.4.0)\n",
      "Requirement already satisfied: MarkupSafe>=2.0 in /userhome/31/h3527234/anaconda3_2/lib/python3.11/site-packages (from jinja2->torch) (2.1.1)\n",
      "Requirement already satisfied: charset-normalizer<4,>=2 in /userhome/31/h3527234/anaconda3_2/lib/python3.11/site-packages (from requests->torchvision) (2.0.4)\n",
      "Requirement already satisfied: idna<4,>=2.5 in /userhome/31/h3527234/anaconda3_2/lib/python3.11/site-packages (from requests->torchvision) (3.4)\n",
      "Requirement already satisfied: urllib3<3,>=1.21.1 in /userhome/31/h3527234/anaconda3_2/lib/python3.11/site-packages (from requests->torchvision) (1.26.16)\n",
      "Requirement already satisfied: certifi>=2017.4.17 in /userhome/31/h3527234/anaconda3_2/lib/python3.11/site-packages (from requests->torchvision) (2023.7.22)\n",
      "Requirement already satisfied: mpmath>=0.19 in /userhome/31/h3527234/anaconda3_2/lib/python3.11/site-packages (from sympy->torch) (1.3.0)\n"
     ]
    }
   ],
   "source": [
    "!pip3 install torch torchvision torchaudio --index-url https://download.pytorch.org/whl/cu118"
   ]
  },
  {
   "cell_type": "code",
   "execution_count": 2,
   "metadata": {
    "tags": []
   },
   "outputs": [],
   "source": [
    "%load_ext autoreload\n",
    "%autoreload 2"
   ]
  },
  {
   "cell_type": "code",
   "execution_count": 3,
   "metadata": {},
   "outputs": [],
   "source": [
    "import math\n",
    "import os\n",
    "import time\n",
    "from tempfile import TemporaryDirectory\n",
    "\n",
    "import pandas as pd\n",
    "import numpy as np\n",
    "import matplotlib.pyplot as plt\n",
    "import torch\n",
    "from torch import nn\n",
    "\n",
    "import joblib \n",
    "\n",
    "from load_data import load_data_from_csv"
   ]
  },
  {
   "cell_type": "code",
   "execution_count": 4,
   "metadata": {},
   "outputs": [],
   "source": [
    "from data_preprocessor.data_preprocessor import CompositeDataPreprocessor, TimeSeriesDataPreprocessor\n",
    "from data_preprocessor.feature_engineering import EnrichDFDataPreprocessor, MovingAvgPreProcessor, RemoveIrrelevantFeaturesDataPreprocessor, AddStockDateIdxDataPreprocessor"
   ]
  },
  {
   "cell_type": "code",
   "execution_count": 5,
   "metadata": {},
   "outputs": [],
   "source": [
    "from transformer.transformer_model import TransformerModel\n",
    "from transformer.transformer_pipeline import TransformerPipeline"
   ]
  },
  {
   "cell_type": "code",
   "execution_count": 6,
   "metadata": {},
   "outputs": [],
   "source": [
    "from utils.ml_utils import NoopModelLogger, BasicModelLogger"
   ]
  },
  {
   "cell_type": "code",
   "execution_count": 7,
   "metadata": {},
   "outputs": [],
   "source": [
    "np.random.seed(42)"
   ]
  },
  {
   "cell_type": "code",
   "execution_count": 8,
   "metadata": {},
   "outputs": [
    {
     "name": "stdout",
     "output_type": "stream",
     "text": [
      "cuda\n"
     ]
    }
   ],
   "source": [
    "device = torch.device('cuda' if torch.cuda.is_available() else 'cpu')\n",
    "print(device)"
   ]
  },
  {
   "cell_type": "markdown",
   "metadata": {},
   "source": [
    "## Data preprocessing pipeline"
   ]
  },
  {
   "cell_type": "code",
   "execution_count": 9,
   "metadata": {},
   "outputs": [],
   "source": [
    "processors = [\n",
    "    EnrichDFDataPreprocessor(),\n",
    "    MovingAvgPreProcessor(\"wap\"),\n",
    "    RemoveIrrelevantFeaturesDataPreprocessor([\n",
    "        'row_id'\n",
    "    ]),\n",
    "    AddStockDateIdxDataPreprocessor()\n",
    "]\n",
    "processor = CompositeDataPreprocessor(processors)"
   ]
  },
  {
   "cell_type": "markdown",
   "metadata": {},
   "source": [
    "### Load data"
   ]
  },
  {
   "cell_type": "code",
   "execution_count": 10,
   "metadata": {},
   "outputs": [
    {
     "name": "stdout",
     "output_type": "stream",
     "text": [
      "Index(['stock_id', 'date_id', 'seconds_in_bucket', 'imbalance_size',\n",
      "       'imbalance_buy_sell_flag', 'reference_price', 'matched_size',\n",
      "       'far_price', 'near_price', 'bid_price', 'bid_size', 'ask_price',\n",
      "       'ask_size', 'wap', 'target', 'time_id', 'row_id'],\n",
      "      dtype='object')\n"
     ]
    }
   ],
   "source": [
    "# DATA_PATH = '/kaggle/input'\n",
    "DATA_PATH = '..'\n",
    "df_train, df_test, revealed_targets, sample_submission = load_data_from_csv(DATA_PATH)\n",
    "df_train_raw = df_train\n",
    "print(df_train.columns)"
   ]
  },
  {
   "cell_type": "markdown",
   "metadata": {},
   "source": [
    "### Pre-process data"
   ]
  },
  {
   "cell_type": "code",
   "execution_count": 11,
   "metadata": {},
   "outputs": [
    {
     "name": "stdout",
     "output_type": "stream",
     "text": [
      "(5237980, 29)\n",
      "Index(['stock_id', 'date_id', 'seconds_in_bucket', 'imbalance_size',\n",
      "       'imbalance_buy_sell_flag', 'reference_price', 'matched_size',\n",
      "       'far_price', 'near_price', 'bid_price', 'bid_size', 'ask_price',\n",
      "       'ask_size', 'wap', 'target', 'time_id', 'imb_s1', 'imb_s2',\n",
      "       'reference_price_ask_price_bid_price_imb2',\n",
      "       'reference_price_ask_price_wap_imb2',\n",
      "       'reference_price_bid_price_wap_imb2', 'ask_price_bid_price_wap_imb2',\n",
      "       'pressure', 'inefficiency', 'wap_mov_avg_3_1', 'wap_mov_avg_6_3',\n",
      "       'wap_mov_avg_12_6', 'wap_mov_avg_24_12', 'index_col_id'],\n",
      "      dtype='object')\n",
      "stock_id                                      int64\n",
      "date_id                                       int64\n",
      "seconds_in_bucket                             int64\n",
      "imbalance_size                              float64\n",
      "imbalance_buy_sell_flag                       int64\n",
      "reference_price                             float64\n",
      "matched_size                                float64\n",
      "far_price                                   float64\n",
      "near_price                                  float64\n",
      "bid_price                                   float64\n",
      "bid_size                                    float64\n",
      "ask_price                                   float64\n",
      "ask_size                                    float64\n",
      "wap                                         float64\n",
      "target                                      float64\n",
      "time_id                                       int64\n",
      "imb_s1                                      float64\n",
      "imb_s2                                      float64\n",
      "reference_price_ask_price_bid_price_imb2    float64\n",
      "reference_price_ask_price_wap_imb2          float64\n",
      "reference_price_bid_price_wap_imb2          float64\n",
      "ask_price_bid_price_wap_imb2                float64\n",
      "pressure                                    float64\n",
      "inefficiency                                float64\n",
      "wap_mov_avg_3_1                             float64\n",
      "wap_mov_avg_6_3                             float64\n",
      "wap_mov_avg_12_6                            float64\n",
      "wap_mov_avg_24_12                           float64\n",
      "index_col_id                                  int64\n",
      "dtype: object\n"
     ]
    },
    {
     "data": {
      "text/html": [
       "<div>\n",
       "<style scoped>\n",
       "    .dataframe tbody tr th:only-of-type {\n",
       "        vertical-align: middle;\n",
       "    }\n",
       "\n",
       "    .dataframe tbody tr th {\n",
       "        vertical-align: top;\n",
       "    }\n",
       "\n",
       "    .dataframe thead th {\n",
       "        text-align: right;\n",
       "    }\n",
       "</style>\n",
       "<table border=\"1\" class=\"dataframe\">\n",
       "  <thead>\n",
       "    <tr style=\"text-align: right;\">\n",
       "      <th></th>\n",
       "      <th>stock_id</th>\n",
       "      <th>date_id</th>\n",
       "      <th>seconds_in_bucket</th>\n",
       "      <th>imbalance_size</th>\n",
       "      <th>imbalance_buy_sell_flag</th>\n",
       "      <th>reference_price</th>\n",
       "      <th>matched_size</th>\n",
       "      <th>far_price</th>\n",
       "      <th>near_price</th>\n",
       "      <th>bid_price</th>\n",
       "      <th>...</th>\n",
       "      <th>reference_price_ask_price_wap_imb2</th>\n",
       "      <th>reference_price_bid_price_wap_imb2</th>\n",
       "      <th>ask_price_bid_price_wap_imb2</th>\n",
       "      <th>pressure</th>\n",
       "      <th>inefficiency</th>\n",
       "      <th>wap_mov_avg_3_1</th>\n",
       "      <th>wap_mov_avg_6_3</th>\n",
       "      <th>wap_mov_avg_12_6</th>\n",
       "      <th>wap_mov_avg_24_12</th>\n",
       "      <th>index_col_id</th>\n",
       "    </tr>\n",
       "  </thead>\n",
       "  <tbody>\n",
       "    <tr>\n",
       "      <th>5237975</th>\n",
       "      <td>195</td>\n",
       "      <td>480</td>\n",
       "      <td>540</td>\n",
       "      <td>2440722.89</td>\n",
       "      <td>-1</td>\n",
       "      <td>1.000317</td>\n",
       "      <td>28280361.74</td>\n",
       "      <td>0.999734</td>\n",
       "      <td>0.999734</td>\n",
       "      <td>1.000317</td>\n",
       "      <td>...</td>\n",
       "      <td>9.636364e+00</td>\n",
       "      <td>NaN</td>\n",
       "      <td>9.636364</td>\n",
       "      <td>75.664813</td>\n",
       "      <td>0.086305</td>\n",
       "      <td>1.000345</td>\n",
       "      <td>1.000305</td>\n",
       "      <td>1.000318</td>\n",
       "      <td>1.000202</td>\n",
       "      <td>480195</td>\n",
       "    </tr>\n",
       "    <tr>\n",
       "      <th>5237976</th>\n",
       "      <td>196</td>\n",
       "      <td>480</td>\n",
       "      <td>540</td>\n",
       "      <td>349510.47</td>\n",
       "      <td>-1</td>\n",
       "      <td>1.000643</td>\n",
       "      <td>9187699.11</td>\n",
       "      <td>1.000129</td>\n",
       "      <td>1.000386</td>\n",
       "      <td>1.000643</td>\n",
       "      <td>...</td>\n",
       "      <td>4.602273e-01</td>\n",
       "      <td>7.926335e+11</td>\n",
       "      <td>0.460227</td>\n",
       "      <td>1.704028</td>\n",
       "      <td>0.038041</td>\n",
       "      <td>1.000816</td>\n",
       "      <td>1.000710</td>\n",
       "      <td>1.000560</td>\n",
       "      <td>1.000506</td>\n",
       "      <td>480196</td>\n",
       "    </tr>\n",
       "    <tr>\n",
       "      <th>5237977</th>\n",
       "      <td>197</td>\n",
       "      <td>480</td>\n",
       "      <td>540</td>\n",
       "      <td>0.00</td>\n",
       "      <td>0</td>\n",
       "      <td>0.995789</td>\n",
       "      <td>12725436.10</td>\n",
       "      <td>0.995789</td>\n",
       "      <td>0.995789</td>\n",
       "      <td>0.995789</td>\n",
       "      <td>...</td>\n",
       "      <td>1.075000e+01</td>\n",
       "      <td>NaN</td>\n",
       "      <td>10.750000</td>\n",
       "      <td>0.000000</td>\n",
       "      <td>0.000000</td>\n",
       "      <td>0.995958</td>\n",
       "      <td>0.996070</td>\n",
       "      <td>0.996131</td>\n",
       "      <td>0.996436</td>\n",
       "      <td>480197</td>\n",
       "    </tr>\n",
       "    <tr>\n",
       "      <th>5237978</th>\n",
       "      <td>198</td>\n",
       "      <td>480</td>\n",
       "      <td>540</td>\n",
       "      <td>1000898.84</td>\n",
       "      <td>1</td>\n",
       "      <td>0.999210</td>\n",
       "      <td>94773271.05</td>\n",
       "      <td>0.999210</td>\n",
       "      <td>0.999210</td>\n",
       "      <td>0.998970</td>\n",
       "      <td>...</td>\n",
       "      <td>-1.099231e-12</td>\n",
       "      <td>5.315789e+00</td>\n",
       "      <td>5.315789</td>\n",
       "      <td>1.494117</td>\n",
       "      <td>0.010561</td>\n",
       "      <td>0.999116</td>\n",
       "      <td>0.999217</td>\n",
       "      <td>0.999305</td>\n",
       "      <td>0.999313</td>\n",
       "      <td>480198</td>\n",
       "    </tr>\n",
       "    <tr>\n",
       "      <th>5237979</th>\n",
       "      <td>199</td>\n",
       "      <td>480</td>\n",
       "      <td>540</td>\n",
       "      <td>1884285.71</td>\n",
       "      <td>-1</td>\n",
       "      <td>1.002129</td>\n",
       "      <td>24073677.32</td>\n",
       "      <td>1.000859</td>\n",
       "      <td>1.001494</td>\n",
       "      <td>1.002129</td>\n",
       "      <td>...</td>\n",
       "      <td>1.193103e+00</td>\n",
       "      <td>-6.530219e+11</td>\n",
       "      <td>1.193103</td>\n",
       "      <td>7.534688</td>\n",
       "      <td>0.078272</td>\n",
       "      <td>1.002083</td>\n",
       "      <td>1.002337</td>\n",
       "      <td>1.002156</td>\n",
       "      <td>1.001945</td>\n",
       "      <td>480199</td>\n",
       "    </tr>\n",
       "  </tbody>\n",
       "</table>\n",
       "<p>5 rows × 29 columns</p>\n",
       "</div>"
      ],
      "text/plain": [
       "         stock_id  date_id  seconds_in_bucket  imbalance_size  \\\n",
       "5237975       195      480                540      2440722.89   \n",
       "5237976       196      480                540       349510.47   \n",
       "5237977       197      480                540            0.00   \n",
       "5237978       198      480                540      1000898.84   \n",
       "5237979       199      480                540      1884285.71   \n",
       "\n",
       "         imbalance_buy_sell_flag  reference_price  matched_size  far_price  \\\n",
       "5237975                       -1         1.000317   28280361.74   0.999734   \n",
       "5237976                       -1         1.000643    9187699.11   1.000129   \n",
       "5237977                        0         0.995789   12725436.10   0.995789   \n",
       "5237978                        1         0.999210   94773271.05   0.999210   \n",
       "5237979                       -1         1.002129   24073677.32   1.000859   \n",
       "\n",
       "         near_price  bid_price  ...  reference_price_ask_price_wap_imb2  \\\n",
       "5237975    0.999734   1.000317  ...                        9.636364e+00   \n",
       "5237976    1.000386   1.000643  ...                        4.602273e-01   \n",
       "5237977    0.995789   0.995789  ...                        1.075000e+01   \n",
       "5237978    0.999210   0.998970  ...                       -1.099231e-12   \n",
       "5237979    1.001494   1.002129  ...                        1.193103e+00   \n",
       "\n",
       "         reference_price_bid_price_wap_imb2  ask_price_bid_price_wap_imb2  \\\n",
       "5237975                                 NaN                      9.636364   \n",
       "5237976                        7.926335e+11                      0.460227   \n",
       "5237977                                 NaN                     10.750000   \n",
       "5237978                        5.315789e+00                      5.315789   \n",
       "5237979                       -6.530219e+11                      1.193103   \n",
       "\n",
       "          pressure  inefficiency  wap_mov_avg_3_1  wap_mov_avg_6_3  \\\n",
       "5237975  75.664813      0.086305         1.000345         1.000305   \n",
       "5237976   1.704028      0.038041         1.000816         1.000710   \n",
       "5237977   0.000000      0.000000         0.995958         0.996070   \n",
       "5237978   1.494117      0.010561         0.999116         0.999217   \n",
       "5237979   7.534688      0.078272         1.002083         1.002337   \n",
       "\n",
       "         wap_mov_avg_12_6  wap_mov_avg_24_12  index_col_id  \n",
       "5237975          1.000318           1.000202        480195  \n",
       "5237976          1.000560           1.000506        480196  \n",
       "5237977          0.996131           0.996436        480197  \n",
       "5237978          0.999305           0.999313        480198  \n",
       "5237979          1.002156           1.001945        480199  \n",
       "\n",
       "[5 rows x 29 columns]"
      ]
     },
     "metadata": {},
     "output_type": "display_data"
    }
   ],
   "source": [
    "df_train = processor.apply(df_train)\n",
    "print(df_train.shape)\n",
    "print(df_train.columns)\n",
    "print(df_train.dtypes)\n",
    "display(df_train.tail())"
   ]
  },
  {
   "cell_type": "code",
   "execution_count": 12,
   "metadata": {},
   "outputs": [],
   "source": [
    "# temp nan handling\n",
    "df_train = df_train.fillna(0.0)"
   ]
  },
  {
   "cell_type": "code",
   "execution_count": 13,
   "metadata": {},
   "outputs": [
    {
     "name": "stdout",
     "output_type": "stream",
     "text": [
      "(95236, 55, 29)\n"
     ]
    }
   ],
   "source": [
    "time_series_data_preprocessor = TimeSeriesDataPreprocessor()\n",
    "train_data_arr = time_series_data_preprocessor.apply(df_train)\n",
    "print(train_data_arr.shape)"
   ]
  },
  {
   "cell_type": "code",
   "execution_count": 14,
   "metadata": {},
   "outputs": [
    {
     "name": "stdout",
     "output_type": "stream",
     "text": [
      "(95236, 55, 28)\n"
     ]
    }
   ],
   "source": [
    "time_series_irrelevant_features = [\"index_col_id\"]\n",
    "time_series_irrelevant_features_col_idx = np.isin(df_train.columns, time_series_irrelevant_features)\n",
    "train_data_arr = train_data_arr[:, :, ~time_series_irrelevant_features_col_idx]\n",
    "print(train_data_arr.shape)"
   ]
  },
  {
   "cell_type": "code",
   "execution_count": 15,
   "metadata": {},
   "outputs": [
    {
     "name": "stdout",
     "output_type": "stream",
     "text": [
      "14\n"
     ]
    }
   ],
   "source": [
    "target_col_idx = np.where(df_train.columns == \"target\")[0][0]\n",
    "print(target_col_idx)"
   ]
  },
  {
   "cell_type": "markdown",
   "metadata": {},
   "source": [
    "### Transformer"
   ]
  },
  {
   "cell_type": "markdown",
   "metadata": {},
   "source": [
    "### Run transformer"
   ]
  },
  {
   "cell_type": "code",
   "execution_count": 187,
   "metadata": {},
   "outputs": [],
   "source": [
    "batch_size = 20\n",
    "eval_batch_size = 10\n",
    "window_size = 55\n",
    "\n",
    "input_features = train_data_arr.shape[2] - 1\n",
    "d_model = 4  # attention dimension 32/64\n",
    "d_hid = 4  # feed-forward layer dimension after attention layer 32/64\n",
    "nlayers = 1  # number of ``nn.TransformerEncoderLayer`` in ``nn.TransformerEncoder``\n",
    "nhead = 2  # number of heads in ``nn.MultiheadAttention`` 4/8\n",
    "dropout = 0.2  # dropout probability\n",
    "\n",
    "epochs = 3\n",
    "lr = 5.0  # learning rate"
   ]
  },
  {
   "cell_type": "code",
   "execution_count": 188,
   "metadata": {},
   "outputs": [],
   "source": [
    "model = TransformerModel(input_features, d_model, nhead, d_hid, nlayers, dropout)"
   ]
  },
  {
   "cell_type": "code",
   "execution_count": 189,
   "metadata": {},
   "outputs": [],
   "source": [
    "criterion = nn.L1Loss()\n",
    "optimizer = torch.optim.SGD(model.parameters(), lr=lr)\n",
    "scheduler = torch.optim.lr_scheduler.StepLR(optimizer, 1.0, gamma=0.95)"
   ]
  },
  {
   "cell_type": "code",
   "execution_count": 190,
   "metadata": {},
   "outputs": [],
   "source": [
    "pipeline_logger = NoopModelLogger()\n",
    "train_logger = NoopModelLogger()\n",
    "eval_logger = NoopModelLogger()\n",
    "test_logger = NoopModelLogger()\n",
    "# test_logger = BasicModelLogger(\"transformer\")"
   ]
  },
  {
   "cell_type": "code",
   "execution_count": 191,
   "metadata": {},
   "outputs": [],
   "source": [
    "pipeline = TransformerPipeline(model, optimizer, criterion, pipeline_logger, train_logger, eval_logger, test_logger, device)"
   ]
  },
  {
   "cell_type": "code",
   "execution_count": 192,
   "metadata": {},
   "outputs": [],
   "source": [
    "# first_n_batches_only = 1\n",
    "first_n_batches_only = -1"
   ]
  },
  {
   "cell_type": "code",
   "execution_count": 193,
   "metadata": {},
   "outputs": [
    {
     "name": "stdout",
     "output_type": "stream",
     "text": [
      "-----------------------------------------------------------------------------------------\n",
      "| end of epoch   1 | time: 32.00s | train loss  6.41 | valid loss  6.43\n",
      "-----------------------------------------------------------------------------------------\n",
      "-----------------------------------------------------------------------------------------\n",
      "| end of epoch   2 | time: 31.81s | train loss  6.41 | valid loss  6.43\n",
      "-----------------------------------------------------------------------------------------\n",
      "-----------------------------------------------------------------------------------------\n",
      "| end of epoch   3 | time: 32.94s | train loss  6.41 | valid loss  6.44\n",
      "-----------------------------------------------------------------------------------------\n"
     ]
    }
   ],
   "source": [
    "with TemporaryDirectory() as tempdir:\n",
    "    best_model_params_path = os.path.join(tempdir, \"best_model_params.pt\")\n",
    "\n",
    "    for epoch_idx in range(1, epochs + 1):\n",
    "        epoch_start_time = time.time()\n",
    "\n",
    "        train_loss = pipeline.train_transformer(train_data_arr, target_col_idx, batch_size, first_n_batches_only=first_n_batches_only)\n",
    "\n",
    "        # TODO: change to validation set\n",
    "        val_loss = pipeline.evaluate_transformer(train_data_arr, target_col_idx, batch_size)\n",
    "        \n",
    "        elapsed = time.time() - epoch_start_time\n",
    "        print('-' * 89)\n",
    "        print(f'| end of epoch {epoch_idx:3d} | time: {elapsed:5.2f}s | '\n",
    "            f'train loss {train_loss:5.2f} | '\n",
    "            f'valid loss {val_loss:5.2f}')\n",
    "        print('-' * 89)\n",
    "\n",
    "        # if val_loss < best_val_loss:\n",
    "        #     best_val_loss = val_loss\n",
    "        #     torch.save(model.state_dict(), best_model_params_path)\n",
    "\n",
    "        scheduler.step()\n",
    "    # model.load_state_dict(torch.load(best_model_params_path)) # load best model states"
   ]
  },
  {
   "cell_type": "code",
   "execution_count": 194,
   "metadata": {
    "tags": []
   },
   "outputs": [
    {
     "name": "stdout",
     "output_type": "stream",
     "text": [
      "0.5715\n"
     ]
    }
   ],
   "source": [
    "test_input = np.ones((1, 10, 27), dtype=np.float32)\n",
    "test_output = pipeline.test_transformer(test_input)\n",
    "print(test_output)"
   ]
  },
  {
   "cell_type": "code",
   "execution_count": 97,
   "metadata": {
    "tags": []
   },
   "outputs": [
    {
     "name": "stdout",
     "output_type": "stream",
     "text": [
      "torch.Size([1, 10, 27])\n",
      "cuda:0\n",
      "cuda:0\n",
      "(1, 10, 4)\n",
      "[[[-0.08349273 -0.04848591 -0.44402292 -0.18492313]\n",
      "  [-0.08349273 -0.04848591 -0.44402292 -0.18492313]\n",
      "  [-0.08349273 -0.04848591 -0.44402292 -0.18492313]\n",
      "  [-0.08349273 -0.04848591 -0.44402292 -0.18492313]\n",
      "  [-0.08349273 -0.04848591 -0.44402292 -0.18492313]\n",
      "  [-0.08349273 -0.04848591 -0.44402292 -0.18492313]\n",
      "  [-0.08349273 -0.04848591 -0.44402292 -0.18492313]\n",
      "  [-0.08349273 -0.04848591 -0.44402292 -0.18492313]\n",
      "  [-0.08349273 -0.04848591 -0.44402292 -0.18492313]\n",
      "  [-0.08349273 -0.04848591 -0.44402292 -0.18492313]]]\n",
      "0.29023119807243347\n",
      "Parameter containing:\n",
      "tensor([0., 0., 0., 0.], device='cuda:0', requires_grad=True)\n",
      "tensor([-0.0472, -0.0472, -0.0472, -0.0472], device='cuda:0')\n",
      "Parameter containing:\n",
      "tensor([0.0024, 0.0024, 0.0024, 0.0024], device='cuda:0', requires_grad=True)\n",
      "tensor([-0.0472, -0.0472, -0.0472, -0.0472], device='cuda:0')\n"
     ]
    }
   ],
   "source": [
    "test_input = np.ones((1, 10, 27), dtype=np.float32)\n",
    "test_input = torch.from_numpy(test_input).to(device)\n",
    "exp_output = np.ones((1, 10, 4), dtype=np.float32) * 0.1\n",
    "exp_output = torch.from_numpy(exp_output).to(device)\n",
    "print(test_input.shape)\n",
    "print(test_input.device)\n",
    "layer = nn.Linear(27, 4).to(device)\n",
    "initrange = 0.1\n",
    "layer.bias.data.zero_()\n",
    "layer.weight.data.uniform_(-initrange, initrange)\n",
    "criterion = nn.L1Loss()\n",
    "optimizer = torch.optim.SGD(layer.parameters(), lr=0.05)\n",
    "output = layer(test_input)\n",
    "print(output.device)\n",
    "output_arr = output.detach().cpu().numpy()\n",
    "print(output_arr.shape)\n",
    "print(output_arr)\n",
    "loss = criterion(output, exp_output)\n",
    "print(loss.item())\n",
    "optimizer.zero_grad()\n",
    "loss.backward()\n",
    "torch.nn.utils.clip_grad_norm_(layer.parameters(), 0.5)\n",
    "print(layer.bias)\n",
    "print(layer.bias.grad)\n",
    "optimizer.step()\n",
    "print(layer.bias)\n",
    "print(layer.bias.grad)"
   ]
  },
  {
   "cell_type": "code",
   "execution_count": 25,
   "metadata": {
    "tags": []
   },
   "outputs": [
    {
     "name": "stdout",
     "output_type": "stream",
     "text": [
      "torch.Size([1, 10, 27])\n",
      "cuda:0\n",
      "cuda:0\n",
      "(1, 10, 27)\n",
      "[[[-1.0531951   0.26237547 -0.2205062  -0.09366804  0.8443889\n",
      "   -0.40777266 -0.5517922   1.8366932  -0.6029663  -0.00811083\n",
      "   -0.43278176  0.6012799  -0.05290572 -1.003386    1.643272\n",
      "    0.6413467  -1.5264015  -0.8164899  -0.5777112  -0.7960871\n",
      "    2.4972708  -0.5085025  -1.9703547   0.8720963   0.2825181\n",
      "    0.98318124  0.15820837]\n",
      "  [-1.0899979   0.48622718 -0.37410682  0.45900217  0.84799457\n",
      "   -0.51746345 -0.8156284   1.7392398   0.18157476 -0.7832901\n",
      "   -0.18742183  0.87744224 -0.39637813 -0.7242037   0.55665255\n",
      "    0.9680532  -1.4000664  -0.5899497  -0.24402978 -1.1308447\n",
      "    2.7416294  -1.0448083   0.23980479  1.1667427  -1.7359328\n",
      "    0.688326    0.08143301]\n",
      "  [-0.6490619   0.33597106 -0.21184339 -0.3084784   0.5654775\n",
      "   -0.4097036  -0.6132796   1.7852457   0.37223202 -0.74656236\n",
      "   -0.18406135  0.9443145  -0.41657957 -0.8498585   1.4588904\n",
      "    0.9307838  -1.2867061  -1.1388993  -0.22840178 -0.2200712\n",
      "    2.568572   -0.80192    -1.596417    1.1308168  -1.4218137\n",
      "    0.7491432   0.24221112]\n",
      "  [ 0.88352543  0.45165643 -0.14191464 -0.15999967  0.65089923\n",
      "   -0.34335646 -0.5377846   1.9224565  -0.67451024 -0.6491728\n",
      "   -0.12510525  0.01287863 -0.23824549 -0.9253669   0.5496157\n",
      "    0.84461457 -1.4427865  -0.69425887 -0.3587183  -0.18265623\n",
      "    2.7345028  -0.5940714  -1.6491258   1.1802377  -1.6890788\n",
      "    1.0401953   0.13556932]\n",
      "  [ 0.78651124  0.3702949  -0.33094862 -0.20174406  0.47784862\n",
      "   -0.39138368 -0.5332673   1.7323191  -0.6828451  -0.441581\n",
      "   -0.10671265  0.44574806 -0.3669444  -0.9206633   1.4672934\n",
      "    0.977299   -1.4153404  -0.6681127  -0.38657176 -0.8723084\n",
      "    2.4571044  -0.61480474 -1.5359917   1.0758618  -1.6257824\n",
      "    1.2350136   0.06970781]\n",
      "  [-0.5899103   0.54974735 -0.1173553  -0.02224336  0.99986714\n",
      "   -0.21667515 -0.8772919   2.164463   -0.56210816 -0.6900727\n",
      "    0.5612872   0.8566477   0.07700516 -0.88028353  1.9626627\n",
      "    1.0137098  -1.4118662  -0.72952735 -0.3224513  -0.68489206\n",
      "    0.30177397 -0.45672527 -1.805521    1.0096309  -1.6964357\n",
      "    1.3076744   0.2588891 ]\n",
      "  [-0.88134426  0.4362715  -0.09295551 -0.34145793  0.64453095\n",
      "   -0.37305492 -0.39873442  2.0330265  -0.8140302  -0.44074023\n",
      "   -0.11630391  0.507186   -0.25899974 -0.66960937  1.7562582\n",
      "    0.70805407 -0.72889245 -0.5652656  -0.19716534 -0.75337535\n",
      "    2.7703257  -0.76128834 -1.3693118   1.1286758  -1.6835581\n",
      "    0.10780928  0.35394987]\n",
      "  [-0.69842887  0.42192698 -0.3313029   1.0100287   0.8199075\n",
      "    0.15037425 -1.0385414   2.0192244  -0.64743125 -0.7819064\n",
      "   -0.23790334  0.76203007 -0.13893162 -1.0769017   1.7313215\n",
      "    0.763331   -0.20648003 -1.008134   -0.55575025 -0.247875\n",
      "    0.5064301  -0.527717   -1.9519781   1.0959743  -1.9198198\n",
      "    1.2491556   0.83939725]\n",
      "  [-0.5297044   0.46717718 -0.14273985 -0.33692554  0.59314036\n",
      "   -0.37373906 -0.4422279   1.9759643  -0.8214238  -0.46960273\n",
      "   -0.08809513  0.47167185 -0.28465292 -0.70446956  1.7258018\n",
      "    0.770028   -1.3411593  -0.53309727 -0.18569604 -0.15948366\n",
      "    2.7357733  -0.7716857  -1.4533355   1.1602235  -1.6479521\n",
      "    0.07069083  0.31551933]\n",
      "  [-0.65182775  0.56100965 -0.08502292 -0.2778057   0.81777966\n",
      "    0.11775262 -0.52363545  1.5835526  -0.84128064 -0.40679172\n",
      "   -0.19549814  0.5691629  -0.10516977 -0.79504436  0.79360604\n",
      "    0.971138   -1.394676   -0.5251758  -0.20860699 -0.15012833\n",
      "    2.9827044  -0.7821233  -1.7344772   0.56796765 -1.7113435\n",
      "    1.0210111   0.40292263]]]\n"
     ]
    },
    {
     "name": "stderr",
     "output_type": "stream",
     "text": [
      "/userhome/31/h3527234/anaconda3_2/lib/python3.11/site-packages/torch/nn/modules/transformer.py:282: UserWarning: enable_nested_tensor is True, but self.use_nested_tensor is False because encoder_layer.self_attn.num_heads is odd\n",
      "  warnings.warn(f\"enable_nested_tensor is True, but self.use_nested_tensor is False because {why_not_sparsity_fast_path}\")\n"
     ]
    }
   ],
   "source": [
    "test_input = np.ones((1, 10, 27), dtype=np.float32)\n",
    "test_input = torch.from_numpy(test_input).to(device)\n",
    "print(test_input.shape)\n",
    "print(test_input.device)\n",
    "from torch.nn import TransformerEncoder, TransformerEncoderLayer\n",
    "encoder_layers = TransformerEncoderLayer(27, 1, 4, 0.1, batch_first=True)\n",
    "transformer_encoder = TransformerEncoder(encoder_layers, 1).to(device)\n",
    "output = transformer_encoder(test_input)\n",
    "print(output.device)\n",
    "output = output.detach().cpu().numpy()\n",
    "print(output.shape)\n",
    "print(output)"
   ]
  },
  {
   "cell_type": "code",
   "execution_count": null,
   "metadata": {},
   "outputs": [],
   "source": []
  }
 ],
 "metadata": {
  "kernelspec": {
   "display_name": "Python 3 (ipykernel)",
   "language": "python",
   "name": "python3"
  },
  "language_info": {
   "codemirror_mode": {
    "name": "ipython",
    "version": 3
   },
   "file_extension": ".py",
   "mimetype": "text/x-python",
   "name": "python",
   "nbconvert_exporter": "python",
   "pygments_lexer": "ipython3",
   "version": "3.11.5"
  }
 },
 "nbformat": 4,
 "nbformat_minor": 4
}
