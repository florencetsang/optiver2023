{
 "cells": [
  {
   "cell_type": "markdown",
   "metadata": {},
   "source": [
    "<table>\n",
    "<tr>\n",
    "<td>V1 </td>\n",
    "<td>Simple feature engineering</td>\n",
    "<td>second</td>\n",
    "</tr>\n",
    "<tr>\n",
    "<td>V2 </td>\n",
    "<td>Add pressure and inefficiency</td>\n",
    "<td>second</td>\n",
    "</tr>    \n",
    "</table>\n",
    "\n"
   ]
  },
  {
   "cell_type": "markdown",
   "metadata": {},
   "source": [
    "| Version   |      Date      |  Score | Score 2\n",
    "|----------|:-------------:|------:|--:|\n",
    "| Baseline |  20240110 | 6.407770748115235 |\n",
    "| Imb, pressure, inefficiency |    20240110   |   6.302917211424277 ||\n",
    "| Add WAP 30 Moving average | 20240112 |  6.302853946841688  ||\n",
    "| Add WAP 60, 120, 240 Moving average | 20240112 |  6.3019380482507374 | 6.302636961287867 ||\n",
    "| Polynomial features | 20240222| 6.300027022932713|6.315463191662042|"
   ]
  },
  {
   "cell_type": "code",
   "execution_count": 1,
   "metadata": {
    "tags": []
   },
   "outputs": [],
   "source": [
    "%load_ext autoreload\n",
    "%autoreload 2"
   ]
  },
  {
   "cell_type": "code",
   "execution_count": 2,
   "metadata": {
    "tags": []
   },
   "outputs": [
    {
     "name": "stdout",
     "output_type": "stream",
     "text": [
      "Requirement already satisfied: lightgbm in /userhome/cs2/tsangsyf/anaconda3_2/lib/python3.11/site-packages (4.3.0)\n",
      "Requirement already satisfied: numpy in /userhome/cs2/tsangsyf/anaconda3_2/lib/python3.11/site-packages (from lightgbm) (1.24.3)\n",
      "Requirement already satisfied: scipy in /userhome/cs2/tsangsyf/anaconda3_2/lib/python3.11/site-packages (from lightgbm) (1.11.1)\n",
      "Requirement already satisfied: xgboost in /userhome/cs2/tsangsyf/anaconda3_2/lib/python3.11/site-packages (2.0.3)\n",
      "Requirement already satisfied: numpy in /userhome/cs2/tsangsyf/anaconda3_2/lib/python3.11/site-packages (from xgboost) (1.24.3)\n",
      "Requirement already satisfied: scipy in /userhome/cs2/tsangsyf/anaconda3_2/lib/python3.11/site-packages (from xgboost) (1.11.1)\n",
      "Requirement already satisfied: catboost in /userhome/cs2/tsangsyf/anaconda3_2/lib/python3.11/site-packages (1.2.2)\n",
      "Requirement already satisfied: graphviz in /userhome/cs2/tsangsyf/anaconda3_2/lib/python3.11/site-packages (from catboost) (0.20.1)\n",
      "Requirement already satisfied: matplotlib in /userhome/cs2/tsangsyf/anaconda3_2/lib/python3.11/site-packages (from catboost) (3.7.2)\n",
      "Requirement already satisfied: numpy>=1.16.0 in /userhome/cs2/tsangsyf/anaconda3_2/lib/python3.11/site-packages (from catboost) (1.24.3)\n",
      "Requirement already satisfied: pandas>=0.24 in /userhome/cs2/tsangsyf/anaconda3_2/lib/python3.11/site-packages (from catboost) (2.0.3)\n",
      "Requirement already satisfied: scipy in /userhome/cs2/tsangsyf/anaconda3_2/lib/python3.11/site-packages (from catboost) (1.11.1)\n",
      "Requirement already satisfied: plotly in /userhome/cs2/tsangsyf/anaconda3_2/lib/python3.11/site-packages (from catboost) (5.9.0)\n",
      "Requirement already satisfied: six in /userhome/cs2/tsangsyf/anaconda3_2/lib/python3.11/site-packages (from catboost) (1.16.0)\n",
      "Requirement already satisfied: python-dateutil>=2.8.2 in /userhome/cs2/tsangsyf/anaconda3_2/lib/python3.11/site-packages (from pandas>=0.24->catboost) (2.8.2)\n",
      "Requirement already satisfied: pytz>=2020.1 in /userhome/cs2/tsangsyf/anaconda3_2/lib/python3.11/site-packages (from pandas>=0.24->catboost) (2023.3.post1)\n",
      "Requirement already satisfied: tzdata>=2022.1 in /userhome/cs2/tsangsyf/anaconda3_2/lib/python3.11/site-packages (from pandas>=0.24->catboost) (2023.3)\n",
      "Requirement already satisfied: contourpy>=1.0.1 in /userhome/cs2/tsangsyf/anaconda3_2/lib/python3.11/site-packages (from matplotlib->catboost) (1.0.5)\n",
      "Requirement already satisfied: cycler>=0.10 in /userhome/cs2/tsangsyf/anaconda3_2/lib/python3.11/site-packages (from matplotlib->catboost) (0.11.0)\n",
      "Requirement already satisfied: fonttools>=4.22.0 in /userhome/cs2/tsangsyf/anaconda3_2/lib/python3.11/site-packages (from matplotlib->catboost) (4.25.0)\n",
      "Requirement already satisfied: kiwisolver>=1.0.1 in /userhome/cs2/tsangsyf/anaconda3_2/lib/python3.11/site-packages (from matplotlib->catboost) (1.4.4)\n",
      "Requirement already satisfied: packaging>=20.0 in /userhome/cs2/tsangsyf/anaconda3_2/lib/python3.11/site-packages (from matplotlib->catboost) (23.1)\n",
      "Requirement already satisfied: pillow>=6.2.0 in /userhome/cs2/tsangsyf/anaconda3_2/lib/python3.11/site-packages (from matplotlib->catboost) (9.4.0)\n",
      "Requirement already satisfied: pyparsing<3.1,>=2.3.1 in /userhome/cs2/tsangsyf/anaconda3_2/lib/python3.11/site-packages (from matplotlib->catboost) (3.0.9)\n",
      "Requirement already satisfied: tenacity>=6.2.0 in /userhome/cs2/tsangsyf/anaconda3_2/lib/python3.11/site-packages (from plotly->catboost) (8.2.2)\n"
     ]
    }
   ],
   "source": [
    "!pip install lightgbm\n",
    "!pip install xgboost\n",
    "!pip install catboost"
   ]
  },
  {
   "cell_type": "code",
   "execution_count": 3,
   "metadata": {
    "tags": []
   },
   "outputs": [],
   "source": [
    "import pandas as pd\n",
    "import numpy as np\n",
    "import matplotlib.pyplot as plt\n",
    "\n",
    "import joblib \n",
    "import os\n",
    "import sklearn \n",
    "\n",
    "from load_data import load_data_from_csv"
   ]
  },
  {
   "cell_type": "code",
   "execution_count": 4,
   "metadata": {
    "tags": []
   },
   "outputs": [],
   "source": [
    "from data_preprocessor.data_preprocessor import CompositeDataPreprocessor, ReduceMemUsageDataPreprocessor, FillNaPreProcessor\n",
    "from data_preprocessor.feature_engineering import EnrichDFDataPreprocessor, MovingAvgPreProcessor, RemoveIrrelevantFeaturesDataPreprocessor, DropTargetNADataPreprocessor\n",
    "from data_preprocessor.polynomial_features import PolynomialFeaturesPreProcessor"
   ]
  },
  {
   "cell_type": "code",
   "execution_count": 5,
   "metadata": {
    "tags": []
   },
   "outputs": [],
   "source": [
    "from data_generator.data_generator import DefaultTrainEvalDataGenerator, ManualKFoldDataGenerator\n",
    "\n",
    "from model_pipeline.lgb_pipeline import LGBModelPipelineFactory\n",
    "from model_pipeline.xgb_pipeline import XGBModelPipelineFactory\n",
    "from model_pipeline.cbt_pipeline import CatBoostModelPipelineFactory\n",
    "\n",
    "from model_post_processor.model_post_processor import CompositeModelPostProcessor, SaveModelPostProcessor\n",
    "\n",
    "from train_pipeline.train_pipeline import DefaultTrainPipeline\n",
    "\n",
    "from train_pipeline.train_pipeline_callbacks import MAECallback\n",
    "from utils.scoring_utils import ScoringUtils\n",
    "from model_pipeline.dummy_models import BaselineEstimator"
   ]
  },
  {
   "cell_type": "markdown",
   "metadata": {},
   "source": [
    "## Data preprocessing pipeline"
   ]
  },
  {
   "cell_type": "code",
   "execution_count": 6,
   "metadata": {
    "tags": []
   },
   "outputs": [],
   "source": [
    "processors = [    \n",
    "    ReduceMemUsageDataPreprocessor(verbose=True),\n",
    "    EnrichDFDataPreprocessor(),\n",
    "    MovingAvgPreProcessor(\"wap\"),    \n",
    "    DropTargetNADataPreprocessor(),    \n",
    "    RemoveIrrelevantFeaturesDataPreprocessor(['stock_id', 'date_id','time_id', 'row_id']),\n",
    "    FillNaPreProcessor(),\n",
    "    PolynomialFeaturesPreProcessor(),\n",
    "]\n",
    "processor = CompositeDataPreprocessor(processors)"
   ]
  },
  {
   "cell_type": "markdown",
   "metadata": {},
   "source": [
    "### Load data"
   ]
  },
  {
   "cell_type": "code",
   "execution_count": 7,
   "metadata": {
    "tags": []
   },
   "outputs": [
    {
     "name": "stdout",
     "output_type": "stream",
     "text": [
      "Index(['stock_id', 'date_id', 'seconds_in_bucket', 'imbalance_size',\n",
      "       'imbalance_buy_sell_flag', 'reference_price', 'matched_size',\n",
      "       'far_price', 'near_price', 'bid_price', 'bid_size', 'ask_price',\n",
      "       'ask_size', 'wap', 'target', 'time_id', 'row_id'],\n",
      "      dtype='object')\n"
     ]
    }
   ],
   "source": [
    "# DATA_PATH = '/kaggle/input'\n",
    "DATA_PATH = '..'\n",
    "df_train, df_test, revealed_targets, sample_submission = load_data_from_csv(DATA_PATH)\n",
    "print(df_train.columns)"
   ]
  },
  {
   "cell_type": "code",
   "execution_count": 8,
   "metadata": {
    "tags": []
   },
   "outputs": [
    {
     "data": {
      "text/plain": [
       "stock_id                     int64\n",
       "date_id                      int64\n",
       "seconds_in_bucket            int64\n",
       "imbalance_size             float64\n",
       "imbalance_buy_sell_flag      int64\n",
       "reference_price            float64\n",
       "matched_size               float64\n",
       "far_price                  float64\n",
       "near_price                 float64\n",
       "bid_price                  float64\n",
       "bid_size                   float64\n",
       "ask_price                  float64\n",
       "ask_size                   float64\n",
       "wap                        float64\n",
       "target                     float64\n",
       "time_id                      int64\n",
       "row_id                      object\n",
       "dtype: object"
      ]
     },
     "execution_count": 8,
     "metadata": {},
     "output_type": "execute_result"
    }
   ],
   "source": [
    "df_train.dtypes"
   ]
  },
  {
   "cell_type": "markdown",
   "metadata": {},
   "source": [
    "### Pre-process data"
   ]
  },
  {
   "cell_type": "code",
   "execution_count": 9,
   "metadata": {
    "tags": []
   },
   "outputs": [
    {
     "name": "stdout",
     "output_type": "stream",
     "text": [
      "Processing ReduceMemUsageDataPreprocessor...\n",
      "Memory usage of dataframe is 679.36 MB\n",
      "Memory usage after optimization is: 304.72 MB\n",
      "Decreased by 55.15%\n",
      "dtypes:\n",
      "stock_id                     int16\n",
      "date_id                      int16\n",
      "seconds_in_bucket            int16\n",
      "imbalance_size             float32\n",
      "imbalance_buy_sell_flag       int8\n",
      "reference_price            float32\n",
      "matched_size               float32\n",
      "far_price                  float32\n",
      "near_price                 float32\n",
      "bid_price                  float32\n",
      "bid_size                   float32\n",
      "ask_price                  float32\n",
      "ask_size                   float32\n",
      "wap                        float32\n",
      "target                     float32\n",
      "time_id                      int16\n",
      "row_id                      object\n",
      "dtype: object\n",
      "ReduceMemUsageDataPreprocessor took 0.34s. New df shape: (5237980, 17).\n",
      "Processing EnrichDFDataPreprocessor...\n",
      "EnrichDFDataPreprocessor took 10.73s. New df shape: (5237980, 25).\n",
      "Processing MovingAvgPreProcessor...\n",
      "MovingAvgPreProcessor took 28.46s. New df shape: (5237980, 29).\n",
      "Processing DropTargetNADataPreprocessor...\n",
      "DropTargetNADataPreprocessor took 0.63s. New df shape: (5237892, 29).\n",
      "Processing RemoveIrrelevantFeaturesDataPreprocessor...\n",
      "RemoveIrrelevantFeaturesDataPreprocessor took 0.27s. New df shape: (5237892, 25).\n",
      "Processing FillNaPreProcessor...\n",
      "FillNaPreProcessor took 0.47s. New df shape: (5237892, 25).\n",
      "Processing PolynomialFeaturesPreProcessor...\n",
      "PolynomialFeaturesPreProcessor took 29.80s. New df shape: (5237892, 152).\n",
      "5237892\n",
      "Index(['near_price ask_price', 'near_price ask_size', 'near_price wap',\n",
      "       'near_price imb_s1', 'near_price imb_s2',\n",
      "       'near_price reference_price_ask_price_bid_price_imb2',\n",
      "       'near_price reference_price_ask_price_wap_imb2',\n",
      "       'near_price reference_price_bid_price_wap_imb2',\n",
      "       'near_price ask_price_bid_price_wap_imb2', 'near_price pressure',\n",
      "       ...\n",
      "       'inefficiency wap_mov_avg_6_3', 'inefficiency wap_mov_avg_12_6',\n",
      "       'inefficiency wap_mov_avg_24_12', 'wap_mov_avg_3_1 wap_mov_avg_6_3',\n",
      "       'wap_mov_avg_3_1 wap_mov_avg_12_6', 'wap_mov_avg_3_1 wap_mov_avg_24_12',\n",
      "       'wap_mov_avg_6_3 wap_mov_avg_12_6', 'wap_mov_avg_6_3 wap_mov_avg_24_12',\n",
      "       'wap_mov_avg_12_6 wap_mov_avg_24_12', 'target'],\n",
      "      dtype='object', length=152)\n"
     ]
    },
    {
     "data": {
      "text/html": [
       "<div>\n",
       "<style scoped>\n",
       "    .dataframe tbody tr th:only-of-type {\n",
       "        vertical-align: middle;\n",
       "    }\n",
       "\n",
       "    .dataframe tbody tr th {\n",
       "        vertical-align: top;\n",
       "    }\n",
       "\n",
       "    .dataframe thead th {\n",
       "        text-align: right;\n",
       "    }\n",
       "</style>\n",
       "<table border=\"1\" class=\"dataframe\">\n",
       "  <thead>\n",
       "    <tr style=\"text-align: right;\">\n",
       "      <th></th>\n",
       "      <th>near_price ask_price</th>\n",
       "      <th>near_price ask_size</th>\n",
       "      <th>near_price wap</th>\n",
       "      <th>near_price imb_s1</th>\n",
       "      <th>near_price imb_s2</th>\n",
       "      <th>near_price reference_price_ask_price_bid_price_imb2</th>\n",
       "      <th>near_price reference_price_ask_price_wap_imb2</th>\n",
       "      <th>near_price reference_price_bid_price_wap_imb2</th>\n",
       "      <th>near_price ask_price_bid_price_wap_imb2</th>\n",
       "      <th>near_price pressure</th>\n",
       "      <th>...</th>\n",
       "      <th>inefficiency wap_mov_avg_6_3</th>\n",
       "      <th>inefficiency wap_mov_avg_12_6</th>\n",
       "      <th>inefficiency wap_mov_avg_24_12</th>\n",
       "      <th>wap_mov_avg_3_1 wap_mov_avg_6_3</th>\n",
       "      <th>wap_mov_avg_3_1 wap_mov_avg_12_6</th>\n",
       "      <th>wap_mov_avg_3_1 wap_mov_avg_24_12</th>\n",
       "      <th>wap_mov_avg_6_3 wap_mov_avg_12_6</th>\n",
       "      <th>wap_mov_avg_6_3 wap_mov_avg_24_12</th>\n",
       "      <th>wap_mov_avg_12_6 wap_mov_avg_24_12</th>\n",
       "      <th>target</th>\n",
       "    </tr>\n",
       "  </thead>\n",
       "  <tbody>\n",
       "    <tr>\n",
       "      <th>5237887</th>\n",
       "      <td>1.000168</td>\n",
       "      <td>319777.312500</td>\n",
       "      <td>1.000062</td>\n",
       "      <td>-0.816566</td>\n",
       "      <td>-0.840881</td>\n",
       "      <td>0.000000</td>\n",
       "      <td>9.671340</td>\n",
       "      <td>-46.987495</td>\n",
       "      <td>9.671340</td>\n",
       "      <td>75.644691</td>\n",
       "      <td>...</td>\n",
       "      <td>0.086331</td>\n",
       "      <td>0.086332</td>\n",
       "      <td>0.086322</td>\n",
       "      <td>1.000649</td>\n",
       "      <td>1.000662</td>\n",
       "      <td>1.000547</td>\n",
       "      <td>1.000622</td>\n",
       "      <td>1.000506</td>\n",
       "      <td>1.000519</td>\n",
       "      <td>2.310276</td>\n",
       "    </tr>\n",
       "    <tr>\n",
       "      <th>5237888</th>\n",
       "      <td>1.001286</td>\n",
       "      <td>93429.117188</td>\n",
       "      <td>1.001205</td>\n",
       "      <td>0.374398</td>\n",
       "      <td>-0.927064</td>\n",
       "      <td>0.000000</td>\n",
       "      <td>0.460882</td>\n",
       "      <td>0.000000</td>\n",
       "      <td>0.460882</td>\n",
       "      <td>1.704686</td>\n",
       "      <td>...</td>\n",
       "      <td>0.038068</td>\n",
       "      <td>0.038062</td>\n",
       "      <td>0.038060</td>\n",
       "      <td>1.001526</td>\n",
       "      <td>1.001376</td>\n",
       "      <td>1.001322</td>\n",
       "      <td>1.001270</td>\n",
       "      <td>1.001216</td>\n",
       "      <td>1.001066</td>\n",
       "      <td>-8.220077</td>\n",
       "    </tr>\n",
       "    <tr>\n",
       "      <th>5237889</th>\n",
       "      <td>0.991689</td>\n",
       "      <td>179280.171875</td>\n",
       "      <td>0.991604</td>\n",
       "      <td>-0.825896</td>\n",
       "      <td>-0.995789</td>\n",
       "      <td>1569.363403</td>\n",
       "      <td>10.811423</td>\n",
       "      <td>0.000000</td>\n",
       "      <td>10.811423</td>\n",
       "      <td>0.000000</td>\n",
       "      <td>...</td>\n",
       "      <td>0.000000</td>\n",
       "      <td>0.000000</td>\n",
       "      <td>0.000000</td>\n",
       "      <td>0.992044</td>\n",
       "      <td>0.992104</td>\n",
       "      <td>0.992409</td>\n",
       "      <td>0.992216</td>\n",
       "      <td>0.992520</td>\n",
       "      <td>0.992580</td>\n",
       "      <td>1.169443</td>\n",
       "    </tr>\n",
       "    <tr>\n",
       "      <th>5237890</th>\n",
       "      <td>0.998421</td>\n",
       "      <td>669363.812500</td>\n",
       "      <td>0.998219</td>\n",
       "      <td>-0.683613</td>\n",
       "      <td>-0.978325</td>\n",
       "      <td>0.000000</td>\n",
       "      <td>0.000000</td>\n",
       "      <td>5.337512</td>\n",
       "      <td>5.337512</td>\n",
       "      <td>1.492937</td>\n",
       "      <td>...</td>\n",
       "      <td>0.010553</td>\n",
       "      <td>0.010554</td>\n",
       "      <td>0.010554</td>\n",
       "      <td>0.998334</td>\n",
       "      <td>0.998422</td>\n",
       "      <td>0.998429</td>\n",
       "      <td>0.998523</td>\n",
       "      <td>0.998531</td>\n",
       "      <td>0.998618</td>\n",
       "      <td>-1.540184</td>\n",
       "    </tr>\n",
       "    <tr>\n",
       "      <th>5237891</th>\n",
       "      <td>1.003945</td>\n",
       "      <td>300616.031250</td>\n",
       "      <td>1.003772</td>\n",
       "      <td>-0.091160</td>\n",
       "      <td>-0.856097</td>\n",
       "      <td>-1336.994507</td>\n",
       "      <td>1.192255</td>\n",
       "      <td>1217.816772</td>\n",
       "      <td>1.192255</td>\n",
       "      <td>7.545946</td>\n",
       "      <td>...</td>\n",
       "      <td>0.078455</td>\n",
       "      <td>0.078440</td>\n",
       "      <td>0.078424</td>\n",
       "      <td>1.004425</td>\n",
       "      <td>1.004243</td>\n",
       "      <td>1.004032</td>\n",
       "      <td>1.004498</td>\n",
       "      <td>1.004287</td>\n",
       "      <td>1.004105</td>\n",
       "      <td>-6.530285</td>\n",
       "    </tr>\n",
       "  </tbody>\n",
       "</table>\n",
       "<p>5 rows × 152 columns</p>\n",
       "</div>"
      ],
      "text/plain": [
       "         near_price ask_price  near_price ask_size  near_price wap  \\\n",
       "5237887              1.000168        319777.312500        1.000062   \n",
       "5237888              1.001286         93429.117188        1.001205   \n",
       "5237889              0.991689        179280.171875        0.991604   \n",
       "5237890              0.998421        669363.812500        0.998219   \n",
       "5237891              1.003945        300616.031250        1.003772   \n",
       "\n",
       "         near_price imb_s1  near_price imb_s2  \\\n",
       "5237887          -0.816566          -0.840881   \n",
       "5237888           0.374398          -0.927064   \n",
       "5237889          -0.825896          -0.995789   \n",
       "5237890          -0.683613          -0.978325   \n",
       "5237891          -0.091160          -0.856097   \n",
       "\n",
       "         near_price reference_price_ask_price_bid_price_imb2  \\\n",
       "5237887                                           0.000000     \n",
       "5237888                                           0.000000     \n",
       "5237889                                        1569.363403     \n",
       "5237890                                           0.000000     \n",
       "5237891                                       -1336.994507     \n",
       "\n",
       "         near_price reference_price_ask_price_wap_imb2  \\\n",
       "5237887                                       9.671340   \n",
       "5237888                                       0.460882   \n",
       "5237889                                      10.811423   \n",
       "5237890                                       0.000000   \n",
       "5237891                                       1.192255   \n",
       "\n",
       "         near_price reference_price_bid_price_wap_imb2  \\\n",
       "5237887                                     -46.987495   \n",
       "5237888                                       0.000000   \n",
       "5237889                                       0.000000   \n",
       "5237890                                       5.337512   \n",
       "5237891                                    1217.816772   \n",
       "\n",
       "         near_price ask_price_bid_price_wap_imb2  near_price pressure  ...  \\\n",
       "5237887                                 9.671340            75.644691  ...   \n",
       "5237888                                 0.460882             1.704686  ...   \n",
       "5237889                                10.811423             0.000000  ...   \n",
       "5237890                                 5.337512             1.492937  ...   \n",
       "5237891                                 1.192255             7.545946  ...   \n",
       "\n",
       "         inefficiency wap_mov_avg_6_3  inefficiency wap_mov_avg_12_6  \\\n",
       "5237887                      0.086331                       0.086332   \n",
       "5237888                      0.038068                       0.038062   \n",
       "5237889                      0.000000                       0.000000   \n",
       "5237890                      0.010553                       0.010554   \n",
       "5237891                      0.078455                       0.078440   \n",
       "\n",
       "         inefficiency wap_mov_avg_24_12  wap_mov_avg_3_1 wap_mov_avg_6_3  \\\n",
       "5237887                        0.086322                         1.000649   \n",
       "5237888                        0.038060                         1.001526   \n",
       "5237889                        0.000000                         0.992044   \n",
       "5237890                        0.010554                         0.998334   \n",
       "5237891                        0.078424                         1.004425   \n",
       "\n",
       "         wap_mov_avg_3_1 wap_mov_avg_12_6  wap_mov_avg_3_1 wap_mov_avg_24_12  \\\n",
       "5237887                          1.000662                           1.000547   \n",
       "5237888                          1.001376                           1.001322   \n",
       "5237889                          0.992104                           0.992409   \n",
       "5237890                          0.998422                           0.998429   \n",
       "5237891                          1.004243                           1.004032   \n",
       "\n",
       "         wap_mov_avg_6_3 wap_mov_avg_12_6  wap_mov_avg_6_3 wap_mov_avg_24_12  \\\n",
       "5237887                          1.000622                           1.000506   \n",
       "5237888                          1.001270                           1.001216   \n",
       "5237889                          0.992216                           0.992520   \n",
       "5237890                          0.998523                           0.998531   \n",
       "5237891                          1.004498                           1.004287   \n",
       "\n",
       "         wap_mov_avg_12_6 wap_mov_avg_24_12    target  \n",
       "5237887                            1.000519  2.310276  \n",
       "5237888                            1.001066 -8.220077  \n",
       "5237889                            0.992580  1.169443  \n",
       "5237890                            0.998618 -1.540184  \n",
       "5237891                            1.004105 -6.530285  \n",
       "\n",
       "[5 rows x 152 columns]"
      ]
     },
     "metadata": {},
     "output_type": "display_data"
    }
   ],
   "source": [
    "df_train = processor.apply(df_train)\n",
    "print(df_train.shape[0])\n",
    "print(df_train.columns)\n",
    "display(df_train.tail())"
   ]
  },
  {
   "cell_type": "code",
   "execution_count": 10,
   "metadata": {
    "tags": []
   },
   "outputs": [
    {
     "data": {
      "text/html": [
       "<div>\n",
       "<style scoped>\n",
       "    .dataframe tbody tr th:only-of-type {\n",
       "        vertical-align: middle;\n",
       "    }\n",
       "\n",
       "    .dataframe tbody tr th {\n",
       "        vertical-align: top;\n",
       "    }\n",
       "\n",
       "    .dataframe thead th {\n",
       "        text-align: right;\n",
       "    }\n",
       "</style>\n",
       "<table border=\"1\" class=\"dataframe\">\n",
       "  <thead>\n",
       "    <tr style=\"text-align: right;\">\n",
       "      <th></th>\n",
       "      <th>a</th>\n",
       "      <th>b</th>\n",
       "      <th>c</th>\n",
       "    </tr>\n",
       "  </thead>\n",
       "  <tbody>\n",
       "    <tr>\n",
       "      <th>0</th>\n",
       "      <td>1</td>\n",
       "      <td>2</td>\n",
       "      <td>3</td>\n",
       "    </tr>\n",
       "    <tr>\n",
       "      <th>1</th>\n",
       "      <td>10</td>\n",
       "      <td>20</td>\n",
       "      <td>30</td>\n",
       "    </tr>\n",
       "  </tbody>\n",
       "</table>\n",
       "</div>"
      ],
      "text/plain": [
       "    a   b   c\n",
       "0   1   2   3\n",
       "1  10  20  30"
      ]
     },
     "execution_count": 10,
     "metadata": {},
     "output_type": "execute_result"
    }
   ],
   "source": [
    "data = [{'a': 1, 'b': 2, 'c': 3},\n",
    "        {'a': 10, 'b': 20, 'c': 30}]\n",
    " \n",
    "# Creates DataFrame.\n",
    "df = pd.DataFrame(data)\n",
    "df"
   ]
  },
  {
   "cell_type": "code",
   "execution_count": 11,
   "metadata": {
    "tags": []
   },
   "outputs": [
    {
     "data": {
      "text/plain": [
       "150"
      ]
     },
     "execution_count": 11,
     "metadata": {},
     "output_type": "execute_result"
    }
   ],
   "source": [
    "int(301/2)"
   ]
  },
  {
   "cell_type": "code",
   "execution_count": 12,
   "metadata": {
    "tags": []
   },
   "outputs": [
    {
     "data": {
      "text/plain": [
       "(2, 7)"
      ]
     },
     "execution_count": 12,
     "metadata": {},
     "output_type": "execute_result"
    }
   ],
   "source": [
    "from sklearn.preprocessing import PolynomialFeatures\n",
    "poly = PolynomialFeatures(2, interaction_only=True)\n",
    "df = poly.fit_transform(df).astype(\"float32\")\n",
    "df.shape"
   ]
  },
  {
   "cell_type": "markdown",
   "metadata": {},
   "source": [
    "## Train"
   ]
  },
  {
   "cell_type": "code",
   "execution_count": 13,
   "metadata": {},
   "outputs": [
    {
     "name": "stderr",
     "output_type": "stream",
     "text": [
      "mkdir: cannot create directory ‘models’: File exists\n"
     ]
    },
    {
     "data": {
      "text/plain": [
       "256"
      ]
     },
     "execution_count": 13,
     "metadata": {},
     "output_type": "execute_result"
    }
   ],
   "source": [
    "os.system('mkdir models')"
   ]
  },
  {
   "cell_type": "code",
   "execution_count": 14,
   "metadata": {},
   "outputs": [],
   "source": [
    "N_fold = 5\n",
    "model_save_dir = './models/'"
   ]
  },
  {
   "cell_type": "code",
   "execution_count": 15,
   "metadata": {},
   "outputs": [],
   "source": [
    "default_data_generator = DefaultTrainEvalDataGenerator()\n",
    "k_fold_data_generator = ManualKFoldDataGenerator(n_fold=N_fold)"
   ]
  },
  {
   "cell_type": "code",
   "execution_count": 16,
   "metadata": {},
   "outputs": [],
   "source": [
    "model_post_processor = CompositeModelPostProcessor([\n",
    "    SaveModelPostProcessor(save_dir=model_save_dir)\n",
    "])"
   ]
  },
  {
   "cell_type": "code",
   "execution_count": 17,
   "metadata": {},
   "outputs": [],
   "source": [
    "lgb_pipeline = DefaultTrainPipeline(LGBModelPipelineFactory(), k_fold_data_generator, model_post_processor, [MAECallback()])"
   ]
  },
  {
   "cell_type": "code",
   "execution_count": 18,
   "metadata": {},
   "outputs": [
    {
     "name": "stdout",
     "output_type": "stream",
     "text": [
      "generate data\n",
      "start training, num_train_eval_sets: 5\n",
      "Training fold 0 - start\n",
      "Training fold 0 - initialized\n",
      "Training fold 0 - train size: (4190313, 152), eval size: (1047579, 152)\n",
      "Training fold 0 - start training\n",
      "[LightGBM] [Info] Auto-choosing col-wise multi-threading, the overhead of testing was 3.659221 seconds.\n",
      "You can set `force_col_wise=true` to remove the overhead.\n",
      "[LightGBM] [Info] Total Bins 38505\n",
      "[LightGBM] [Info] Number of data points in the train set: 4190313, number of used features: 151\n",
      "[LightGBM] [Info] Start training from score -0.060201\n",
      "Training until validation scores don't improve for 100 rounds\n",
      "Did not meet early stopping. Best iteration is:\n",
      "[50]\tvalid_0's l1: 6.41505\n",
      "Training fold 0 - finished training\n",
      "Training fold 0 - finished post processing\n",
      "Training fold 0 - end\n",
      "Training fold 1 - start\n",
      "Training fold 1 - initialized\n",
      "Training fold 1 - train size: (4190313, 152), eval size: (1047579, 152)\n",
      "Training fold 1 - start training\n",
      "[LightGBM] [Info] Auto-choosing col-wise multi-threading, the overhead of testing was 3.077801 seconds.\n",
      "You can set `force_col_wise=true` to remove the overhead.\n",
      "[LightGBM] [Info] Total Bins 38505\n",
      "[LightGBM] [Info] Number of data points in the train set: 4190313, number of used features: 151\n",
      "[LightGBM] [Info] Start training from score -0.069737\n",
      "Training until validation scores don't improve for 100 rounds\n",
      "Did not meet early stopping. Best iteration is:\n",
      "[50]\tvalid_0's l1: 6.26587\n",
      "Training fold 1 - finished training\n",
      "Training fold 1 - finished post processing\n",
      "Training fold 1 - end\n",
      "Training fold 2 - start\n",
      "Training fold 2 - initialized\n",
      "Training fold 2 - train size: (4190314, 152), eval size: (1047578, 152)\n",
      "Training fold 2 - start training\n",
      "[LightGBM] [Info] Auto-choosing col-wise multi-threading, the overhead of testing was 2.582299 seconds.\n",
      "You can set `force_col_wise=true` to remove the overhead.\n",
      "[LightGBM] [Info] Total Bins 38505\n",
      "[LightGBM] [Info] Number of data points in the train set: 4190314, number of used features: 151\n",
      "[LightGBM] [Info] Start training from score -0.050068\n",
      "Training until validation scores don't improve for 100 rounds\n",
      "Did not meet early stopping. Best iteration is:\n",
      "[50]\tvalid_0's l1: 6.21369\n",
      "Training fold 2 - finished training\n",
      "Training fold 2 - finished post processing\n",
      "Training fold 2 - end\n",
      "Training fold 3 - start\n",
      "Training fold 3 - initialized\n",
      "Training fold 3 - train size: (4190314, 152), eval size: (1047578, 152)\n",
      "Training fold 3 - start training\n",
      "[LightGBM] [Info] Auto-choosing col-wise multi-threading, the overhead of testing was 2.718465 seconds.\n",
      "You can set `force_col_wise=true` to remove the overhead.\n",
      "[LightGBM] [Info] Total Bins 38505\n",
      "[LightGBM] [Info] Number of data points in the train set: 4190314, number of used features: 151\n",
      "[LightGBM] [Info] Start training from score -0.060201\n",
      "Training until validation scores don't improve for 100 rounds\n",
      "Did not meet early stopping. Best iteration is:\n",
      "[50]\tvalid_0's l1: 6.27848\n",
      "Training fold 3 - finished training\n",
      "Training fold 3 - finished post processing\n",
      "Training fold 3 - end\n",
      "Training fold 4 - start\n",
      "Training fold 4 - initialized\n",
      "Training fold 4 - train size: (4190314, 152), eval size: (1047578, 152)\n",
      "Training fold 4 - start training\n",
      "[LightGBM] [Info] Auto-choosing col-wise multi-threading, the overhead of testing was 2.839673 seconds.\n",
      "You can set `force_col_wise=true` to remove the overhead.\n",
      "[LightGBM] [Info] Total Bins 38505\n",
      "[LightGBM] [Info] Number of data points in the train set: 4190314, number of used features: 151\n",
      "[LightGBM] [Info] Start training from score -0.060201\n",
      "Training until validation scores don't improve for 100 rounds\n",
      "Did not meet early stopping. Best iteration is:\n",
      "[50]\tvalid_0's l1: 6.40424\n",
      "Training fold 4 - finished training\n",
      "Training fold 4 - finished post processing\n",
      "Training fold 4 - end\n",
      "finished training, num_train_eval_sets: 5\n"
     ]
    }
   ],
   "source": [
    "lgb_models, lgb_model_res, lgb_train_dfs, lgb_eval_dfs, lgb_num_train_eval_sets, lgb_callback_results = lgb_pipeline.train(df_train)"
   ]
  },
  {
   "cell_type": "code",
   "execution_count": 19,
   "metadata": {},
   "outputs": [
    {
     "name": "stdout",
     "output_type": "stream",
     "text": [
      "6.315463191662042\n"
     ]
    }
   ],
   "source": [
    "lgb_avg_mae = ScoringUtils.calculate_mae(lgb_models, lgb_eval_dfs)\n",
    "print(lgb_avg_mae)"
   ]
  },
  {
   "cell_type": "code",
   "execution_count": 20,
   "metadata": {},
   "outputs": [
    {
     "name": "stdout",
     "output_type": "stream",
     "text": [
      "6.40777074786513\n"
     ]
    }
   ],
   "source": [
    "baseline_avg_mae = ScoringUtils.calculate_mae([BaselineEstimator()], [df_train])\n",
    "print(baseline_avg_mae)"
   ]
  },
  {
   "cell_type": "markdown",
   "metadata": {},
   "source": [
    "# Load"
   ]
  },
  {
   "cell_type": "code",
   "execution_count": null,
   "metadata": {},
   "outputs": [],
   "source": [
    "models = []"
   ]
  },
  {
   "cell_type": "code",
   "execution_count": null,
   "metadata": {},
   "outputs": [],
   "source": [
    "def load(modelname, fold):\n",
    "    models.append(joblib.load(f'models/{modelname}_{fold}.model'))"
   ]
  },
  {
   "cell_type": "code",
   "execution_count": null,
   "metadata": {},
   "outputs": [],
   "source": [
    "for i in range (0, 5):\n",
    "    load('lgb', i)\n",
    "    # load('xgb', i)\n",
    "    # load('cbt', i)"
   ]
  },
  {
   "cell_type": "code",
   "execution_count": null,
   "metadata": {},
   "outputs": [],
   "source": [
    "models"
   ]
  },
  {
   "cell_type": "markdown",
   "metadata": {},
   "source": [
    "# Submit"
   ]
  },
  {
   "cell_type": "code",
   "execution_count": null,
   "metadata": {},
   "outputs": [],
   "source": [
    "import optiver2023\n",
    "env = optiver2023.make_env()\n",
    "iter_test = env.iter_test()"
   ]
  },
  {
   "cell_type": "code",
   "execution_count": null,
   "metadata": {},
   "outputs": [],
   "source": [
    "test_processors = [\n",
    "    EnrichDFDataPreprocessor(),\n",
    "    RemoveIrrelevantFeaturesDataPreprocessor(['stock_id', 'date_id','time_id', 'row_id'])    \n",
    "]\n",
    "test_processor = CompositeDataPreprocessor(processors)"
   ]
  },
  {
   "cell_type": "code",
   "execution_count": null,
   "metadata": {},
   "outputs": [],
   "source": [
    "counter = 0\n",
    "cache = pd.DataFrame()\n",
    "\n",
    "for (test, revealed_targets, sample_prediction) in iter_test:\n",
    "    test_ = processor.apply(test)\n",
    "    cache = pd.concat([cache, test_], ignore_index=True, axis=0)  \n",
    "    sample_prediction['target'] = np.mean([model.predict(test_) for model in models], 0)\n",
    "    env.predict(sample_prediction)\n",
    "    counter += 1"
   ]
  },
  {
   "cell_type": "code",
   "execution_count": null,
   "metadata": {},
   "outputs": [],
   "source": [
    "# sample_prediction['target'] = 0\n",
    "# env.predict(sample_prediction)"
   ]
  },
  {
   "cell_type": "code",
   "execution_count": null,
   "metadata": {
    "tags": []
   },
   "outputs": [],
   "source": [
    "# counter = 0\n",
    "# # sample_prediction['target'] = 0\n",
    "# # env.predict(sample_prediction)\n",
    "# for (test, revealed_targets, sample_prediction) in iter_test:\n",
    "# #     print(test.shape)\n",
    "#     test_ = enrich_df_with_features(test)[features]\n",
    "# #     print(test_.shape)\n",
    "# #     print(len(features))\n",
    "# #     print(len(test_))\n",
    "#     sample_prediction['target'] = np.mean([model.predict(test_) for model in models], 0)\n",
    "#     env.predict(sample_prediction)\n",
    "#     counter += 1"
   ]
  }
 ],
 "metadata": {
  "kernelspec": {
   "display_name": "Python 3 (ipykernel)",
   "language": "python",
   "name": "python3"
  },
  "language_info": {
   "codemirror_mode": {
    "name": "ipython",
    "version": 3
   },
   "file_extension": ".py",
   "mimetype": "text/x-python",
   "name": "python",
   "nbconvert_exporter": "python",
   "pygments_lexer": "ipython3",
   "version": "3.11.5"
  }
 },
 "nbformat": 4,
 "nbformat_minor": 4
}
